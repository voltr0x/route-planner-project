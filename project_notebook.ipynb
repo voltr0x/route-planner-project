{
 "cells": [
  {
   "cell_type": "markdown",
   "metadata": {
    "collapsed": true,
    "jupyter": {
     "outputs_hidden": true
    }
   },
   "source": [
    "# Implementing a Route Planner\n",
    "In this project you will use A\\* search to implement a \"Google-maps\" style route planning algorithm."
   ]
  },
  {
   "cell_type": "markdown",
   "metadata": {},
   "source": [
    "## The Map"
   ]
  },
  {
   "cell_type": "code",
   "execution_count": 4,
   "metadata": {},
   "outputs": [
    {
     "name": "stdout",
     "output_type": "stream",
     "text": [
      "The autoreload extension is already loaded. To reload it, use:\n",
      "  %reload_ext autoreload\n"
     ]
    }
   ],
   "source": [
    "# Load maps through the helper function\n",
    "\n",
    "from helpers import Map, load_map_10, load_map_40, show_map\n",
    "import math\n",
    "\n",
    "%load_ext autoreload\n",
    "%autoreload 2"
   ]
  },
  {
   "cell_type": "markdown",
   "metadata": {},
   "source": [
    "### Map Basics"
   ]
  },
  {
   "cell_type": "code",
   "execution_count": 10,
   "metadata": {},
   "outputs": [
    {
     "data": {
      "text/html": [
       "        <script type=\"text/javascript\">\n",
       "        window.PlotlyConfig = {MathJaxConfig: 'local'};\n",
       "        if (window.MathJax && window.MathJax.Hub && window.MathJax.Hub.Config) {window.MathJax.Hub.Config({SVG: {font: \"STIX-Web\"}});}\n",
       "        if (typeof require !== 'undefined') {\n",
       "        require.undef(\"plotly\");\n",
       "        requirejs.config({\n",
       "            paths: {\n",
       "                'plotly': ['https://cdn.plot.ly/plotly-2.29.1.min']\n",
       "            }\n",
       "        });\n",
       "        require(['plotly'], function(Plotly) {\n",
       "            window._Plotly = Plotly;\n",
       "        });\n",
       "        }\n",
       "        </script>\n",
       "        "
      ]
     },
     "metadata": {},
     "output_type": "display_data"
    },
    {
     "data": {
      "application/vnd.plotly.v1+json": {
       "config": {
        "linkText": "Export to plot.ly",
        "plotlyServerURL": "https://plot.ly",
        "showLink": false
       },
       "data": [
        {
         "hoverinfo": "none",
         "line": {
          "color": "#888",
          "width": 0.5
         },
         "mode": "lines",
         "type": "scatter",
         "x": [
          0.7798606835438107,
          0.46247219371675075,
          null,
          0.7798606835438107,
          0.8820353070895344,
          null,
          0.7798606835438107,
          0.49016747075266875,
          null,
          0.7647837074641568,
          0.8325506249953353,
          null,
          0.7647837074641568,
          0.7076566826610747,
          null,
          0.7647837074641568,
          0.7155217893995438,
          null,
          0.7155217893995438,
          0.8325506249953353,
          null,
          0.7155217893995438,
          0.7076566826610747,
          null,
          0.7076566826610747,
          0.49016747075266875,
          null,
          0.7076566826610747,
          0.8325506249953353,
          null,
          0.49016747075266875,
          0.46247219371675075,
          null,
          0.11622158839385677,
          0.1285377678230034,
          null
         ],
         "y": [
          0.6922727646627362,
          0.6258061621642713,
          null,
          0.6922727646627362,
          0.6791919587749445,
          null,
          0.6922727646627362,
          0.5464878695400415,
          null,
          0.3252670836724646,
          0.02310946309985762,
          null,
          0.3252670836724646,
          0.3278339270610988,
          null,
          0.3252670836724646,
          0.20026498027300055,
          null,
          0.20026498027300055,
          0.02310946309985762,
          null,
          0.20026498027300055,
          0.3278339270610988,
          null,
          0.3278339270610988,
          0.5464878695400415,
          null,
          0.3278339270610988,
          0.02310946309985762,
          null,
          0.5464878695400415,
          0.6258061621642713,
          null,
          0.11236327488812581,
          0.3285840695698353,
          null
         ]
        },
        {
         "hoverinfo": "text",
         "marker": {
          "color": [
           0,
           0,
           0,
           0,
           0,
           0,
           0,
           0,
           0,
           0
          ],
          "colorbar": {
           "thickness": 15,
           "title": {
            "side": "right",
            "text": "Node Connections"
           },
           "xanchor": "left"
          },
          "colorscale": [
           [
            0,
            "rgb(0, 0, 0)"
           ],
           [
            0.3333333333333333,
            "rgb(230,0,0)"
           ],
           [
            0.6666666666666666,
            "rgb(255,210,0)"
           ],
           [
            1,
            "rgb(255,255,255)"
           ]
          ],
          "line": {
           "width": 2
          },
          "reversescale": true,
          "showscale": false,
          "size": 10
         },
         "mode": "markers",
         "text": [
          "Intersection 0<br>Neighbors: 7, 6, 5",
          "Intersection 1<br>Neighbors: 4, 3, 2",
          "Intersection 2<br>Neighbors: 1, 4, 3",
          "Intersection 3<br>Neighbors: 1, 2, 5, 4",
          "Intersection 4<br>Neighbors: 1, 2, 3",
          "Intersection 5<br>Neighbors: 0, 3, 7",
          "Intersection 6<br>Neighbors: 0",
          "Intersection 7<br>Neighbors: 0, 5",
          "Intersection 8<br>Neighbors: 9",
          "Intersection 9<br>Neighbors: 8"
         ],
         "type": "scatter",
         "x": [
          0.7798606835438107,
          0.7647837074641568,
          0.7155217893995438,
          0.7076566826610747,
          0.8325506249953353,
          0.49016747075266875,
          0.8820353070895344,
          0.46247219371675075,
          0.11622158839385677,
          0.1285377678230034
         ],
         "y": [
          0.6922727646627362,
          0.3252670836724646,
          0.20026498027300055,
          0.3278339270610988,
          0.02310946309985762,
          0.5464878695400415,
          0.6791919587749445,
          0.6258061621642713,
          0.11236327488812581,
          0.3285840695698353
         ]
        }
       ],
       "layout": {
        "autosize": true,
        "hovermode": "closest",
        "margin": {
         "b": 20,
         "l": 5,
         "r": 5,
         "t": 40
        },
        "showlegend": false,
        "template": {
         "data": {
          "bar": [
           {
            "error_x": {
             "color": "#2a3f5f"
            },
            "error_y": {
             "color": "#2a3f5f"
            },
            "marker": {
             "line": {
              "color": "#E5ECF6",
              "width": 0.5
             },
             "pattern": {
              "fillmode": "overlay",
              "size": 10,
              "solidity": 0.2
             }
            },
            "type": "bar"
           }
          ],
          "barpolar": [
           {
            "marker": {
             "line": {
              "color": "#E5ECF6",
              "width": 0.5
             },
             "pattern": {
              "fillmode": "overlay",
              "size": 10,
              "solidity": 0.2
             }
            },
            "type": "barpolar"
           }
          ],
          "carpet": [
           {
            "aaxis": {
             "endlinecolor": "#2a3f5f",
             "gridcolor": "white",
             "linecolor": "white",
             "minorgridcolor": "white",
             "startlinecolor": "#2a3f5f"
            },
            "baxis": {
             "endlinecolor": "#2a3f5f",
             "gridcolor": "white",
             "linecolor": "white",
             "minorgridcolor": "white",
             "startlinecolor": "#2a3f5f"
            },
            "type": "carpet"
           }
          ],
          "choropleth": [
           {
            "colorbar": {
             "outlinewidth": 0,
             "ticks": ""
            },
            "type": "choropleth"
           }
          ],
          "contour": [
           {
            "colorbar": {
             "outlinewidth": 0,
             "ticks": ""
            },
            "colorscale": [
             [
              0,
              "#0d0887"
             ],
             [
              0.1111111111111111,
              "#46039f"
             ],
             [
              0.2222222222222222,
              "#7201a8"
             ],
             [
              0.3333333333333333,
              "#9c179e"
             ],
             [
              0.4444444444444444,
              "#bd3786"
             ],
             [
              0.5555555555555556,
              "#d8576b"
             ],
             [
              0.6666666666666666,
              "#ed7953"
             ],
             [
              0.7777777777777778,
              "#fb9f3a"
             ],
             [
              0.8888888888888888,
              "#fdca26"
             ],
             [
              1,
              "#f0f921"
             ]
            ],
            "type": "contour"
           }
          ],
          "contourcarpet": [
           {
            "colorbar": {
             "outlinewidth": 0,
             "ticks": ""
            },
            "type": "contourcarpet"
           }
          ],
          "heatmap": [
           {
            "colorbar": {
             "outlinewidth": 0,
             "ticks": ""
            },
            "colorscale": [
             [
              0,
              "#0d0887"
             ],
             [
              0.1111111111111111,
              "#46039f"
             ],
             [
              0.2222222222222222,
              "#7201a8"
             ],
             [
              0.3333333333333333,
              "#9c179e"
             ],
             [
              0.4444444444444444,
              "#bd3786"
             ],
             [
              0.5555555555555556,
              "#d8576b"
             ],
             [
              0.6666666666666666,
              "#ed7953"
             ],
             [
              0.7777777777777778,
              "#fb9f3a"
             ],
             [
              0.8888888888888888,
              "#fdca26"
             ],
             [
              1,
              "#f0f921"
             ]
            ],
            "type": "heatmap"
           }
          ],
          "heatmapgl": [
           {
            "colorbar": {
             "outlinewidth": 0,
             "ticks": ""
            },
            "colorscale": [
             [
              0,
              "#0d0887"
             ],
             [
              0.1111111111111111,
              "#46039f"
             ],
             [
              0.2222222222222222,
              "#7201a8"
             ],
             [
              0.3333333333333333,
              "#9c179e"
             ],
             [
              0.4444444444444444,
              "#bd3786"
             ],
             [
              0.5555555555555556,
              "#d8576b"
             ],
             [
              0.6666666666666666,
              "#ed7953"
             ],
             [
              0.7777777777777778,
              "#fb9f3a"
             ],
             [
              0.8888888888888888,
              "#fdca26"
             ],
             [
              1,
              "#f0f921"
             ]
            ],
            "type": "heatmapgl"
           }
          ],
          "histogram": [
           {
            "marker": {
             "pattern": {
              "fillmode": "overlay",
              "size": 10,
              "solidity": 0.2
             }
            },
            "type": "histogram"
           }
          ],
          "histogram2d": [
           {
            "colorbar": {
             "outlinewidth": 0,
             "ticks": ""
            },
            "colorscale": [
             [
              0,
              "#0d0887"
             ],
             [
              0.1111111111111111,
              "#46039f"
             ],
             [
              0.2222222222222222,
              "#7201a8"
             ],
             [
              0.3333333333333333,
              "#9c179e"
             ],
             [
              0.4444444444444444,
              "#bd3786"
             ],
             [
              0.5555555555555556,
              "#d8576b"
             ],
             [
              0.6666666666666666,
              "#ed7953"
             ],
             [
              0.7777777777777778,
              "#fb9f3a"
             ],
             [
              0.8888888888888888,
              "#fdca26"
             ],
             [
              1,
              "#f0f921"
             ]
            ],
            "type": "histogram2d"
           }
          ],
          "histogram2dcontour": [
           {
            "colorbar": {
             "outlinewidth": 0,
             "ticks": ""
            },
            "colorscale": [
             [
              0,
              "#0d0887"
             ],
             [
              0.1111111111111111,
              "#46039f"
             ],
             [
              0.2222222222222222,
              "#7201a8"
             ],
             [
              0.3333333333333333,
              "#9c179e"
             ],
             [
              0.4444444444444444,
              "#bd3786"
             ],
             [
              0.5555555555555556,
              "#d8576b"
             ],
             [
              0.6666666666666666,
              "#ed7953"
             ],
             [
              0.7777777777777778,
              "#fb9f3a"
             ],
             [
              0.8888888888888888,
              "#fdca26"
             ],
             [
              1,
              "#f0f921"
             ]
            ],
            "type": "histogram2dcontour"
           }
          ],
          "mesh3d": [
           {
            "colorbar": {
             "outlinewidth": 0,
             "ticks": ""
            },
            "type": "mesh3d"
           }
          ],
          "parcoords": [
           {
            "line": {
             "colorbar": {
              "outlinewidth": 0,
              "ticks": ""
             }
            },
            "type": "parcoords"
           }
          ],
          "pie": [
           {
            "automargin": true,
            "type": "pie"
           }
          ],
          "scatter": [
           {
            "fillpattern": {
             "fillmode": "overlay",
             "size": 10,
             "solidity": 0.2
            },
            "type": "scatter"
           }
          ],
          "scatter3d": [
           {
            "line": {
             "colorbar": {
              "outlinewidth": 0,
              "ticks": ""
             }
            },
            "marker": {
             "colorbar": {
              "outlinewidth": 0,
              "ticks": ""
             }
            },
            "type": "scatter3d"
           }
          ],
          "scattercarpet": [
           {
            "marker": {
             "colorbar": {
              "outlinewidth": 0,
              "ticks": ""
             }
            },
            "type": "scattercarpet"
           }
          ],
          "scattergeo": [
           {
            "marker": {
             "colorbar": {
              "outlinewidth": 0,
              "ticks": ""
             }
            },
            "type": "scattergeo"
           }
          ],
          "scattergl": [
           {
            "marker": {
             "colorbar": {
              "outlinewidth": 0,
              "ticks": ""
             }
            },
            "type": "scattergl"
           }
          ],
          "scattermapbox": [
           {
            "marker": {
             "colorbar": {
              "outlinewidth": 0,
              "ticks": ""
             }
            },
            "type": "scattermapbox"
           }
          ],
          "scatterpolar": [
           {
            "marker": {
             "colorbar": {
              "outlinewidth": 0,
              "ticks": ""
             }
            },
            "type": "scatterpolar"
           }
          ],
          "scatterpolargl": [
           {
            "marker": {
             "colorbar": {
              "outlinewidth": 0,
              "ticks": ""
             }
            },
            "type": "scatterpolargl"
           }
          ],
          "scatterternary": [
           {
            "marker": {
             "colorbar": {
              "outlinewidth": 0,
              "ticks": ""
             }
            },
            "type": "scatterternary"
           }
          ],
          "surface": [
           {
            "colorbar": {
             "outlinewidth": 0,
             "ticks": ""
            },
            "colorscale": [
             [
              0,
              "#0d0887"
             ],
             [
              0.1111111111111111,
              "#46039f"
             ],
             [
              0.2222222222222222,
              "#7201a8"
             ],
             [
              0.3333333333333333,
              "#9c179e"
             ],
             [
              0.4444444444444444,
              "#bd3786"
             ],
             [
              0.5555555555555556,
              "#d8576b"
             ],
             [
              0.6666666666666666,
              "#ed7953"
             ],
             [
              0.7777777777777778,
              "#fb9f3a"
             ],
             [
              0.8888888888888888,
              "#fdca26"
             ],
             [
              1,
              "#f0f921"
             ]
            ],
            "type": "surface"
           }
          ],
          "table": [
           {
            "cells": {
             "fill": {
              "color": "#EBF0F8"
             },
             "line": {
              "color": "white"
             }
            },
            "header": {
             "fill": {
              "color": "#C8D4E3"
             },
             "line": {
              "color": "white"
             }
            },
            "type": "table"
           }
          ]
         },
         "layout": {
          "annotationdefaults": {
           "arrowcolor": "#2a3f5f",
           "arrowhead": 0,
           "arrowwidth": 1
          },
          "autotypenumbers": "strict",
          "coloraxis": {
           "colorbar": {
            "outlinewidth": 0,
            "ticks": ""
           }
          },
          "colorscale": {
           "diverging": [
            [
             0,
             "#8e0152"
            ],
            [
             0.1,
             "#c51b7d"
            ],
            [
             0.2,
             "#de77ae"
            ],
            [
             0.3,
             "#f1b6da"
            ],
            [
             0.4,
             "#fde0ef"
            ],
            [
             0.5,
             "#f7f7f7"
            ],
            [
             0.6,
             "#e6f5d0"
            ],
            [
             0.7,
             "#b8e186"
            ],
            [
             0.8,
             "#7fbc41"
            ],
            [
             0.9,
             "#4d9221"
            ],
            [
             1,
             "#276419"
            ]
           ],
           "sequential": [
            [
             0,
             "#0d0887"
            ],
            [
             0.1111111111111111,
             "#46039f"
            ],
            [
             0.2222222222222222,
             "#7201a8"
            ],
            [
             0.3333333333333333,
             "#9c179e"
            ],
            [
             0.4444444444444444,
             "#bd3786"
            ],
            [
             0.5555555555555556,
             "#d8576b"
            ],
            [
             0.6666666666666666,
             "#ed7953"
            ],
            [
             0.7777777777777778,
             "#fb9f3a"
            ],
            [
             0.8888888888888888,
             "#fdca26"
            ],
            [
             1,
             "#f0f921"
            ]
           ],
           "sequentialminus": [
            [
             0,
             "#0d0887"
            ],
            [
             0.1111111111111111,
             "#46039f"
            ],
            [
             0.2222222222222222,
             "#7201a8"
            ],
            [
             0.3333333333333333,
             "#9c179e"
            ],
            [
             0.4444444444444444,
             "#bd3786"
            ],
            [
             0.5555555555555556,
             "#d8576b"
            ],
            [
             0.6666666666666666,
             "#ed7953"
            ],
            [
             0.7777777777777778,
             "#fb9f3a"
            ],
            [
             0.8888888888888888,
             "#fdca26"
            ],
            [
             1,
             "#f0f921"
            ]
           ]
          },
          "colorway": [
           "#636efa",
           "#EF553B",
           "#00cc96",
           "#ab63fa",
           "#FFA15A",
           "#19d3f3",
           "#FF6692",
           "#B6E880",
           "#FF97FF",
           "#FECB52"
          ],
          "font": {
           "color": "#2a3f5f"
          },
          "geo": {
           "bgcolor": "white",
           "lakecolor": "white",
           "landcolor": "#E5ECF6",
           "showlakes": true,
           "showland": true,
           "subunitcolor": "white"
          },
          "hoverlabel": {
           "align": "left"
          },
          "hovermode": "closest",
          "mapbox": {
           "style": "light"
          },
          "paper_bgcolor": "white",
          "plot_bgcolor": "#E5ECF6",
          "polar": {
           "angularaxis": {
            "gridcolor": "white",
            "linecolor": "white",
            "ticks": ""
           },
           "bgcolor": "#E5ECF6",
           "radialaxis": {
            "gridcolor": "white",
            "linecolor": "white",
            "ticks": ""
           }
          },
          "scene": {
           "xaxis": {
            "backgroundcolor": "#E5ECF6",
            "gridcolor": "white",
            "gridwidth": 2,
            "linecolor": "white",
            "showbackground": true,
            "ticks": "",
            "zerolinecolor": "white"
           },
           "yaxis": {
            "backgroundcolor": "#E5ECF6",
            "gridcolor": "white",
            "gridwidth": 2,
            "linecolor": "white",
            "showbackground": true,
            "ticks": "",
            "zerolinecolor": "white"
           },
           "zaxis": {
            "backgroundcolor": "#E5ECF6",
            "gridcolor": "white",
            "gridwidth": 2,
            "linecolor": "white",
            "showbackground": true,
            "ticks": "",
            "zerolinecolor": "white"
           }
          },
          "shapedefaults": {
           "line": {
            "color": "#2a3f5f"
           }
          },
          "ternary": {
           "aaxis": {
            "gridcolor": "white",
            "linecolor": "white",
            "ticks": ""
           },
           "baxis": {
            "gridcolor": "white",
            "linecolor": "white",
            "ticks": ""
           },
           "bgcolor": "#E5ECF6",
           "caxis": {
            "gridcolor": "white",
            "linecolor": "white",
            "ticks": ""
           }
          },
          "title": {
           "x": 0.05
          },
          "xaxis": {
           "automargin": true,
           "gridcolor": "white",
           "linecolor": "white",
           "ticks": "",
           "title": {
            "standoff": 15
           },
           "zerolinecolor": "white",
           "zerolinewidth": 2
          },
          "yaxis": {
           "automargin": true,
           "gridcolor": "white",
           "linecolor": "white",
           "ticks": "",
           "title": {
            "standoff": 15
           },
           "zerolinecolor": "white",
           "zerolinewidth": 2
          }
         }
        },
        "title": {
         "font": {
          "size": 16
         },
         "text": "<br>Network graph made with Python"
        },
        "xaxis": {
         "autorange": true,
         "range": [
          0.06827559899851958,
          0.9299812964848716
         ],
         "showgrid": false,
         "showticklabels": false,
         "type": "linear",
         "zeroline": false
        },
        "yaxis": {
         "autorange": true,
         "range": [
          -0.032112751106787706,
          0.7474949788693815
         ],
         "showgrid": false,
         "showticklabels": false,
         "type": "linear",
         "zeroline": false
        }
       }
      },
      "image/png": "[encoded data removed]",
      "text/html": [
       "<div>                            <div id=\"25578dd6-5d59-4856-b032-22c1e2382f16\" class=\"plotly-graph-div\" style=\"height:525px; width:100%;\"></div>            <script type=\"text/javascript\">                require([\"plotly\"], function(Plotly) {                    window.PLOTLYENV=window.PLOTLYENV || {};                                    if (document.getElementById(\"25578dd6-5d59-4856-b032-22c1e2382f16\")) {                    Plotly.newPlot(                        \"25578dd6-5d59-4856-b032-22c1e2382f16\",                        [{\"hoverinfo\":\"none\",\"line\":{\"color\":\"#888\",\"width\":0.5},\"mode\":\"lines\",\"x\":[0.7798606835438107,0.46247219371675075,null,0.7798606835438107,0.8820353070895344,null,0.7798606835438107,0.49016747075266875,null,0.7647837074641568,0.8325506249953353,null,0.7647837074641568,0.7076566826610747,null,0.7647837074641568,0.7155217893995438,null,0.7155217893995438,0.8325506249953353,null,0.7155217893995438,0.7076566826610747,null,0.7076566826610747,0.49016747075266875,null,0.7076566826610747,0.8325506249953353,null,0.49016747075266875,0.46247219371675075,null,0.11622158839385677,0.1285377678230034,null],\"y\":[0.6922727646627362,0.6258061621642713,null,0.6922727646627362,0.6791919587749445,null,0.6922727646627362,0.5464878695400415,null,0.3252670836724646,0.02310946309985762,null,0.3252670836724646,0.3278339270610988,null,0.3252670836724646,0.20026498027300055,null,0.20026498027300055,0.02310946309985762,null,0.20026498027300055,0.3278339270610988,null,0.3278339270610988,0.5464878695400415,null,0.3278339270610988,0.02310946309985762,null,0.5464878695400415,0.6258061621642713,null,0.11236327488812581,0.3285840695698353,null],\"type\":\"scatter\"},{\"hoverinfo\":\"text\",\"marker\":{\"color\":[0,0,0,0,0,0,0,0,0,0],\"colorbar\":{\"thickness\":15,\"title\":{\"side\":\"right\",\"text\":\"Node Connections\"},\"xanchor\":\"left\"},\"colorscale\":[[0.0,\"rgb(0,0,0)\"],[0.3333333333333333,\"rgb(230,0,0)\"],[0.6666666666666666,\"rgb(255,210,0)\"],[1.0,\"rgb(255,255,255)\"]],\"line\":{\"width\":2},\"reversescale\":true,\"showscale\":false,\"size\":10},\"mode\":\"markers\",\"text\":[\"Intersection 0\\u003cbr\\u003eNeighbors: 7, 6, 5\",\"Intersection 1\\u003cbr\\u003eNeighbors: 4, 3, 2\",\"Intersection 2\\u003cbr\\u003eNeighbors: 1, 4, 3\",\"Intersection 3\\u003cbr\\u003eNeighbors: 1, 2, 5, 4\",\"Intersection 4\\u003cbr\\u003eNeighbors: 1, 2, 3\",\"Intersection 5\\u003cbr\\u003eNeighbors: 0, 3, 7\",\"Intersection 6\\u003cbr\\u003eNeighbors: 0\",\"Intersection 7\\u003cbr\\u003eNeighbors: 0, 5\",\"Intersection 8\\u003cbr\\u003eNeighbors: 9\",\"Intersection 9\\u003cbr\\u003eNeighbors: 8\"],\"x\":[0.7798606835438107,0.7647837074641568,0.7155217893995438,0.7076566826610747,0.8325506249953353,0.49016747075266875,0.8820353070895344,0.46247219371675075,0.11622158839385677,0.1285377678230034],\"y\":[0.6922727646627362,0.3252670836724646,0.20026498027300055,0.3278339270610988,0.02310946309985762,0.5464878695400415,0.6791919587749445,0.6258061621642713,0.11236327488812581,0.3285840695698353],\"type\":\"scatter\"}],                        {\"hovermode\":\"closest\",\"margin\":{\"b\":20,\"l\":5,\"r\":5,\"t\":40},\"showlegend\":false,\"template\":{\"data\":{\"barpolar\":[{\"marker\":{\"line\":{\"color\":\"#E5ECF6\",\"width\":0.5},\"pattern\":{\"fillmode\":\"overlay\",\"size\":10,\"solidity\":0.2}},\"type\":\"barpolar\"}],\"bar\":[{\"error_x\":{\"color\":\"#2a3f5f\"},\"error_y\":{\"color\":\"#2a3f5f\"},\"marker\":{\"line\":{\"color\":\"#E5ECF6\",\"width\":0.5},\"pattern\":{\"fillmode\":\"overlay\",\"size\":10,\"solidity\":0.2}},\"type\":\"bar\"}],\"carpet\":[{\"aaxis\":{\"endlinecolor\":\"#2a3f5f\",\"gridcolor\":\"white\",\"linecolor\":\"white\",\"minorgridcolor\":\"white\",\"startlinecolor\":\"#2a3f5f\"},\"baxis\":{\"endlinecolor\":\"#2a3f5f\",\"gridcolor\":\"white\",\"linecolor\":\"white\",\"minorgridcolor\":\"white\",\"startlinecolor\":\"#2a3f5f\"},\"type\":\"carpet\"}],\"choropleth\":[{\"colorbar\":{\"outlinewidth\":0,\"ticks\":\"\"},\"type\":\"choropleth\"}],\"contourcarpet\":[{\"colorbar\":{\"outlinewidth\":0,\"ticks\":\"\"},\"type\":\"contourcarpet\"}],\"contour\":[{\"colorbar\":{\"outlinewidth\":0,\"ticks\":\"\"},\"colorscale\":[[0.0,\"#0d0887\"],[0.1111111111111111,\"#46039f\"],[0.2222222222222222,\"#7201a8\"],[0.3333333333333333,\"#9c179e\"],[0.4444444444444444,\"#bd3786\"],[0.5555555555555556,\"#d8576b\"],[0.6666666666666666,\"#ed7953\"],[0.7777777777777778,\"#fb9f3a\"],[0.8888888888888888,\"#fdca26\"],[1.0,\"#f0f921\"]],\"type\":\"contour\"}],\"heatmapgl\":[{\"colorbar\":{\"outlinewidth\":0,\"ticks\":\"\"},\"colorscale\":[[0.0,\"#0d0887\"],[0.1111111111111111,\"#46039f\"],[0.2222222222222222,\"#7201a8\"],[0.3333333333333333,\"#9c179e\"],[0.4444444444444444,\"#bd3786\"],[0.5555555555555556,\"#d8576b\"],[0.6666666666666666,\"#ed7953\"],[0.7777777777777778,\"#fb9f3a\"],[0.8888888888888888,\"#fdca26\"],[1.0,\"#f0f921\"]],\"type\":\"heatmapgl\"}],\"heatmap\":[{\"colorbar\":{\"outlinewidth\":0,\"ticks\":\"\"},\"colorscale\":[[0.0,\"#0d0887\"],[0.1111111111111111,\"#46039f\"],[0.2222222222222222,\"#7201a8\"],[0.3333333333333333,\"#9c179e\"],[0.4444444444444444,\"#bd3786\"],[0.5555555555555556,\"#d8576b\"],[0.6666666666666666,\"#ed7953\"],[0.7777777777777778,\"#fb9f3a\"],[0.8888888888888888,\"#fdca26\"],[1.0,\"#f0f921\"]],\"type\":\"heatmap\"}],\"histogram2dcontour\":[{\"colorbar\":{\"outlinewidth\":0,\"ticks\":\"\"},\"colorscale\":[[0.0,\"#0d0887\"],[0.1111111111111111,\"#46039f\"],[0.2222222222222222,\"#7201a8\"],[0.3333333333333333,\"#9c179e\"],[0.4444444444444444,\"#bd3786\"],[0.5555555555555556,\"#d8576b\"],[0.6666666666666666,\"#ed7953\"],[0.7777777777777778,\"#fb9f3a\"],[0.8888888888888888,\"#fdca26\"],[1.0,\"#f0f921\"]],\"type\":\"histogram2dcontour\"}],\"histogram2d\":[{\"colorbar\":{\"outlinewidth\":0,\"ticks\":\"\"},\"colorscale\":[[0.0,\"#0d0887\"],[0.1111111111111111,\"#46039f\"],[0.2222222222222222,\"#7201a8\"],[0.3333333333333333,\"#9c179e\"],[0.4444444444444444,\"#bd3786\"],[0.5555555555555556,\"#d8576b\"],[0.6666666666666666,\"#ed7953\"],[0.7777777777777778,\"#fb9f3a\"],[0.8888888888888888,\"#fdca26\"],[1.0,\"#f0f921\"]],\"type\":\"histogram2d\"}],\"histogram\":[{\"marker\":{\"pattern\":{\"fillmode\":\"overlay\",\"size\":10,\"solidity\":0.2}},\"type\":\"histogram\"}],\"mesh3d\":[{\"colorbar\":{\"outlinewidth\":0,\"ticks\":\"\"},\"type\":\"mesh3d\"}],\"parcoords\":[{\"line\":{\"colorbar\":{\"outlinewidth\":0,\"ticks\":\"\"}},\"type\":\"parcoords\"}],\"pie\":[{\"automargin\":true,\"type\":\"pie\"}],\"scatter3d\":[{\"line\":{\"colorbar\":{\"outlinewidth\":0,\"ticks\":\"\"}},\"marker\":{\"colorbar\":{\"outlinewidth\":0,\"ticks\":\"\"}},\"type\":\"scatter3d\"}],\"scattercarpet\":[{\"marker\":{\"colorbar\":{\"outlinewidth\":0,\"ticks\":\"\"}},\"type\":\"scattercarpet\"}],\"scattergeo\":[{\"marker\":{\"colorbar\":{\"outlinewidth\":0,\"ticks\":\"\"}},\"type\":\"scattergeo\"}],\"scattergl\":[{\"marker\":{\"colorbar\":{\"outlinewidth\":0,\"ticks\":\"\"}},\"type\":\"scattergl\"}],\"scattermapbox\":[{\"marker\":{\"colorbar\":{\"outlinewidth\":0,\"ticks\":\"\"}},\"type\":\"scattermapbox\"}],\"scatterpolargl\":[{\"marker\":{\"colorbar\":{\"outlinewidth\":0,\"ticks\":\"\"}},\"type\":\"scatterpolargl\"}],\"scatterpolar\":[{\"marker\":{\"colorbar\":{\"outlinewidth\":0,\"ticks\":\"\"}},\"type\":\"scatterpolar\"}],\"scatter\":[{\"fillpattern\":{\"fillmode\":\"overlay\",\"size\":10,\"solidity\":0.2},\"type\":\"scatter\"}],\"scatterternary\":[{\"marker\":{\"colorbar\":{\"outlinewidth\":0,\"ticks\":\"\"}},\"type\":\"scatterternary\"}],\"surface\":[{\"colorbar\":{\"outlinewidth\":0,\"ticks\":\"\"},\"colorscale\":[[0.0,\"#0d0887\"],[0.1111111111111111,\"#46039f\"],[0.2222222222222222,\"#7201a8\"],[0.3333333333333333,\"#9c179e\"],[0.4444444444444444,\"#bd3786\"],[0.5555555555555556,\"#d8576b\"],[0.6666666666666666,\"#ed7953\"],[0.7777777777777778,\"#fb9f3a\"],[0.8888888888888888,\"#fdca26\"],[1.0,\"#f0f921\"]],\"type\":\"surface\"}],\"table\":[{\"cells\":{\"fill\":{\"color\":\"#EBF0F8\"},\"line\":{\"color\":\"white\"}},\"header\":{\"fill\":{\"color\":\"#C8D4E3\"},\"line\":{\"color\":\"white\"}},\"type\":\"table\"}]},\"layout\":{\"annotationdefaults\":{\"arrowcolor\":\"#2a3f5f\",\"arrowhead\":0,\"arrowwidth\":1},\"autotypenumbers\":\"strict\",\"coloraxis\":{\"colorbar\":{\"outlinewidth\":0,\"ticks\":\"\"}},\"colorscale\":{\"diverging\":[[0,\"#8e0152\"],[0.1,\"#c51b7d\"],[0.2,\"#de77ae\"],[0.3,\"#f1b6da\"],[0.4,\"#fde0ef\"],[0.5,\"#f7f7f7\"],[0.6,\"#e6f5d0\"],[0.7,\"#b8e186\"],[0.8,\"#7fbc41\"],[0.9,\"#4d9221\"],[1,\"#276419\"]],\"sequential\":[[0.0,\"#0d0887\"],[0.1111111111111111,\"#46039f\"],[0.2222222222222222,\"#7201a8\"],[0.3333333333333333,\"#9c179e\"],[0.4444444444444444,\"#bd3786\"],[0.5555555555555556,\"#d8576b\"],[0.6666666666666666,\"#ed7953\"],[0.7777777777777778,\"#fb9f3a\"],[0.8888888888888888,\"#fdca26\"],[1.0,\"#f0f921\"]],\"sequentialminus\":[[0.0,\"#0d0887\"],[0.1111111111111111,\"#46039f\"],[0.2222222222222222,\"#7201a8\"],[0.3333333333333333,\"#9c179e\"],[0.4444444444444444,\"#bd3786\"],[0.5555555555555556,\"#d8576b\"],[0.6666666666666666,\"#ed7953\"],[0.7777777777777778,\"#fb9f3a\"],[0.8888888888888888,\"#fdca26\"],[1.0,\"#f0f921\"]]},\"colorway\":[\"#636efa\",\"#EF553B\",\"#00cc96\",\"#ab63fa\",\"#FFA15A\",\"#19d3f3\",\"#FF6692\",\"#B6E880\",\"#FF97FF\",\"#FECB52\"],\"font\":{\"color\":\"#2a3f5f\"},\"geo\":{\"bgcolor\":\"white\",\"lakecolor\":\"white\",\"landcolor\":\"#E5ECF6\",\"showlakes\":true,\"showland\":true,\"subunitcolor\":\"white\"},\"hoverlabel\":{\"align\":\"left\"},\"hovermode\":\"closest\",\"mapbox\":{\"style\":\"light\"},\"paper_bgcolor\":\"white\",\"plot_bgcolor\":\"#E5ECF6\",\"polar\":{\"angularaxis\":{\"gridcolor\":\"white\",\"linecolor\":\"white\",\"ticks\":\"\"},\"bgcolor\":\"#E5ECF6\",\"radialaxis\":{\"gridcolor\":\"white\",\"linecolor\":\"white\",\"ticks\":\"\"}},\"scene\":{\"xaxis\":{\"backgroundcolor\":\"#E5ECF6\",\"gridcolor\":\"white\",\"gridwidth\":2,\"linecolor\":\"white\",\"showbackground\":true,\"ticks\":\"\",\"zerolinecolor\":\"white\"},\"yaxis\":{\"backgroundcolor\":\"#E5ECF6\",\"gridcolor\":\"white\",\"gridwidth\":2,\"linecolor\":\"white\",\"showbackground\":true,\"ticks\":\"\",\"zerolinecolor\":\"white\"},\"zaxis\":{\"backgroundcolor\":\"#E5ECF6\",\"gridcolor\":\"white\",\"gridwidth\":2,\"linecolor\":\"white\",\"showbackground\":true,\"ticks\":\"\",\"zerolinecolor\":\"white\"}},\"shapedefaults\":{\"line\":{\"color\":\"#2a3f5f\"}},\"ternary\":{\"aaxis\":{\"gridcolor\":\"white\",\"linecolor\":\"white\",\"ticks\":\"\"},\"baxis\":{\"gridcolor\":\"white\",\"linecolor\":\"white\",\"ticks\":\"\"},\"bgcolor\":\"#E5ECF6\",\"caxis\":{\"gridcolor\":\"white\",\"linecolor\":\"white\",\"ticks\":\"\"}},\"title\":{\"x\":0.05},\"xaxis\":{\"automargin\":true,\"gridcolor\":\"white\",\"linecolor\":\"white\",\"ticks\":\"\",\"title\":{\"standoff\":15},\"zerolinecolor\":\"white\",\"zerolinewidth\":2},\"yaxis\":{\"automargin\":true,\"gridcolor\":\"white\",\"linecolor\":\"white\",\"ticks\":\"\",\"title\":{\"standoff\":15},\"zerolinecolor\":\"white\",\"zerolinewidth\":2}}},\"title\":{\"font\":{\"size\":16},\"text\":\"\\u003cbr\\u003eNetwork graph made with Python\"},\"xaxis\":{\"showgrid\":false,\"showticklabels\":false,\"zeroline\":false},\"yaxis\":{\"showgrid\":false,\"showticklabels\":false,\"zeroline\":false}},                        {\"responsive\": true}                    ).then(function(){\n",
       "                            \n",
       "var gd = document.getElementById('25578dd6-5d59-4856-b032-22c1e2382f16');\n",
       "var x = new MutationObserver(function (mutations, observer) {{\n",
       "        var display = window.getComputedStyle(gd).display;\n",
       "        if (!display || display === 'none') {{\n",
       "            console.log([gd, 'removed!']);\n",
       "            Plotly.purge(gd);\n",
       "            observer.disconnect();\n",
       "        }}\n",
       "}});\n",
       "\n",
       "// Listen for the removal of the full notebook cells\n",
       "var notebookContainer = gd.closest('#notebook-container');\n",
       "if (notebookContainer) {{\n",
       "    x.observe(notebookContainer, {childList: true});\n",
       "}}\n",
       "\n",
       "// Listen for the clearing of the current output cell\n",
       "var outputEl = gd.closest('.output');\n",
       "if (outputEl) {{\n",
       "    x.observe(outputEl, {childList: true});\n",
       "}}\n",
       "\n",
       "                        })                };                });            </script>        </div>"
      ]
     },
     "metadata": {},
     "output_type": "display_data"
    }
   ],
   "source": [
    "map_10 = load_map_10()\n",
    "show_map(map_10)"
   ]
  },
  {
   "cell_type": "markdown",
   "metadata": {},
   "source": [
    "The map above shows a disconnected network of 10 intersections. The two intersections on the left are connected to each other but they are not connected to the rest of the road network. This map is quite literal in its expression of distance and connectivity. On the graph above, the edge between 2 nodes(intersections) represents a literal straight road not just an abstract connection of 2 cities.\n",
    "\n",
    "These `Map` objects have two properties you will want to use to implement A\\* search: `intersections` and `roads`\n",
    "\n",
    "**Intersections**\n",
    "\n",
    "The `intersections` are represented as a dictionary. \n",
    "\n",
    "In this example, there are 10 intersections, each identified by an x,y coordinate. The coordinates are listed below. You can hover over each dot in the map above to see the intersection number."
   ]
  },
  {
   "cell_type": "code",
   "execution_count": 11,
   "metadata": {},
   "outputs": [
    {
     "data": {
      "text/plain": [
       "{0: (0.7798606835438107, 0.6922727646627362),\n",
       " 1: (0.7647837074641568, 0.3252670836724646),\n",
       " 2: (0.7155217893995438, 0.20026498027300055),\n",
       " 3: (0.7076566826610747, 0.3278339270610988),\n",
       " 4: (0.8325506249953353, 0.02310946309985762),\n",
       " 5: (0.49016747075266875, 0.5464878695400415),\n",
       " 6: (0.8820353070895344, 0.6791919587749445),\n",
       " 7: (0.46247219371675075, 0.6258061621642713),\n",
       " 8: (0.11622158839385677, 0.11236327488812581),\n",
       " 9: (0.1285377678230034, 0.3285840695698353)}"
      ]
     },
     "execution_count": 11,
     "metadata": {},
     "output_type": "execute_result"
    }
   ],
   "source": [
    "map_10.intersections"
   ]
  },
  {
   "cell_type": "markdown",
   "metadata": {},
   "source": [
    "**Roads**\n",
    "\n",
    "The `roads` property is a list where `roads[i]` contains a list of the intersections that intersection `i` connects to."
   ]
  },
  {
   "cell_type": "code",
   "execution_count": 12,
   "metadata": {},
   "outputs": [
    {
     "data": {
      "text/plain": [
       "[7, 6, 5]"
      ]
     },
     "execution_count": 12,
     "metadata": {},
     "output_type": "execute_result"
    }
   ],
   "source": [
    "# this shows that intersection 0 connects to intersections 7, 6, and 5\n",
    "map_10.roads[0] "
   ]
  },
  {
   "cell_type": "code",
   "execution_count": 13,
   "metadata": {},
   "outputs": [
    {
     "data": {
      "text/plain": [
       "[[7, 6, 5],\n",
       " [4, 3, 2],\n",
       " [1, 4, 3],\n",
       " [1, 2, 5, 4],\n",
       " [1, 2, 3],\n",
       " [0, 3, 7],\n",
       " [0],\n",
       " [0, 5],\n",
       " [9],\n",
       " [8]]"
      ]
     },
     "execution_count": 13,
     "metadata": {},
     "output_type": "execute_result"
    }
   ],
   "source": [
    "# This shows the full connectivity of the map\n",
    "map_10.roads"
   ]
  },
  {
   "cell_type": "code",
   "execution_count": 14,
   "metadata": {},
   "outputs": [
    {
     "data": {
      "application/vnd.plotly.v1+json": {
       "config": {
        "linkText": "Export to plot.ly",
        "plotlyServerURL": "https://plot.ly",
        "showLink": false
       },
       "data": [
        {
         "hoverinfo": "none",
         "line": {
          "color": "#888",
          "width": 0.5
         },
         "mode": "lines",
         "type": "scatter",
         "x": [
          0.7801603911549438,
          0.740625863119245,
          null,
          0.7801603911549438,
          0.583993110207876,
          null,
          0.7801603911549438,
          0.640952694324525,
          null,
          0.7801603911549438,
          0.6435799740880603,
          null,
          0.7801603911549438,
          0.607698913404794,
          null,
          0.5249831588690298,
          0.3073865727705063,
          null,
          0.5249831588690298,
          0.640952694324525,
          null,
          0.5249831588690298,
          0.7482655725962591,
          null,
          0.5249831588690298,
          0.5572917679006295,
          null,
          0.5249831588690298,
          0.6243437191127235,
          null,
          0.5249831588690298,
          0.4238357358399233,
          null,
          0.5249831588690298,
          0.719569201584275,
          null,
          0.5249831588690298,
          0.607698913404794,
          null,
          0.5249831588690298,
          0.4582523173083307,
          null,
          0.5249831588690298,
          0.313999018186756,
          null,
          0.8085335344099086,
          0.6315322816286787,
          null,
          0.8085335344099086,
          0.740625863119245,
          null,
          0.8085335344099086,
          0.8252497121120052,
          null,
          0.8085335344099086,
          0.8860336256842246,
          null,
          0.8085335344099086,
          0.8551947714242674,
          null,
          0.8085335344099086,
          0.6824813442515916,
          null,
          0.8085335344099086,
          0.7353838928272886,
          null,
          0.2599134798656856,
          0.3073865727705063,
          null,
          0.2599134798656856,
          0.4238357358399233,
          null,
          0.2599134798656856,
          0.4582523173083307,
          null,
          0.2599134798656856,
          0.25311953895059136,
          null,
          0.2599134798656856,
          0.313999018186756,
          null,
          0.7353838928272886,
          0.6315322816286787,
          null,
          0.7353838928272886,
          0.740625863119245,
          null,
          0.7353838928272886,
          0.8252497121120052,
          null,
          0.7353838928272886,
          0.8860336256842246,
          null,
          0.7353838928272886,
          0.8551947714242674,
          null,
          0.7353838928272886,
          0.6824813442515916,
          null,
          0.09088671576431506,
          0.17440205342790494,
          null,
          0.09088671576431506,
          0.12939557977525573,
          null,
          0.09088671576431506,
          0.04580558670435442,
          null,
          0.313999018186756,
          0.3073865727705063,
          null,
          0.313999018186756,
          0.4238357358399233,
          null,
          0.313999018186756,
          0.4582523173083307,
          null,
          0.313999018186756,
          0.25311953895059136,
          null,
          0.6824813442515916,
          0.6315322816286787,
          null,
          0.6824813442515916,
          0.740625863119245,
          null,
          0.6824813442515916,
          0.47415009287034726,
          null,
          0.6824813442515916,
          0.8252497121120052,
          null,
          0.6824813442515916,
          0.8860336256842246,
          null,
          0.6824813442515916,
          0.8551947714242674,
          null,
          0.20128789391122526,
          0.1332965908314021,
          null,
          0.20128789391122526,
          0.021423673670808885,
          null,
          0.20128789391122526,
          0.04580558670435442,
          null,
          0.8551947714242674,
          0.740625863119245,
          null,
          0.8551947714242674,
          0.8252497121120052,
          null,
          0.8551947714242674,
          0.8860336256842246,
          null,
          0.7581736589784409,
          0.640952694324525,
          null,
          0.7581736589784409,
          0.7482655725962591,
          null,
          0.7581736589784409,
          0.5572917679006295,
          null,
          0.7581736589784409,
          0.6243437191127235,
          null,
          0.7581736589784409,
          0.9363713903322148,
          null,
          0.7581736589784409,
          0.719569201584275,
          null,
          0.7581736589784409,
          0.607698913404794,
          null,
          0.7581736589784409,
          0.9112422509614865,
          null,
          0.25311953895059136,
          0.3073865727705063,
          null,
          0.25311953895059136,
          0.4238357358399233,
          null,
          0.25311953895059136,
          0.4582523173083307,
          null,
          0.4813859169876731,
          0.3345284735051981,
          null,
          0.4813859169876731,
          0.583993110207876,
          null,
          0.4813859169876731,
          0.640952694324525,
          null,
          0.4813859169876731,
          0.6435799740880603,
          null,
          0.4813859169876731,
          0.47415009287034726,
          null,
          0.4813859169876731,
          0.607698913404794,
          null,
          0.9112422509614865,
          0.7482655725962591,
          null,
          0.9112422509614865,
          0.9363713903322148,
          null,
          0.9112422509614865,
          0.719569201584275,
          null,
          0.04580558670435442,
          0.1332965908314021,
          null,
          0.04580558670435442,
          0.021423673670808885,
          null,
          0.04580558670435442,
          0.12939557977525573,
          null,
          0.4582523173083307,
          0.3073865727705063,
          null,
          0.4582523173083307,
          0.640952694324525,
          null,
          0.4582523173083307,
          0.5572917679006295,
          null,
          0.4582523173083307,
          0.6243437191127235,
          null,
          0.4582523173083307,
          0.4238357358399233,
          null,
          0.4582523173083307,
          0.607698913404794,
          null,
          0.12939557977525573,
          0.3345284735051981,
          null,
          0.12939557977525573,
          0.021423673670808885,
          null,
          0.607698913404794,
          0.583993110207876,
          null,
          0.607698913404794,
          0.640952694324525,
          null,
          0.607698913404794,
          0.6435799740880603,
          null,
          0.607698913404794,
          0.5572917679006295,
          null,
          0.607698913404794,
          0.6243437191127235,
          null,
          0.607698913404794,
          0.719569201584275,
          null,
          0.719569201584275,
          0.640952694324525,
          null,
          0.719569201584275,
          0.7482655725962591,
          null,
          0.719569201584275,
          0.5572917679006295,
          null,
          0.719569201584275,
          0.6243437191127235,
          null,
          0.719569201584275,
          0.9363713903322148,
          null,
          0.8860336256842246,
          0.8252497121120052,
          null,
          0.4238357358399233,
          0.3073865727705063,
          null,
          0.4238357358399233,
          0.5572917679006295,
          null,
          0.47415009287034726,
          0.6315322816286787,
          null,
          0.47415009287034726,
          0.3345284735051981,
          null,
          0.47415009287034726,
          0.34509802713919313,
          null,
          0.26253385360950576,
          0.17972981733780147,
          null,
          0.26253385360950576,
          0.17440205342790494,
          null,
          0.26253385360950576,
          0.34509802713919313,
          null,
          0.9363713903322148,
          0.7482655725962591,
          null,
          0.6243437191127235,
          0.583993110207876,
          null,
          0.6243437191127235,
          0.640952694324525,
          null,
          0.6243437191127235,
          0.7482655725962591,
          null,
          0.6243437191127235,
          0.5572917679006295,
          null,
          0.5572917679006295,
          0.583993110207876,
          null,
          0.5572917679006295,
          0.640952694324525,
          null,
          0.5572917679006295,
          0.7482655725962591,
          null,
          0.7482655725962591,
          0.640952694324525,
          null,
          0.6435799740880603,
          0.6315322816286787,
          null,
          0.6435799740880603,
          0.740625863119245,
          null,
          0.6435799740880603,
          0.583993110207876,
          null,
          0.6435799740880603,
          0.640952694324525,
          null,
          0.34509802713919313,
          0.17972981733780147,
          null,
          0.34509802713919313,
          0.3345284735051981,
          null,
          0.34509802713919313,
          0.17440205342790494,
          null,
          0.021423673670808885,
          0.1332965908314021,
          null,
          0.640952694324525,
          0.583993110207876,
          null,
          0.17440205342790494,
          0.17972981733780147,
          null,
          0.740625863119245,
          0.6315322816286787,
          null
         ],
         "y": [
          0.49474860768712914,
          0.68128520136847,
          null,
          0.49474860768712914,
          0.42704536740474663,
          null,
          0.49474860768712914,
          0.3232711412508066,
          null,
          0.49474860768712914,
          0.5488515965193208,
          null,
          0.49474860768712914,
          0.362322730884702,
          null,
          0.14953665513987202,
          0.09186645974288632,
          null,
          0.14953665513987202,
          0.3232711412508066,
          null,
          0.14953665513987202,
          0.12631654071213483,
          null,
          0.14953665513987202,
          0.2083567880838434,
          null,
          0.14953665513987202,
          0.21665962402659544,
          null,
          0.14953665513987202,
          0.026771817842421997,
          null,
          0.14953665513987202,
          0.13985272363426526,
          null,
          0.14953665513987202,
          0.362322730884702,
          null,
          0.14953665513987202,
          0.1735506267461867,
          null,
          0.14953665513987202,
          0.01876171413125327,
          null,
          0.7696330846542071,
          0.7311657634689946,
          null,
          0.7696330846542071,
          0.68128520136847,
          null,
          0.7696330846542071,
          0.9532681441921305,
          null,
          0.7696330846542071,
          0.891868301175821,
          null,
          0.7696330846542071,
          0.9011339078096633,
          null,
          0.7696330846542071,
          0.8016111783687677,
          null,
          0.7696330846542071,
          0.8089961609345658,
          null,
          0.14485659826020547,
          0.09186645974288632,
          null,
          0.14485659826020547,
          0.026771817842421997,
          null,
          0.14485659826020547,
          0.1735506267461867,
          null,
          0.14485659826020547,
          0.10321622277398101,
          null,
          0.14485659826020547,
          0.01876171413125327,
          null,
          0.8089961609345658,
          0.7311657634689946,
          null,
          0.8089961609345658,
          0.68128520136847,
          null,
          0.8089961609345658,
          0.9532681441921305,
          null,
          0.8089961609345658,
          0.891868301175821,
          null,
          0.8089961609345658,
          0.9011339078096633,
          null,
          0.8089961609345658,
          0.8016111783687677,
          null,
          0.7222846879290787,
          0.9528527425842739,
          null,
          0.7222846879290787,
          0.690016328140396,
          null,
          0.7222846879290787,
          0.5886703168399895,
          null,
          0.01876171413125327,
          0.09186645974288632,
          null,
          0.01876171413125327,
          0.026771817842421997,
          null,
          0.01876171413125327,
          0.1735506267461867,
          null,
          0.01876171413125327,
          0.10321622277398101,
          null,
          0.8016111783687677,
          0.7311657634689946,
          null,
          0.8016111783687677,
          0.68128520136847,
          null,
          0.8016111783687677,
          0.7353428557575755,
          null,
          0.8016111783687677,
          0.9532681441921305,
          null,
          0.8016111783687677,
          0.891868301175821,
          null,
          0.8016111783687677,
          0.9011339078096633,
          null,
          0.43196344222361227,
          0.3996510641743197,
          null,
          0.43196344222361227,
          0.4666482714834408,
          null,
          0.43196344222361227,
          0.5886703168399895,
          null,
          0.9011339078096633,
          0.68128520136847,
          null,
          0.9011339078096633,
          0.9532681441921305,
          null,
          0.9011339078096633,
          0.891868301175821,
          null,
          0.24026772497187532,
          0.3232711412508066,
          null,
          0.24026772497187532,
          0.12631654071213483,
          null,
          0.24026772497187532,
          0.2083567880838434,
          null,
          0.24026772497187532,
          0.21665962402659544,
          null,
          0.24026772497187532,
          0.13022993020357043,
          null,
          0.24026772497187532,
          0.13985272363426526,
          null,
          0.24026772497187532,
          0.362322730884702,
          null,
          0.24026772497187532,
          0.1839028760606296,
          null,
          0.10321622277398101,
          0.09186645974288632,
          null,
          0.10321622277398101,
          0.026771817842421997,
          null,
          0.10321622277398101,
          0.1735506267461867,
          null,
          0.5006237737207431,
          0.6569436279895382,
          null,
          0.5006237737207431,
          0.42704536740474663,
          null,
          0.5006237737207431,
          0.3232711412508066,
          null,
          0.5006237737207431,
          0.5488515965193208,
          null,
          0.5006237737207431,
          0.7353428557575755,
          null,
          0.5006237737207431,
          0.362322730884702,
          null,
          0.1839028760606296,
          0.12631654071213483,
          null,
          0.1839028760606296,
          0.13022993020357043,
          null,
          0.1839028760606296,
          0.13985272363426526,
          null,
          0.5886703168399895,
          0.3996510641743197,
          null,
          0.5886703168399895,
          0.4666482714834408,
          null,
          0.5886703168399895,
          0.690016328140396,
          null,
          0.1735506267461867,
          0.09186645974288632,
          null,
          0.1735506267461867,
          0.3232711412508066,
          null,
          0.1735506267461867,
          0.2083567880838434,
          null,
          0.1735506267461867,
          0.21665962402659544,
          null,
          0.1735506267461867,
          0.026771817842421997,
          null,
          0.1735506267461867,
          0.362322730884702,
          null,
          0.690016328140396,
          0.6569436279895382,
          null,
          0.690016328140396,
          0.4666482714834408,
          null,
          0.362322730884702,
          0.42704536740474663,
          null,
          0.362322730884702,
          0.3232711412508066,
          null,
          0.362322730884702,
          0.5488515965193208,
          null,
          0.362322730884702,
          0.2083567880838434,
          null,
          0.362322730884702,
          0.21665962402659544,
          null,
          0.362322730884702,
          0.13985272363426526,
          null,
          0.13985272363426526,
          0.3232711412508066,
          null,
          0.13985272363426526,
          0.12631654071213483,
          null,
          0.13985272363426526,
          0.2083567880838434,
          null,
          0.13985272363426526,
          0.21665962402659544,
          null,
          0.13985272363426526,
          0.13022993020357043,
          null,
          0.891868301175821,
          0.9532681441921305,
          null,
          0.026771817842421997,
          0.09186645974288632,
          null,
          0.026771817842421997,
          0.2083567880838434,
          null,
          0.7353428557575755,
          0.7311657634689946,
          null,
          0.7353428557575755,
          0.6569436279895382,
          null,
          0.7353428557575755,
          0.8800306496459869,
          null,
          0.9768234503830939,
          0.999395685828547,
          null,
          0.9768234503830939,
          0.9528527425842739,
          null,
          0.9768234503830939,
          0.8800306496459869,
          null,
          0.13022993020357043,
          0.12631654071213483,
          null,
          0.21665962402659544,
          0.42704536740474663,
          null,
          0.21665962402659544,
          0.3232711412508066,
          null,
          0.21665962402659544,
          0.12631654071213483,
          null,
          0.21665962402659544,
          0.2083567880838434,
          null,
          0.2083567880838434,
          0.42704536740474663,
          null,
          0.2083567880838434,
          0.3232711412508066,
          null,
          0.2083567880838434,
          0.12631654071213483,
          null,
          0.12631654071213483,
          0.3232711412508066,
          null,
          0.5488515965193208,
          0.7311657634689946,
          null,
          0.5488515965193208,
          0.68128520136847,
          null,
          0.5488515965193208,
          0.42704536740474663,
          null,
          0.5488515965193208,
          0.3232711412508066,
          null,
          0.8800306496459869,
          0.999395685828547,
          null,
          0.8800306496459869,
          0.6569436279895382,
          null,
          0.8800306496459869,
          0.9528527425842739,
          null,
          0.4666482714834408,
          0.3996510641743197,
          null,
          0.3232711412508066,
          0.42704536740474663,
          null,
          0.9528527425842739,
          0.999395685828547,
          null,
          0.68128520136847,
          0.7311657634689946,
          null
         ]
        },
        {
         "hoverinfo": "text",
         "marker": {
          "color": [
           0,
           0,
           0,
           0,
           0,
           0,
           0,
           0,
           0,
           0,
           0,
           0,
           0,
           0,
           0,
           0,
           0,
           0,
           0,
           0,
           0,
           0,
           0,
           0,
           0,
           0,
           0,
           0,
           0,
           0,
           0,
           0,
           0,
           0,
           0,
           0,
           0,
           0,
           0,
           0
          ],
          "colorbar": {
           "thickness": 15,
           "title": {
            "side": "right",
            "text": "Node Connections"
           },
           "xanchor": "left"
          },
          "colorscale": [
           [
            0,
            "rgb(0, 0, 0)"
           ],
           [
            0.3333333333333333,
            "rgb(230,0,0)"
           ],
           [
            0.6666666666666666,
            "rgb(255,210,0)"
           ],
           [
            1,
            "rgb(255,255,255)"
           ]
          ],
          "line": {
           "width": 2
          },
          "reversescale": true,
          "showscale": false,
          "size": 10
         },
         "mode": "markers",
         "text": [
          "Intersection 0<br>Neighbors: 36, 34, 31, 28, 17",
          "Intersection 1<br>Neighbors: 35, 31, 27, 26, 25, 20, 18, 17, 15, 6",
          "Intersection 2<br>Neighbors: 39, 36, 21, 19, 9, 7, 4",
          "Intersection 3<br>Neighbors: 35, 20, 15, 11, 6",
          "Intersection 4<br>Neighbors: 2, 39, 36, 21, 19, 9, 7",
          "Intersection 5<br>Neighbors: 32, 16, 14",
          "Intersection 6<br>Neighbors: 1, 3, 35, 20, 15, 11",
          "Intersection 7<br>Neighbors: 2, 4, 39, 36, 22, 21, 19, 9",
          "Intersection 8<br>Neighbors: 33, 30, 14",
          "Intersection 9<br>Neighbors: 2, 4, 7, 36, 21, 19",
          "Intersection 10<br>Neighbors: 31, 27, 26, 25, 24, 18, 17, 13",
          "Intersection 11<br>Neighbors: 3, 6, 35, 20, 15",
          "Intersection 12<br>Neighbors: 37, 34, 31, 28, 22, 17",
          "Intersection 13<br>Neighbors: 10, 27, 24, 18",
          "Intersection 14<br>Neighbors: 5, 8, 33, 30, 16",
          "Intersection 15<br>Neighbors: 1, 3, 6, 11, 35, 31, 26, 25, 20, 17",
          "Intersection 16<br>Neighbors: 5, 14, 37, 30",
          "Intersection 17<br>Neighbors: 0, 1, 10, 12, 15, 34, 31, 28, 26, 25, 18",
          "Intersection 18<br>Neighbors: 1, 10, 13, 17, 31, 27, 26, 25, 24",
          "Intersection 19<br>Neighbors: 2, 4, 7, 9, 21",
          "Intersection 20<br>Neighbors: 1, 3, 6, 11, 15, 35, 26",
          "Intersection 21<br>Neighbors: 2, 4, 7, 9, 19",
          "Intersection 22<br>Neighbors: 7, 12, 39, 37, 29",
          "Intersection 23<br>Neighbors: 38, 32, 29",
          "Intersection 24<br>Neighbors: 10, 13, 18, 27",
          "Intersection 25<br>Neighbors: 1, 10, 15, 17, 18, 34, 31, 27, 26",
          "Intersection 26<br>Neighbors: 1, 10, 15, 17, 18, 20, 25, 34, 31, 27",
          "Intersection 27<br>Neighbors: 1, 10, 13, 18, 24, 25, 26, 31",
          "Intersection 28<br>Neighbors: 0, 12, 17, 39, 36, 34, 31",
          "Intersection 29<br>Neighbors: 22, 23, 38, 37, 32",
          "Intersection 30<br>Neighbors: 8, 14, 16, 33",
          "Intersection 31<br>Neighbors: 0, 1, 10, 12, 15, 17, 18, 25, 26, 27, 28, 34",
          "Intersection 32<br>Neighbors: 5, 23, 29, 38",
          "Intersection 33<br>Neighbors: 8, 14, 30",
          "Intersection 34<br>Neighbors: 0, 12, 17, 25, 26, 28, 31",
          "Intersection 35<br>Neighbors: 1, 3, 6, 11, 15, 20",
          "Intersection 36<br>Neighbors: 0, 2, 4, 7, 9, 28, 39",
          "Intersection 37<br>Neighbors: 12, 16, 22, 29",
          "Intersection 38<br>Neighbors: 23, 29, 32",
          "Intersection 39<br>Neighbors: 2, 4, 7, 22, 28, 36"
         ],
         "type": "scatter",
         "x": [
          0.7801603911549438,
          0.5249831588690298,
          0.8085335344099086,
          0.2599134798656856,
          0.7353838928272886,
          0.09088671576431506,
          0.313999018186756,
          0.6824813442515916,
          0.20128789391122526,
          0.8551947714242674,
          0.7581736589784409,
          0.25311953895059136,
          0.4813859169876731,
          0.9112422509614865,
          0.04580558670435442,
          0.4582523173083307,
          0.12939557977525573,
          0.607698913404794,
          0.719569201584275,
          0.8860336256842246,
          0.4238357358399233,
          0.8252497121120052,
          0.47415009287034726,
          0.26253385360950576,
          0.9363713903322148,
          0.6243437191127235,
          0.5572917679006295,
          0.7482655725962591,
          0.6435799740880603,
          0.34509802713919313,
          0.021423673670808885,
          0.640952694324525,
          0.17440205342790494,
          0.1332965908314021,
          0.583993110207876,
          0.3073865727705063,
          0.740625863119245,
          0.3345284735051981,
          0.17972981733780147,
          0.6315322816286787
         ],
         "y": [
          0.49474860768712914,
          0.14953665513987202,
          0.7696330846542071,
          0.14485659826020547,
          0.8089961609345658,
          0.7222846879290787,
          0.01876171413125327,
          0.8016111783687677,
          0.43196344222361227,
          0.9011339078096633,
          0.24026772497187532,
          0.10321622277398101,
          0.5006237737207431,
          0.1839028760606296,
          0.5886703168399895,
          0.1735506267461867,
          0.690016328140396,
          0.362322730884702,
          0.13985272363426526,
          0.891868301175821,
          0.026771817842421997,
          0.9532681441921305,
          0.7353428557575755,
          0.9768234503830939,
          0.13022993020357043,
          0.21665962402659544,
          0.2083567880838434,
          0.12631654071213483,
          0.5488515965193208,
          0.8800306496459869,
          0.4666482714834408,
          0.3232711412508066,
          0.9528527425842739,
          0.3996510641743197,
          0.42704536740474663,
          0.09186645974288632,
          0.68128520136847,
          0.6569436279895382,
          0.999395685828547,
          0.7311657634689946
         ]
        }
       ],
       "layout": {
        "autosize": true,
        "hovermode": "closest",
        "margin": {
         "b": 20,
         "l": 5,
         "r": 5,
         "t": 40
        },
        "showlegend": false,
        "template": {
         "data": {
          "bar": [
           {
            "error_x": {
             "color": "#2a3f5f"
            },
            "error_y": {
             "color": "#2a3f5f"
            },
            "marker": {
             "line": {
              "color": "#E5ECF6",
              "width": 0.5
             },
             "pattern": {
              "fillmode": "overlay",
              "size": 10,
              "solidity": 0.2
             }
            },
            "type": "bar"
           }
          ],
          "barpolar": [
           {
            "marker": {
             "line": {
              "color": "#E5ECF6",
              "width": 0.5
             },
             "pattern": {
              "fillmode": "overlay",
              "size": 10,
              "solidity": 0.2
             }
            },
            "type": "barpolar"
           }
          ],
          "carpet": [
           {
            "aaxis": {
             "endlinecolor": "#2a3f5f",
             "gridcolor": "white",
             "linecolor": "white",
             "minorgridcolor": "white",
             "startlinecolor": "#2a3f5f"
            },
            "baxis": {
             "endlinecolor": "#2a3f5f",
             "gridcolor": "white",
             "linecolor": "white",
             "minorgridcolor": "white",
             "startlinecolor": "#2a3f5f"
            },
            "type": "carpet"
           }
          ],
          "choropleth": [
           {
            "colorbar": {
             "outlinewidth": 0,
             "ticks": ""
            },
            "type": "choropleth"
           }
          ],
          "contour": [
           {
            "colorbar": {
             "outlinewidth": 0,
             "ticks": ""
            },
            "colorscale": [
             [
              0,
              "#0d0887"
             ],
             [
              0.1111111111111111,
              "#46039f"
             ],
             [
              0.2222222222222222,
              "#7201a8"
             ],
             [
              0.3333333333333333,
              "#9c179e"
             ],
             [
              0.4444444444444444,
              "#bd3786"
             ],
             [
              0.5555555555555556,
              "#d8576b"
             ],
             [
              0.6666666666666666,
              "#ed7953"
             ],
             [
              0.7777777777777778,
              "#fb9f3a"
             ],
             [
              0.8888888888888888,
              "#fdca26"
             ],
             [
              1,
              "#f0f921"
             ]
            ],
            "type": "contour"
           }
          ],
          "contourcarpet": [
           {
            "colorbar": {
             "outlinewidth": 0,
             "ticks": ""
            },
            "type": "contourcarpet"
           }
          ],
          "heatmap": [
           {
            "colorbar": {
             "outlinewidth": 0,
             "ticks": ""
            },
            "colorscale": [
             [
              0,
              "#0d0887"
             ],
             [
              0.1111111111111111,
              "#46039f"
             ],
             [
              0.2222222222222222,
              "#7201a8"
             ],
             [
              0.3333333333333333,
              "#9c179e"
             ],
             [
              0.4444444444444444,
              "#bd3786"
             ],
             [
              0.5555555555555556,
              "#d8576b"
             ],
             [
              0.6666666666666666,
              "#ed7953"
             ],
             [
              0.7777777777777778,
              "#fb9f3a"
             ],
             [
              0.8888888888888888,
              "#fdca26"
             ],
             [
              1,
              "#f0f921"
             ]
            ],
            "type": "heatmap"
           }
          ],
          "heatmapgl": [
           {
            "colorbar": {
             "outlinewidth": 0,
             "ticks": ""
            },
            "colorscale": [
             [
              0,
              "#0d0887"
             ],
             [
              0.1111111111111111,
              "#46039f"
             ],
             [
              0.2222222222222222,
              "#7201a8"
             ],
             [
              0.3333333333333333,
              "#9c179e"
             ],
             [
              0.4444444444444444,
              "#bd3786"
             ],
             [
              0.5555555555555556,
              "#d8576b"
             ],
             [
              0.6666666666666666,
              "#ed7953"
             ],
             [
              0.7777777777777778,
              "#fb9f3a"
             ],
             [
              0.8888888888888888,
              "#fdca26"
             ],
             [
              1,
              "#f0f921"
             ]
            ],
            "type": "heatmapgl"
           }
          ],
          "histogram": [
           {
            "marker": {
             "pattern": {
              "fillmode": "overlay",
              "size": 10,
              "solidity": 0.2
             }
            },
            "type": "histogram"
           }
          ],
          "histogram2d": [
           {
            "colorbar": {
             "outlinewidth": 0,
             "ticks": ""
            },
            "colorscale": [
             [
              0,
              "#0d0887"
             ],
             [
              0.1111111111111111,
              "#46039f"
             ],
             [
              0.2222222222222222,
              "#7201a8"
             ],
             [
              0.3333333333333333,
              "#9c179e"
             ],
             [
              0.4444444444444444,
              "#bd3786"
             ],
             [
              0.5555555555555556,
              "#d8576b"
             ],
             [
              0.6666666666666666,
              "#ed7953"
             ],
             [
              0.7777777777777778,
              "#fb9f3a"
             ],
             [
              0.8888888888888888,
              "#fdca26"
             ],
             [
              1,
              "#f0f921"
             ]
            ],
            "type": "histogram2d"
           }
          ],
          "histogram2dcontour": [
           {
            "colorbar": {
             "outlinewidth": 0,
             "ticks": ""
            },
            "colorscale": [
             [
              0,
              "#0d0887"
             ],
             [
              0.1111111111111111,
              "#46039f"
             ],
             [
              0.2222222222222222,
              "#7201a8"
             ],
             [
              0.3333333333333333,
              "#9c179e"
             ],
             [
              0.4444444444444444,
              "#bd3786"
             ],
             [
              0.5555555555555556,
              "#d8576b"
             ],
             [
              0.6666666666666666,
              "#ed7953"
             ],
             [
              0.7777777777777778,
              "#fb9f3a"
             ],
             [
              0.8888888888888888,
              "#fdca26"
             ],
             [
              1,
              "#f0f921"
             ]
            ],
            "type": "histogram2dcontour"
           }
          ],
          "mesh3d": [
           {
            "colorbar": {
             "outlinewidth": 0,
             "ticks": ""
            },
            "type": "mesh3d"
           }
          ],
          "parcoords": [
           {
            "line": {
             "colorbar": {
              "outlinewidth": 0,
              "ticks": ""
             }
            },
            "type": "parcoords"
           }
          ],
          "pie": [
           {
            "automargin": true,
            "type": "pie"
           }
          ],
          "scatter": [
           {
            "fillpattern": {
             "fillmode": "overlay",
             "size": 10,
             "solidity": 0.2
            },
            "type": "scatter"
           }
          ],
          "scatter3d": [
           {
            "line": {
             "colorbar": {
              "outlinewidth": 0,
              "ticks": ""
             }
            },
            "marker": {
             "colorbar": {
              "outlinewidth": 0,
              "ticks": ""
             }
            },
            "type": "scatter3d"
           }
          ],
          "scattercarpet": [
           {
            "marker": {
             "colorbar": {
              "outlinewidth": 0,
              "ticks": ""
             }
            },
            "type": "scattercarpet"
           }
          ],
          "scattergeo": [
           {
            "marker": {
             "colorbar": {
              "outlinewidth": 0,
              "ticks": ""
             }
            },
            "type": "scattergeo"
           }
          ],
          "scattergl": [
           {
            "marker": {
             "colorbar": {
              "outlinewidth": 0,
              "ticks": ""
             }
            },
            "type": "scattergl"
           }
          ],
          "scattermapbox": [
           {
            "marker": {
             "colorbar": {
              "outlinewidth": 0,
              "ticks": ""
             }
            },
            "type": "scattermapbox"
           }
          ],
          "scatterpolar": [
           {
            "marker": {
             "colorbar": {
              "outlinewidth": 0,
              "ticks": ""
             }
            },
            "type": "scatterpolar"
           }
          ],
          "scatterpolargl": [
           {
            "marker": {
             "colorbar": {
              "outlinewidth": 0,
              "ticks": ""
             }
            },
            "type": "scatterpolargl"
           }
          ],
          "scatterternary": [
           {
            "marker": {
             "colorbar": {
              "outlinewidth": 0,
              "ticks": ""
             }
            },
            "type": "scatterternary"
           }
          ],
          "surface": [
           {
            "colorbar": {
             "outlinewidth": 0,
             "ticks": ""
            },
            "colorscale": [
             [
              0,
              "#0d0887"
             ],
             [
              0.1111111111111111,
              "#46039f"
             ],
             [
              0.2222222222222222,
              "#7201a8"
             ],
             [
              0.3333333333333333,
              "#9c179e"
             ],
             [
              0.4444444444444444,
              "#bd3786"
             ],
             [
              0.5555555555555556,
              "#d8576b"
             ],
             [
              0.6666666666666666,
              "#ed7953"
             ],
             [
              0.7777777777777778,
              "#fb9f3a"
             ],
             [
              0.8888888888888888,
              "#fdca26"
             ],
             [
              1,
              "#f0f921"
             ]
            ],
            "type": "surface"
           }
          ],
          "table": [
           {
            "cells": {
             "fill": {
              "color": "#EBF0F8"
             },
             "line": {
              "color": "white"
             }
            },
            "header": {
             "fill": {
              "color": "#C8D4E3"
             },
             "line": {
              "color": "white"
             }
            },
            "type": "table"
           }
          ]
         },
         "layout": {
          "annotationdefaults": {
           "arrowcolor": "#2a3f5f",
           "arrowhead": 0,
           "arrowwidth": 1
          },
          "autotypenumbers": "strict",
          "coloraxis": {
           "colorbar": {
            "outlinewidth": 0,
            "ticks": ""
           }
          },
          "colorscale": {
           "diverging": [
            [
             0,
             "#8e0152"
            ],
            [
             0.1,
             "#c51b7d"
            ],
            [
             0.2,
             "#de77ae"
            ],
            [
             0.3,
             "#f1b6da"
            ],
            [
             0.4,
             "#fde0ef"
            ],
            [
             0.5,
             "#f7f7f7"
            ],
            [
             0.6,
             "#e6f5d0"
            ],
            [
             0.7,
             "#b8e186"
            ],
            [
             0.8,
             "#7fbc41"
            ],
            [
             0.9,
             "#4d9221"
            ],
            [
             1,
             "#276419"
            ]
           ],
           "sequential": [
            [
             0,
             "#0d0887"
            ],
            [
             0.1111111111111111,
             "#46039f"
            ],
            [
             0.2222222222222222,
             "#7201a8"
            ],
            [
             0.3333333333333333,
             "#9c179e"
            ],
            [
             0.4444444444444444,
             "#bd3786"
            ],
            [
             0.5555555555555556,
             "#d8576b"
            ],
            [
             0.6666666666666666,
             "#ed7953"
            ],
            [
             0.7777777777777778,
             "#fb9f3a"
            ],
            [
             0.8888888888888888,
             "#fdca26"
            ],
            [
             1,
             "#f0f921"
            ]
           ],
           "sequentialminus": [
            [
             0,
             "#0d0887"
            ],
            [
             0.1111111111111111,
             "#46039f"
            ],
            [
             0.2222222222222222,
             "#7201a8"
            ],
            [
             0.3333333333333333,
             "#9c179e"
            ],
            [
             0.4444444444444444,
             "#bd3786"
            ],
            [
             0.5555555555555556,
             "#d8576b"
            ],
            [
             0.6666666666666666,
             "#ed7953"
            ],
            [
             0.7777777777777778,
             "#fb9f3a"
            ],
            [
             0.8888888888888888,
             "#fdca26"
            ],
            [
             1,
             "#f0f921"
            ]
           ]
          },
          "colorway": [
           "#636efa",
           "#EF553B",
           "#00cc96",
           "#ab63fa",
           "#FFA15A",
           "#19d3f3",
           "#FF6692",
           "#B6E880",
           "#FF97FF",
           "#FECB52"
          ],
          "font": {
           "color": "#2a3f5f"
          },
          "geo": {
           "bgcolor": "white",
           "lakecolor": "white",
           "landcolor": "#E5ECF6",
           "showlakes": true,
           "showland": true,
           "subunitcolor": "white"
          },
          "hoverlabel": {
           "align": "left"
          },
          "hovermode": "closest",
          "mapbox": {
           "style": "light"
          },
          "paper_bgcolor": "white",
          "plot_bgcolor": "#E5ECF6",
          "polar": {
           "angularaxis": {
            "gridcolor": "white",
            "linecolor": "white",
            "ticks": ""
           },
           "bgcolor": "#E5ECF6",
           "radialaxis": {
            "gridcolor": "white",
            "linecolor": "white",
            "ticks": ""
           }
          },
          "scene": {
           "xaxis": {
            "backgroundcolor": "#E5ECF6",
            "gridcolor": "white",
            "gridwidth": 2,
            "linecolor": "white",
            "showbackground": true,
            "ticks": "",
            "zerolinecolor": "white"
           },
           "yaxis": {
            "backgroundcolor": "#E5ECF6",
            "gridcolor": "white",
            "gridwidth": 2,
            "linecolor": "white",
            "showbackground": true,
            "ticks": "",
            "zerolinecolor": "white"
           },
           "zaxis": {
            "backgroundcolor": "#E5ECF6",
            "gridcolor": "white",
            "gridwidth": 2,
            "linecolor": "white",
            "showbackground": true,
            "ticks": "",
            "zerolinecolor": "white"
           }
          },
          "shapedefaults": {
           "line": {
            "color": "#2a3f5f"
           }
          },
          "ternary": {
           "aaxis": {
            "gridcolor": "white",
            "linecolor": "white",
            "ticks": ""
           },
           "baxis": {
            "gridcolor": "white",
            "linecolor": "white",
            "ticks": ""
           },
           "bgcolor": "#E5ECF6",
           "caxis": {
            "gridcolor": "white",
            "linecolor": "white",
            "ticks": ""
           }
          },
          "title": {
           "x": 0.05
          },
          "xaxis": {
           "automargin": true,
           "gridcolor": "white",
           "linecolor": "white",
           "ticks": "",
           "title": {
            "standoff": 15
           },
           "zerolinecolor": "white",
           "zerolinewidth": 2
          },
          "yaxis": {
           "automargin": true,
           "gridcolor": "white",
           "linecolor": "white",
           "ticks": "",
           "title": {
            "standoff": 15
           },
           "zerolinecolor": "white",
           "zerolinewidth": 2
          }
         }
        },
        "title": {
         "font": {
          "size": 16
         },
         "text": "<br>Network graph made with Python"
        },
        "xaxis": {
         "autorange": true,
         "range": [
          -0.03585928228752938,
          0.9936543462905532
         ],
         "showgrid": false,
         "showticklabels": false,
         "type": "linear",
         "zeroline": false
        },
        "yaxis": {
         "autorange": true,
         "range": [
          -0.06216439032920301,
          1.0803217902890032
         ],
         "showgrid": false,
         "showticklabels": false,
         "type": "linear",
         "zeroline": false
        }
       }
      },
      "image/png": "[encoded data removed]",
      "text/html": [
       "<div>                            <div id=\"4efae32c-c173-4f4c-b573-c6eabf491bc8\" class=\"plotly-graph-div\" style=\"height:525px; width:100%;\"></div>            <script type=\"text/javascript\">                require([\"plotly\"], function(Plotly) {                    window.PLOTLYENV=window.PLOTLYENV || {};                                    if (document.getElementById(\"4efae32c-c173-4f4c-b573-c6eabf491bc8\")) {                    Plotly.newPlot(                        \"4efae32c-c173-4f4c-b573-c6eabf491bc8\",                        [{\"hoverinfo\":\"none\",\"line\":{\"color\":\"#888\",\"width\":0.5},\"mode\":\"lines\",\"x\":[0.7801603911549438,0.740625863119245,null,0.7801603911549438,0.583993110207876,null,0.7801603911549438,0.640952694324525,null,0.7801603911549438,0.6435799740880603,null,0.7801603911549438,0.607698913404794,null,0.5249831588690298,0.3073865727705063,null,0.5249831588690298,0.640952694324525,null,0.5249831588690298,0.7482655725962591,null,0.5249831588690298,0.5572917679006295,null,0.5249831588690298,0.6243437191127235,null,0.5249831588690298,0.4238357358399233,null,0.5249831588690298,0.719569201584275,null,0.5249831588690298,0.607698913404794,null,0.5249831588690298,0.4582523173083307,null,0.5249831588690298,0.313999018186756,null,0.8085335344099086,0.6315322816286787,null,0.8085335344099086,0.740625863119245,null,0.8085335344099086,0.8252497121120052,null,0.8085335344099086,0.8860336256842246,null,0.8085335344099086,0.8551947714242674,null,0.8085335344099086,0.6824813442515916,null,0.8085335344099086,0.7353838928272886,null,0.2599134798656856,0.3073865727705063,null,0.2599134798656856,0.4238357358399233,null,0.2599134798656856,0.4582523173083307,null,0.2599134798656856,0.25311953895059136,null,0.2599134798656856,0.313999018186756,null,0.7353838928272886,0.6315322816286787,null,0.7353838928272886,0.740625863119245,null,0.7353838928272886,0.8252497121120052,null,0.7353838928272886,0.8860336256842246,null,0.7353838928272886,0.8551947714242674,null,0.7353838928272886,0.6824813442515916,null,0.09088671576431506,0.17440205342790494,null,0.09088671576431506,0.12939557977525573,null,0.09088671576431506,0.04580558670435442,null,0.313999018186756,0.3073865727705063,null,0.313999018186756,0.4238357358399233,null,0.313999018186756,0.4582523173083307,null,0.313999018186756,0.25311953895059136,null,0.6824813442515916,0.6315322816286787,null,0.6824813442515916,0.740625863119245,null,0.6824813442515916,0.47415009287034726,null,0.6824813442515916,0.8252497121120052,null,0.6824813442515916,0.8860336256842246,null,0.6824813442515916,0.8551947714242674,null,0.20128789391122526,0.1332965908314021,null,0.20128789391122526,0.021423673670808885,null,0.20128789391122526,0.04580558670435442,null,0.8551947714242674,0.740625863119245,null,0.8551947714242674,0.8252497121120052,null,0.8551947714242674,0.8860336256842246,null,0.7581736589784409,0.640952694324525,null,0.7581736589784409,0.7482655725962591,null,0.7581736589784409,0.5572917679006295,null,0.7581736589784409,0.6243437191127235,null,0.7581736589784409,0.9363713903322148,null,0.7581736589784409,0.719569201584275,null,0.7581736589784409,0.607698913404794,null,0.7581736589784409,0.9112422509614865,null,0.25311953895059136,0.3073865727705063,null,0.25311953895059136,0.4238357358399233,null,0.25311953895059136,0.4582523173083307,null,0.4813859169876731,0.3345284735051981,null,0.4813859169876731,0.583993110207876,null,0.4813859169876731,0.640952694324525,null,0.4813859169876731,0.6435799740880603,null,0.4813859169876731,0.47415009287034726,null,0.4813859169876731,0.607698913404794,null,0.9112422509614865,0.7482655725962591,null,0.9112422509614865,0.9363713903322148,null,0.9112422509614865,0.719569201584275,null,0.04580558670435442,0.1332965908314021,null,0.04580558670435442,0.021423673670808885,null,0.04580558670435442,0.12939557977525573,null,0.4582523173083307,0.3073865727705063,null,0.4582523173083307,0.640952694324525,null,0.4582523173083307,0.5572917679006295,null,0.4582523173083307,0.6243437191127235,null,0.4582523173083307,0.4238357358399233,null,0.4582523173083307,0.607698913404794,null,0.12939557977525573,0.3345284735051981,null,0.12939557977525573,0.021423673670808885,null,0.607698913404794,0.583993110207876,null,0.607698913404794,0.640952694324525,null,0.607698913404794,0.6435799740880603,null,0.607698913404794,0.5572917679006295,null,0.607698913404794,0.6243437191127235,null,0.607698913404794,0.719569201584275,null,0.719569201584275,0.640952694324525,null,0.719569201584275,0.7482655725962591,null,0.719569201584275,0.5572917679006295,null,0.719569201584275,0.6243437191127235,null,0.719569201584275,0.9363713903322148,null,0.8860336256842246,0.8252497121120052,null,0.4238357358399233,0.3073865727705063,null,0.4238357358399233,0.5572917679006295,null,0.47415009287034726,0.6315322816286787,null,0.47415009287034726,0.3345284735051981,null,0.47415009287034726,0.34509802713919313,null,0.26253385360950576,0.17972981733780147,null,0.26253385360950576,0.17440205342790494,null,0.26253385360950576,0.34509802713919313,null,0.9363713903322148,0.7482655725962591,null,0.6243437191127235,0.583993110207876,null,0.6243437191127235,0.640952694324525,null,0.6243437191127235,0.7482655725962591,null,0.6243437191127235,0.5572917679006295,null,0.5572917679006295,0.583993110207876,null,0.5572917679006295,0.640952694324525,null,0.5572917679006295,0.7482655725962591,null,0.7482655725962591,0.640952694324525,null,0.6435799740880603,0.6315322816286787,null,0.6435799740880603,0.740625863119245,null,0.6435799740880603,0.583993110207876,null,0.6435799740880603,0.640952694324525,null,0.34509802713919313,0.17972981733780147,null,0.34509802713919313,0.3345284735051981,null,0.34509802713919313,0.17440205342790494,null,0.021423673670808885,0.1332965908314021,null,0.640952694324525,0.583993110207876,null,0.17440205342790494,0.17972981733780147,null,0.740625863119245,0.6315322816286787,null],\"y\":[0.49474860768712914,0.68128520136847,null,0.49474860768712914,0.42704536740474663,null,0.49474860768712914,0.3232711412508066,null,0.49474860768712914,0.5488515965193208,null,0.49474860768712914,0.362322730884702,null,0.14953665513987202,0.09186645974288632,null,0.14953665513987202,0.3232711412508066,null,0.14953665513987202,0.12631654071213483,null,0.14953665513987202,0.2083567880838434,null,0.14953665513987202,0.21665962402659544,null,0.14953665513987202,0.026771817842421997,null,0.14953665513987202,0.13985272363426526,null,0.14953665513987202,0.362322730884702,null,0.14953665513987202,0.1735506267461867,null,0.14953665513987202,0.01876171413125327,null,0.7696330846542071,0.7311657634689946,null,0.7696330846542071,0.68128520136847,null,0.7696330846542071,0.9532681441921305,null,0.7696330846542071,0.891868301175821,null,0.7696330846542071,0.9011339078096633,null,0.7696330846542071,0.8016111783687677,null,0.7696330846542071,0.8089961609345658,null,0.14485659826020547,0.09186645974288632,null,0.14485659826020547,0.026771817842421997,null,0.14485659826020547,0.1735506267461867,null,0.14485659826020547,0.10321622277398101,null,0.14485659826020547,0.01876171413125327,null,0.8089961609345658,0.7311657634689946,null,0.8089961609345658,0.68128520136847,null,0.8089961609345658,0.9532681441921305,null,0.8089961609345658,0.891868301175821,null,0.8089961609345658,0.9011339078096633,null,0.8089961609345658,0.8016111783687677,null,0.7222846879290787,0.9528527425842739,null,0.7222846879290787,0.690016328140396,null,0.7222846879290787,0.5886703168399895,null,0.01876171413125327,0.09186645974288632,null,0.01876171413125327,0.026771817842421997,null,0.01876171413125327,0.1735506267461867,null,0.01876171413125327,0.10321622277398101,null,0.8016111783687677,0.7311657634689946,null,0.8016111783687677,0.68128520136847,null,0.8016111783687677,0.7353428557575755,null,0.8016111783687677,0.9532681441921305,null,0.8016111783687677,0.891868301175821,null,0.8016111783687677,0.9011339078096633,null,0.43196344222361227,0.3996510641743197,null,0.43196344222361227,0.4666482714834408,null,0.43196344222361227,0.5886703168399895,null,0.9011339078096633,0.68128520136847,null,0.9011339078096633,0.9532681441921305,null,0.9011339078096633,0.891868301175821,null,0.24026772497187532,0.3232711412508066,null,0.24026772497187532,0.12631654071213483,null,0.24026772497187532,0.2083567880838434,null,0.24026772497187532,0.21665962402659544,null,0.24026772497187532,0.13022993020357043,null,0.24026772497187532,0.13985272363426526,null,0.24026772497187532,0.362322730884702,null,0.24026772497187532,0.1839028760606296,null,0.10321622277398101,0.09186645974288632,null,0.10321622277398101,0.026771817842421997,null,0.10321622277398101,0.1735506267461867,null,0.5006237737207431,0.6569436279895382,null,0.5006237737207431,0.42704536740474663,null,0.5006237737207431,0.3232711412508066,null,0.5006237737207431,0.5488515965193208,null,0.5006237737207431,0.7353428557575755,null,0.5006237737207431,0.362322730884702,null,0.1839028760606296,0.12631654071213483,null,0.1839028760606296,0.13022993020357043,null,0.1839028760606296,0.13985272363426526,null,0.5886703168399895,0.3996510641743197,null,0.5886703168399895,0.4666482714834408,null,0.5886703168399895,0.690016328140396,null,0.1735506267461867,0.09186645974288632,null,0.1735506267461867,0.3232711412508066,null,0.1735506267461867,0.2083567880838434,null,0.1735506267461867,0.21665962402659544,null,0.1735506267461867,0.026771817842421997,null,0.1735506267461867,0.362322730884702,null,0.690016328140396,0.6569436279895382,null,0.690016328140396,0.4666482714834408,null,0.362322730884702,0.42704536740474663,null,0.362322730884702,0.3232711412508066,null,0.362322730884702,0.5488515965193208,null,0.362322730884702,0.2083567880838434,null,0.362322730884702,0.21665962402659544,null,0.362322730884702,0.13985272363426526,null,0.13985272363426526,0.3232711412508066,null,0.13985272363426526,0.12631654071213483,null,0.13985272363426526,0.2083567880838434,null,0.13985272363426526,0.21665962402659544,null,0.13985272363426526,0.13022993020357043,null,0.891868301175821,0.9532681441921305,null,0.026771817842421997,0.09186645974288632,null,0.026771817842421997,0.2083567880838434,null,0.7353428557575755,0.7311657634689946,null,0.7353428557575755,0.6569436279895382,null,0.7353428557575755,0.8800306496459869,null,0.9768234503830939,0.999395685828547,null,0.9768234503830939,0.9528527425842739,null,0.9768234503830939,0.8800306496459869,null,0.13022993020357043,0.12631654071213483,null,0.21665962402659544,0.42704536740474663,null,0.21665962402659544,0.3232711412508066,null,0.21665962402659544,0.12631654071213483,null,0.21665962402659544,0.2083567880838434,null,0.2083567880838434,0.42704536740474663,null,0.2083567880838434,0.3232711412508066,null,0.2083567880838434,0.12631654071213483,null,0.12631654071213483,0.3232711412508066,null,0.5488515965193208,0.7311657634689946,null,0.5488515965193208,0.68128520136847,null,0.5488515965193208,0.42704536740474663,null,0.5488515965193208,0.3232711412508066,null,0.8800306496459869,0.999395685828547,null,0.8800306496459869,0.6569436279895382,null,0.8800306496459869,0.9528527425842739,null,0.4666482714834408,0.3996510641743197,null,0.3232711412508066,0.42704536740474663,null,0.9528527425842739,0.999395685828547,null,0.68128520136847,0.7311657634689946,null],\"type\":\"scatter\"},{\"hoverinfo\":\"text\",\"marker\":{\"color\":[0,0,0,0,0,0,0,0,0,0,0,0,0,0,0,0,0,0,0,0,0,0,0,0,0,0,0,0,0,0,0,0,0,0,0,0,0,0,0,0],\"colorbar\":{\"thickness\":15,\"title\":{\"side\":\"right\",\"text\":\"Node Connections\"},\"xanchor\":\"left\"},\"colorscale\":[[0.0,\"rgb(0,0,0)\"],[0.3333333333333333,\"rgb(230,0,0)\"],[0.6666666666666666,\"rgb(255,210,0)\"],[1.0,\"rgb(255,255,255)\"]],\"line\":{\"width\":2},\"reversescale\":true,\"showscale\":false,\"size\":10},\"mode\":\"markers\",\"text\":[\"Intersection 0\\u003cbr\\u003eNeighbors: 36, 34, 31, 28, 17\",\"Intersection 1\\u003cbr\\u003eNeighbors: 35, 31, 27, 26, 25, 20, 18, 17, 15, 6\",\"Intersection 2\\u003cbr\\u003eNeighbors: 39, 36, 21, 19, 9, 7, 4\",\"Intersection 3\\u003cbr\\u003eNeighbors: 35, 20, 15, 11, 6\",\"Intersection 4\\u003cbr\\u003eNeighbors: 2, 39, 36, 21, 19, 9, 7\",\"Intersection 5\\u003cbr\\u003eNeighbors: 32, 16, 14\",\"Intersection 6\\u003cbr\\u003eNeighbors: 1, 3, 35, 20, 15, 11\",\"Intersection 7\\u003cbr\\u003eNeighbors: 2, 4, 39, 36, 22, 21, 19, 9\",\"Intersection 8\\u003cbr\\u003eNeighbors: 33, 30, 14\",\"Intersection 9\\u003cbr\\u003eNeighbors: 2, 4, 7, 36, 21, 19\",\"Intersection 10\\u003cbr\\u003eNeighbors: 31, 27, 26, 25, 24, 18, 17, 13\",\"Intersection 11\\u003cbr\\u003eNeighbors: 3, 6, 35, 20, 15\",\"Intersection 12\\u003cbr\\u003eNeighbors: 37, 34, 31, 28, 22, 17\",\"Intersection 13\\u003cbr\\u003eNeighbors: 10, 27, 24, 18\",\"Intersection 14\\u003cbr\\u003eNeighbors: 5, 8, 33, 30, 16\",\"Intersection 15\\u003cbr\\u003eNeighbors: 1, 3, 6, 11, 35, 31, 26, 25, 20, 17\",\"Intersection 16\\u003cbr\\u003eNeighbors: 5, 14, 37, 30\",\"Intersection 17\\u003cbr\\u003eNeighbors: 0, 1, 10, 12, 15, 34, 31, 28, 26, 25, 18\",\"Intersection 18\\u003cbr\\u003eNeighbors: 1, 10, 13, 17, 31, 27, 26, 25, 24\",\"Intersection 19\\u003cbr\\u003eNeighbors: 2, 4, 7, 9, 21\",\"Intersection 20\\u003cbr\\u003eNeighbors: 1, 3, 6, 11, 15, 35, 26\",\"Intersection 21\\u003cbr\\u003eNeighbors: 2, 4, 7, 9, 19\",\"Intersection 22\\u003cbr\\u003eNeighbors: 7, 12, 39, 37, 29\",\"Intersection 23\\u003cbr\\u003eNeighbors: 38, 32, 29\",\"Intersection 24\\u003cbr\\u003eNeighbors: 10, 13, 18, 27\",\"Intersection 25\\u003cbr\\u003eNeighbors: 1, 10, 15, 17, 18, 34, 31, 27, 26\",\"Intersection 26\\u003cbr\\u003eNeighbors: 1, 10, 15, 17, 18, 20, 25, 34, 31, 27\",\"Intersection 27\\u003cbr\\u003eNeighbors: 1, 10, 13, 18, 24, 25, 26, 31\",\"Intersection 28\\u003cbr\\u003eNeighbors: 0, 12, 17, 39, 36, 34, 31\",\"Intersection 29\\u003cbr\\u003eNeighbors: 22, 23, 38, 37, 32\",\"Intersection 30\\u003cbr\\u003eNeighbors: 8, 14, 16, 33\",\"Intersection 31\\u003cbr\\u003eNeighbors: 0, 1, 10, 12, 15, 17, 18, 25, 26, 27, 28, 34\",\"Intersection 32\\u003cbr\\u003eNeighbors: 5, 23, 29, 38\",\"Intersection 33\\u003cbr\\u003eNeighbors: 8, 14, 30\",\"Intersection 34\\u003cbr\\u003eNeighbors: 0, 12, 17, 25, 26, 28, 31\",\"Intersection 35\\u003cbr\\u003eNeighbors: 1, 3, 6, 11, 15, 20\",\"Intersection 36\\u003cbr\\u003eNeighbors: 0, 2, 4, 7, 9, 28, 39\",\"Intersection 37\\u003cbr\\u003eNeighbors: 12, 16, 22, 29\",\"Intersection 38\\u003cbr\\u003eNeighbors: 23, 29, 32\",\"Intersection 39\\u003cbr\\u003eNeighbors: 2, 4, 7, 22, 28, 36\"],\"x\":[0.7801603911549438,0.5249831588690298,0.8085335344099086,0.2599134798656856,0.7353838928272886,0.09088671576431506,0.313999018186756,0.6824813442515916,0.20128789391122526,0.8551947714242674,0.7581736589784409,0.25311953895059136,0.4813859169876731,0.9112422509614865,0.04580558670435442,0.4582523173083307,0.12939557977525573,0.607698913404794,0.719569201584275,0.8860336256842246,0.4238357358399233,0.8252497121120052,0.47415009287034726,0.26253385360950576,0.9363713903322148,0.6243437191127235,0.5572917679006295,0.7482655725962591,0.6435799740880603,0.34509802713919313,0.021423673670808885,0.640952694324525,0.17440205342790494,0.1332965908314021,0.583993110207876,0.3073865727705063,0.740625863119245,0.3345284735051981,0.17972981733780147,0.6315322816286787],\"y\":[0.49474860768712914,0.14953665513987202,0.7696330846542071,0.14485659826020547,0.8089961609345658,0.7222846879290787,0.01876171413125327,0.8016111783687677,0.43196344222361227,0.9011339078096633,0.24026772497187532,0.10321622277398101,0.5006237737207431,0.1839028760606296,0.5886703168399895,0.1735506267461867,0.690016328140396,0.362322730884702,0.13985272363426526,0.891868301175821,0.026771817842421997,0.9532681441921305,0.7353428557575755,0.9768234503830939,0.13022993020357043,0.21665962402659544,0.2083567880838434,0.12631654071213483,0.5488515965193208,0.8800306496459869,0.4666482714834408,0.3232711412508066,0.9528527425842739,0.3996510641743197,0.42704536740474663,0.09186645974288632,0.68128520136847,0.6569436279895382,0.999395685828547,0.7311657634689946],\"type\":\"scatter\"}],                        {\"hovermode\":\"closest\",\"margin\":{\"b\":20,\"l\":5,\"r\":5,\"t\":40},\"showlegend\":false,\"template\":{\"data\":{\"barpolar\":[{\"marker\":{\"line\":{\"color\":\"#E5ECF6\",\"width\":0.5},\"pattern\":{\"fillmode\":\"overlay\",\"size\":10,\"solidity\":0.2}},\"type\":\"barpolar\"}],\"bar\":[{\"error_x\":{\"color\":\"#2a3f5f\"},\"error_y\":{\"color\":\"#2a3f5f\"},\"marker\":{\"line\":{\"color\":\"#E5ECF6\",\"width\":0.5},\"pattern\":{\"fillmode\":\"overlay\",\"size\":10,\"solidity\":0.2}},\"type\":\"bar\"}],\"carpet\":[{\"aaxis\":{\"endlinecolor\":\"#2a3f5f\",\"gridcolor\":\"white\",\"linecolor\":\"white\",\"minorgridcolor\":\"white\",\"startlinecolor\":\"#2a3f5f\"},\"baxis\":{\"endlinecolor\":\"#2a3f5f\",\"gridcolor\":\"white\",\"linecolor\":\"white\",\"minorgridcolor\":\"white\",\"startlinecolor\":\"#2a3f5f\"},\"type\":\"carpet\"}],\"choropleth\":[{\"colorbar\":{\"outlinewidth\":0,\"ticks\":\"\"},\"type\":\"choropleth\"}],\"contourcarpet\":[{\"colorbar\":{\"outlinewidth\":0,\"ticks\":\"\"},\"type\":\"contourcarpet\"}],\"contour\":[{\"colorbar\":{\"outlinewidth\":0,\"ticks\":\"\"},\"colorscale\":[[0.0,\"#0d0887\"],[0.1111111111111111,\"#46039f\"],[0.2222222222222222,\"#7201a8\"],[0.3333333333333333,\"#9c179e\"],[0.4444444444444444,\"#bd3786\"],[0.5555555555555556,\"#d8576b\"],[0.6666666666666666,\"#ed7953\"],[0.7777777777777778,\"#fb9f3a\"],[0.8888888888888888,\"#fdca26\"],[1.0,\"#f0f921\"]],\"type\":\"contour\"}],\"heatmapgl\":[{\"colorbar\":{\"outlinewidth\":0,\"ticks\":\"\"},\"colorscale\":[[0.0,\"#0d0887\"],[0.1111111111111111,\"#46039f\"],[0.2222222222222222,\"#7201a8\"],[0.3333333333333333,\"#9c179e\"],[0.4444444444444444,\"#bd3786\"],[0.5555555555555556,\"#d8576b\"],[0.6666666666666666,\"#ed7953\"],[0.7777777777777778,\"#fb9f3a\"],[0.8888888888888888,\"#fdca26\"],[1.0,\"#f0f921\"]],\"type\":\"heatmapgl\"}],\"heatmap\":[{\"colorbar\":{\"outlinewidth\":0,\"ticks\":\"\"},\"colorscale\":[[0.0,\"#0d0887\"],[0.1111111111111111,\"#46039f\"],[0.2222222222222222,\"#7201a8\"],[0.3333333333333333,\"#9c179e\"],[0.4444444444444444,\"#bd3786\"],[0.5555555555555556,\"#d8576b\"],[0.6666666666666666,\"#ed7953\"],[0.7777777777777778,\"#fb9f3a\"],[0.8888888888888888,\"#fdca26\"],[1.0,\"#f0f921\"]],\"type\":\"heatmap\"}],\"histogram2dcontour\":[{\"colorbar\":{\"outlinewidth\":0,\"ticks\":\"\"},\"colorscale\":[[0.0,\"#0d0887\"],[0.1111111111111111,\"#46039f\"],[0.2222222222222222,\"#7201a8\"],[0.3333333333333333,\"#9c179e\"],[0.4444444444444444,\"#bd3786\"],[0.5555555555555556,\"#d8576b\"],[0.6666666666666666,\"#ed7953\"],[0.7777777777777778,\"#fb9f3a\"],[0.8888888888888888,\"#fdca26\"],[1.0,\"#f0f921\"]],\"type\":\"histogram2dcontour\"}],\"histogram2d\":[{\"colorbar\":{\"outlinewidth\":0,\"ticks\":\"\"},\"colorscale\":[[0.0,\"#0d0887\"],[0.1111111111111111,\"#46039f\"],[0.2222222222222222,\"#7201a8\"],[0.3333333333333333,\"#9c179e\"],[0.4444444444444444,\"#bd3786\"],[0.5555555555555556,\"#d8576b\"],[0.6666666666666666,\"#ed7953\"],[0.7777777777777778,\"#fb9f3a\"],[0.8888888888888888,\"#fdca26\"],[1.0,\"#f0f921\"]],\"type\":\"histogram2d\"}],\"histogram\":[{\"marker\":{\"pattern\":{\"fillmode\":\"overlay\",\"size\":10,\"solidity\":0.2}},\"type\":\"histogram\"}],\"mesh3d\":[{\"colorbar\":{\"outlinewidth\":0,\"ticks\":\"\"},\"type\":\"mesh3d\"}],\"parcoords\":[{\"line\":{\"colorbar\":{\"outlinewidth\":0,\"ticks\":\"\"}},\"type\":\"parcoords\"}],\"pie\":[{\"automargin\":true,\"type\":\"pie\"}],\"scatter3d\":[{\"line\":{\"colorbar\":{\"outlinewidth\":0,\"ticks\":\"\"}},\"marker\":{\"colorbar\":{\"outlinewidth\":0,\"ticks\":\"\"}},\"type\":\"scatter3d\"}],\"scattercarpet\":[{\"marker\":{\"colorbar\":{\"outlinewidth\":0,\"ticks\":\"\"}},\"type\":\"scattercarpet\"}],\"scattergeo\":[{\"marker\":{\"colorbar\":{\"outlinewidth\":0,\"ticks\":\"\"}},\"type\":\"scattergeo\"}],\"scattergl\":[{\"marker\":{\"colorbar\":{\"outlinewidth\":0,\"ticks\":\"\"}},\"type\":\"scattergl\"}],\"scattermapbox\":[{\"marker\":{\"colorbar\":{\"outlinewidth\":0,\"ticks\":\"\"}},\"type\":\"scattermapbox\"}],\"scatterpolargl\":[{\"marker\":{\"colorbar\":{\"outlinewidth\":0,\"ticks\":\"\"}},\"type\":\"scatterpolargl\"}],\"scatterpolar\":[{\"marker\":{\"colorbar\":{\"outlinewidth\":0,\"ticks\":\"\"}},\"type\":\"scatterpolar\"}],\"scatter\":[{\"fillpattern\":{\"fillmode\":\"overlay\",\"size\":10,\"solidity\":0.2},\"type\":\"scatter\"}],\"scatterternary\":[{\"marker\":{\"colorbar\":{\"outlinewidth\":0,\"ticks\":\"\"}},\"type\":\"scatterternary\"}],\"surface\":[{\"colorbar\":{\"outlinewidth\":0,\"ticks\":\"\"},\"colorscale\":[[0.0,\"#0d0887\"],[0.1111111111111111,\"#46039f\"],[0.2222222222222222,\"#7201a8\"],[0.3333333333333333,\"#9c179e\"],[0.4444444444444444,\"#bd3786\"],[0.5555555555555556,\"#d8576b\"],[0.6666666666666666,\"#ed7953\"],[0.7777777777777778,\"#fb9f3a\"],[0.8888888888888888,\"#fdca26\"],[1.0,\"#f0f921\"]],\"type\":\"surface\"}],\"table\":[{\"cells\":{\"fill\":{\"color\":\"#EBF0F8\"},\"line\":{\"color\":\"white\"}},\"header\":{\"fill\":{\"color\":\"#C8D4E3\"},\"line\":{\"color\":\"white\"}},\"type\":\"table\"}]},\"layout\":{\"annotationdefaults\":{\"arrowcolor\":\"#2a3f5f\",\"arrowhead\":0,\"arrowwidth\":1},\"autotypenumbers\":\"strict\",\"coloraxis\":{\"colorbar\":{\"outlinewidth\":0,\"ticks\":\"\"}},\"colorscale\":{\"diverging\":[[0,\"#8e0152\"],[0.1,\"#c51b7d\"],[0.2,\"#de77ae\"],[0.3,\"#f1b6da\"],[0.4,\"#fde0ef\"],[0.5,\"#f7f7f7\"],[0.6,\"#e6f5d0\"],[0.7,\"#b8e186\"],[0.8,\"#7fbc41\"],[0.9,\"#4d9221\"],[1,\"#276419\"]],\"sequential\":[[0.0,\"#0d0887\"],[0.1111111111111111,\"#46039f\"],[0.2222222222222222,\"#7201a8\"],[0.3333333333333333,\"#9c179e\"],[0.4444444444444444,\"#bd3786\"],[0.5555555555555556,\"#d8576b\"],[0.6666666666666666,\"#ed7953\"],[0.7777777777777778,\"#fb9f3a\"],[0.8888888888888888,\"#fdca26\"],[1.0,\"#f0f921\"]],\"sequentialminus\":[[0.0,\"#0d0887\"],[0.1111111111111111,\"#46039f\"],[0.2222222222222222,\"#7201a8\"],[0.3333333333333333,\"#9c179e\"],[0.4444444444444444,\"#bd3786\"],[0.5555555555555556,\"#d8576b\"],[0.6666666666666666,\"#ed7953\"],[0.7777777777777778,\"#fb9f3a\"],[0.8888888888888888,\"#fdca26\"],[1.0,\"#f0f921\"]]},\"colorway\":[\"#636efa\",\"#EF553B\",\"#00cc96\",\"#ab63fa\",\"#FFA15A\",\"#19d3f3\",\"#FF6692\",\"#B6E880\",\"#FF97FF\",\"#FECB52\"],\"font\":{\"color\":\"#2a3f5f\"},\"geo\":{\"bgcolor\":\"white\",\"lakecolor\":\"white\",\"landcolor\":\"#E5ECF6\",\"showlakes\":true,\"showland\":true,\"subunitcolor\":\"white\"},\"hoverlabel\":{\"align\":\"left\"},\"hovermode\":\"closest\",\"mapbox\":{\"style\":\"light\"},\"paper_bgcolor\":\"white\",\"plot_bgcolor\":\"#E5ECF6\",\"polar\":{\"angularaxis\":{\"gridcolor\":\"white\",\"linecolor\":\"white\",\"ticks\":\"\"},\"bgcolor\":\"#E5ECF6\",\"radialaxis\":{\"gridcolor\":\"white\",\"linecolor\":\"white\",\"ticks\":\"\"}},\"scene\":{\"xaxis\":{\"backgroundcolor\":\"#E5ECF6\",\"gridcolor\":\"white\",\"gridwidth\":2,\"linecolor\":\"white\",\"showbackground\":true,\"ticks\":\"\",\"zerolinecolor\":\"white\"},\"yaxis\":{\"backgroundcolor\":\"#E5ECF6\",\"gridcolor\":\"white\",\"gridwidth\":2,\"linecolor\":\"white\",\"showbackground\":true,\"ticks\":\"\",\"zerolinecolor\":\"white\"},\"zaxis\":{\"backgroundcolor\":\"#E5ECF6\",\"gridcolor\":\"white\",\"gridwidth\":2,\"linecolor\":\"white\",\"showbackground\":true,\"ticks\":\"\",\"zerolinecolor\":\"white\"}},\"shapedefaults\":{\"line\":{\"color\":\"#2a3f5f\"}},\"ternary\":{\"aaxis\":{\"gridcolor\":\"white\",\"linecolor\":\"white\",\"ticks\":\"\"},\"baxis\":{\"gridcolor\":\"white\",\"linecolor\":\"white\",\"ticks\":\"\"},\"bgcolor\":\"#E5ECF6\",\"caxis\":{\"gridcolor\":\"white\",\"linecolor\":\"white\",\"ticks\":\"\"}},\"title\":{\"x\":0.05},\"xaxis\":{\"automargin\":true,\"gridcolor\":\"white\",\"linecolor\":\"white\",\"ticks\":\"\",\"title\":{\"standoff\":15},\"zerolinecolor\":\"white\",\"zerolinewidth\":2},\"yaxis\":{\"automargin\":true,\"gridcolor\":\"white\",\"linecolor\":\"white\",\"ticks\":\"\",\"title\":{\"standoff\":15},\"zerolinecolor\":\"white\",\"zerolinewidth\":2}}},\"title\":{\"font\":{\"size\":16},\"text\":\"\\u003cbr\\u003eNetwork graph made with Python\"},\"xaxis\":{\"showgrid\":false,\"showticklabels\":false,\"zeroline\":false},\"yaxis\":{\"showgrid\":false,\"showticklabels\":false,\"zeroline\":false}},                        {\"responsive\": true}                    ).then(function(){\n",
       "                            \n",
       "var gd = document.getElementById('4efae32c-c173-4f4c-b573-c6eabf491bc8');\n",
       "var x = new MutationObserver(function (mutations, observer) {{\n",
       "        var display = window.getComputedStyle(gd).display;\n",
       "        if (!display || display === 'none') {{\n",
       "            console.log([gd, 'removed!']);\n",
       "            Plotly.purge(gd);\n",
       "            observer.disconnect();\n",
       "        }}\n",
       "}});\n",
       "\n",
       "// Listen for the removal of the full notebook cells\n",
       "var notebookContainer = gd.closest('#notebook-container');\n",
       "if (notebookContainer) {{\n",
       "    x.observe(notebookContainer, {childList: true});\n",
       "}}\n",
       "\n",
       "// Listen for the clearing of the current output cell\n",
       "var outputEl = gd.closest('.output');\n",
       "if (outputEl) {{\n",
       "    x.observe(outputEl, {childList: true});\n",
       "}}\n",
       "\n",
       "                        })                };                });            </script>        </div>"
      ]
     },
     "metadata": {},
     "output_type": "display_data"
    }
   ],
   "source": [
    "# map_40 is a bigger map than map_10\n",
    "map_40 = load_map_40()\n",
    "show_map(map_40)"
   ]
  },
  {
   "cell_type": "markdown",
   "metadata": {},
   "source": [
    "### Advanced Visualizations\n",
    "\n",
    "The map above shows a network of roads which spans 40 different intersections (labeled 0 through 39). \n",
    "\n",
    "The `show_map` function which generated this map also takes a few optional parameters which might be useful for visualizing the output of the search algorithm you will write.\n",
    "\n",
    "* `start` - The \"start\" node for the search algorithm.\n",
    "* `goal`  - The \"goal\" node.\n",
    "* `path`  - An array of integers which corresponds to a valid sequence of intersection visits on the map."
   ]
  },
  {
   "cell_type": "code",
   "execution_count": 15,
   "metadata": {},
   "outputs": [
    {
     "data": {
      "application/vnd.plotly.v1+json": {
       "config": {
        "linkText": "Export to plot.ly",
        "plotlyServerURL": "https://plot.ly",
        "showLink": false
       },
       "data": [
        {
         "hoverinfo": "none",
         "line": {
          "color": "#888",
          "width": 0.5
         },
         "mode": "lines",
         "type": "scatter",
         "x": [
          0.7801603911549438,
          0.740625863119245,
          null,
          0.7801603911549438,
          0.583993110207876,
          null,
          0.7801603911549438,
          0.640952694324525,
          null,
          0.7801603911549438,
          0.6435799740880603,
          null,
          0.7801603911549438,
          0.607698913404794,
          null,
          0.5249831588690298,
          0.3073865727705063,
          null,
          0.5249831588690298,
          0.640952694324525,
          null,
          0.5249831588690298,
          0.7482655725962591,
          null,
          0.5249831588690298,
          0.5572917679006295,
          null,
          0.5249831588690298,
          0.6243437191127235,
          null,
          0.5249831588690298,
          0.4238357358399233,
          null,
          0.5249831588690298,
          0.719569201584275,
          null,
          0.5249831588690298,
          0.607698913404794,
          null,
          0.5249831588690298,
          0.4582523173083307,
          null,
          0.5249831588690298,
          0.313999018186756,
          null,
          0.8085335344099086,
          0.6315322816286787,
          null,
          0.8085335344099086,
          0.740625863119245,
          null,
          0.8085335344099086,
          0.8252497121120052,
          null,
          0.8085335344099086,
          0.8860336256842246,
          null,
          0.8085335344099086,
          0.8551947714242674,
          null,
          0.8085335344099086,
          0.6824813442515916,
          null,
          0.8085335344099086,
          0.7353838928272886,
          null,
          0.2599134798656856,
          0.3073865727705063,
          null,
          0.2599134798656856,
          0.4238357358399233,
          null,
          0.2599134798656856,
          0.4582523173083307,
          null,
          0.2599134798656856,
          0.25311953895059136,
          null,
          0.2599134798656856,
          0.313999018186756,
          null,
          0.7353838928272886,
          0.6315322816286787,
          null,
          0.7353838928272886,
          0.740625863119245,
          null,
          0.7353838928272886,
          0.8252497121120052,
          null,
          0.7353838928272886,
          0.8860336256842246,
          null,
          0.7353838928272886,
          0.8551947714242674,
          null,
          0.7353838928272886,
          0.6824813442515916,
          null,
          0.09088671576431506,
          0.17440205342790494,
          null,
          0.09088671576431506,
          0.12939557977525573,
          null,
          0.09088671576431506,
          0.04580558670435442,
          null,
          0.313999018186756,
          0.3073865727705063,
          null,
          0.313999018186756,
          0.4238357358399233,
          null,
          0.313999018186756,
          0.4582523173083307,
          null,
          0.313999018186756,
          0.25311953895059136,
          null,
          0.6824813442515916,
          0.6315322816286787,
          null,
          0.6824813442515916,
          0.740625863119245,
          null,
          0.6824813442515916,
          0.47415009287034726,
          null,
          0.6824813442515916,
          0.8252497121120052,
          null,
          0.6824813442515916,
          0.8860336256842246,
          null,
          0.6824813442515916,
          0.8551947714242674,
          null,
          0.20128789391122526,
          0.1332965908314021,
          null,
          0.20128789391122526,
          0.021423673670808885,
          null,
          0.20128789391122526,
          0.04580558670435442,
          null,
          0.8551947714242674,
          0.740625863119245,
          null,
          0.8551947714242674,
          0.8252497121120052,
          null,
          0.8551947714242674,
          0.8860336256842246,
          null,
          0.7581736589784409,
          0.640952694324525,
          null,
          0.7581736589784409,
          0.7482655725962591,
          null,
          0.7581736589784409,
          0.5572917679006295,
          null,
          0.7581736589784409,
          0.6243437191127235,
          null,
          0.7581736589784409,
          0.9363713903322148,
          null,
          0.7581736589784409,
          0.719569201584275,
          null,
          0.7581736589784409,
          0.607698913404794,
          null,
          0.7581736589784409,
          0.9112422509614865,
          null,
          0.25311953895059136,
          0.3073865727705063,
          null,
          0.25311953895059136,
          0.4238357358399233,
          null,
          0.25311953895059136,
          0.4582523173083307,
          null,
          0.4813859169876731,
          0.3345284735051981,
          null,
          0.4813859169876731,
          0.583993110207876,
          null,
          0.4813859169876731,
          0.640952694324525,
          null,
          0.4813859169876731,
          0.6435799740880603,
          null,
          0.4813859169876731,
          0.47415009287034726,
          null,
          0.4813859169876731,
          0.607698913404794,
          null,
          0.9112422509614865,
          0.7482655725962591,
          null,
          0.9112422509614865,
          0.9363713903322148,
          null,
          0.9112422509614865,
          0.719569201584275,
          null,
          0.04580558670435442,
          0.1332965908314021,
          null,
          0.04580558670435442,
          0.021423673670808885,
          null,
          0.04580558670435442,
          0.12939557977525573,
          null,
          0.4582523173083307,
          0.3073865727705063,
          null,
          0.4582523173083307,
          0.640952694324525,
          null,
          0.4582523173083307,
          0.5572917679006295,
          null,
          0.4582523173083307,
          0.6243437191127235,
          null,
          0.4582523173083307,
          0.4238357358399233,
          null,
          0.4582523173083307,
          0.607698913404794,
          null,
          0.12939557977525573,
          0.3345284735051981,
          null,
          0.12939557977525573,
          0.021423673670808885,
          null,
          0.607698913404794,
          0.583993110207876,
          null,
          0.607698913404794,
          0.640952694324525,
          null,
          0.607698913404794,
          0.6435799740880603,
          null,
          0.607698913404794,
          0.5572917679006295,
          null,
          0.607698913404794,
          0.6243437191127235,
          null,
          0.607698913404794,
          0.719569201584275,
          null,
          0.719569201584275,
          0.640952694324525,
          null,
          0.719569201584275,
          0.7482655725962591,
          null,
          0.719569201584275,
          0.5572917679006295,
          null,
          0.719569201584275,
          0.6243437191127235,
          null,
          0.719569201584275,
          0.9363713903322148,
          null,
          0.8860336256842246,
          0.8252497121120052,
          null,
          0.4238357358399233,
          0.3073865727705063,
          null,
          0.4238357358399233,
          0.5572917679006295,
          null,
          0.47415009287034726,
          0.6315322816286787,
          null,
          0.47415009287034726,
          0.3345284735051981,
          null,
          0.47415009287034726,
          0.34509802713919313,
          null,
          0.26253385360950576,
          0.17972981733780147,
          null,
          0.26253385360950576,
          0.17440205342790494,
          null,
          0.26253385360950576,
          0.34509802713919313,
          null,
          0.9363713903322148,
          0.7482655725962591,
          null,
          0.6243437191127235,
          0.583993110207876,
          null,
          0.6243437191127235,
          0.640952694324525,
          null,
          0.6243437191127235,
          0.7482655725962591,
          null,
          0.6243437191127235,
          0.5572917679006295,
          null,
          0.5572917679006295,
          0.583993110207876,
          null,
          0.5572917679006295,
          0.640952694324525,
          null,
          0.5572917679006295,
          0.7482655725962591,
          null,
          0.7482655725962591,
          0.640952694324525,
          null,
          0.6435799740880603,
          0.6315322816286787,
          null,
          0.6435799740880603,
          0.740625863119245,
          null,
          0.6435799740880603,
          0.583993110207876,
          null,
          0.6435799740880603,
          0.640952694324525,
          null,
          0.34509802713919313,
          0.17972981733780147,
          null,
          0.34509802713919313,
          0.3345284735051981,
          null,
          0.34509802713919313,
          0.17440205342790494,
          null,
          0.021423673670808885,
          0.1332965908314021,
          null,
          0.640952694324525,
          0.583993110207876,
          null,
          0.17440205342790494,
          0.17972981733780147,
          null,
          0.740625863119245,
          0.6315322816286787,
          null
         ],
         "y": [
          0.49474860768712914,
          0.68128520136847,
          null,
          0.49474860768712914,
          0.42704536740474663,
          null,
          0.49474860768712914,
          0.3232711412508066,
          null,
          0.49474860768712914,
          0.5488515965193208,
          null,
          0.49474860768712914,
          0.362322730884702,
          null,
          0.14953665513987202,
          0.09186645974288632,
          null,
          0.14953665513987202,
          0.3232711412508066,
          null,
          0.14953665513987202,
          0.12631654071213483,
          null,
          0.14953665513987202,
          0.2083567880838434,
          null,
          0.14953665513987202,
          0.21665962402659544,
          null,
          0.14953665513987202,
          0.026771817842421997,
          null,
          0.14953665513987202,
          0.13985272363426526,
          null,
          0.14953665513987202,
          0.362322730884702,
          null,
          0.14953665513987202,
          0.1735506267461867,
          null,
          0.14953665513987202,
          0.01876171413125327,
          null,
          0.7696330846542071,
          0.7311657634689946,
          null,
          0.7696330846542071,
          0.68128520136847,
          null,
          0.7696330846542071,
          0.9532681441921305,
          null,
          0.7696330846542071,
          0.891868301175821,
          null,
          0.7696330846542071,
          0.9011339078096633,
          null,
          0.7696330846542071,
          0.8016111783687677,
          null,
          0.7696330846542071,
          0.8089961609345658,
          null,
          0.14485659826020547,
          0.09186645974288632,
          null,
          0.14485659826020547,
          0.026771817842421997,
          null,
          0.14485659826020547,
          0.1735506267461867,
          null,
          0.14485659826020547,
          0.10321622277398101,
          null,
          0.14485659826020547,
          0.01876171413125327,
          null,
          0.8089961609345658,
          0.7311657634689946,
          null,
          0.8089961609345658,
          0.68128520136847,
          null,
          0.8089961609345658,
          0.9532681441921305,
          null,
          0.8089961609345658,
          0.891868301175821,
          null,
          0.8089961609345658,
          0.9011339078096633,
          null,
          0.8089961609345658,
          0.8016111783687677,
          null,
          0.7222846879290787,
          0.9528527425842739,
          null,
          0.7222846879290787,
          0.690016328140396,
          null,
          0.7222846879290787,
          0.5886703168399895,
          null,
          0.01876171413125327,
          0.09186645974288632,
          null,
          0.01876171413125327,
          0.026771817842421997,
          null,
          0.01876171413125327,
          0.1735506267461867,
          null,
          0.01876171413125327,
          0.10321622277398101,
          null,
          0.8016111783687677,
          0.7311657634689946,
          null,
          0.8016111783687677,
          0.68128520136847,
          null,
          0.8016111783687677,
          0.7353428557575755,
          null,
          0.8016111783687677,
          0.9532681441921305,
          null,
          0.8016111783687677,
          0.891868301175821,
          null,
          0.8016111783687677,
          0.9011339078096633,
          null,
          0.43196344222361227,
          0.3996510641743197,
          null,
          0.43196344222361227,
          0.4666482714834408,
          null,
          0.43196344222361227,
          0.5886703168399895,
          null,
          0.9011339078096633,
          0.68128520136847,
          null,
          0.9011339078096633,
          0.9532681441921305,
          null,
          0.9011339078096633,
          0.891868301175821,
          null,
          0.24026772497187532,
          0.3232711412508066,
          null,
          0.24026772497187532,
          0.12631654071213483,
          null,
          0.24026772497187532,
          0.2083567880838434,
          null,
          0.24026772497187532,
          0.21665962402659544,
          null,
          0.24026772497187532,
          0.13022993020357043,
          null,
          0.24026772497187532,
          0.13985272363426526,
          null,
          0.24026772497187532,
          0.362322730884702,
          null,
          0.24026772497187532,
          0.1839028760606296,
          null,
          0.10321622277398101,
          0.09186645974288632,
          null,
          0.10321622277398101,
          0.026771817842421997,
          null,
          0.10321622277398101,
          0.1735506267461867,
          null,
          0.5006237737207431,
          0.6569436279895382,
          null,
          0.5006237737207431,
          0.42704536740474663,
          null,
          0.5006237737207431,
          0.3232711412508066,
          null,
          0.5006237737207431,
          0.5488515965193208,
          null,
          0.5006237737207431,
          0.7353428557575755,
          null,
          0.5006237737207431,
          0.362322730884702,
          null,
          0.1839028760606296,
          0.12631654071213483,
          null,
          0.1839028760606296,
          0.13022993020357043,
          null,
          0.1839028760606296,
          0.13985272363426526,
          null,
          0.5886703168399895,
          0.3996510641743197,
          null,
          0.5886703168399895,
          0.4666482714834408,
          null,
          0.5886703168399895,
          0.690016328140396,
          null,
          0.1735506267461867,
          0.09186645974288632,
          null,
          0.1735506267461867,
          0.3232711412508066,
          null,
          0.1735506267461867,
          0.2083567880838434,
          null,
          0.1735506267461867,
          0.21665962402659544,
          null,
          0.1735506267461867,
          0.026771817842421997,
          null,
          0.1735506267461867,
          0.362322730884702,
          null,
          0.690016328140396,
          0.6569436279895382,
          null,
          0.690016328140396,
          0.4666482714834408,
          null,
          0.362322730884702,
          0.42704536740474663,
          null,
          0.362322730884702,
          0.3232711412508066,
          null,
          0.362322730884702,
          0.5488515965193208,
          null,
          0.362322730884702,
          0.2083567880838434,
          null,
          0.362322730884702,
          0.21665962402659544,
          null,
          0.362322730884702,
          0.13985272363426526,
          null,
          0.13985272363426526,
          0.3232711412508066,
          null,
          0.13985272363426526,
          0.12631654071213483,
          null,
          0.13985272363426526,
          0.2083567880838434,
          null,
          0.13985272363426526,
          0.21665962402659544,
          null,
          0.13985272363426526,
          0.13022993020357043,
          null,
          0.891868301175821,
          0.9532681441921305,
          null,
          0.026771817842421997,
          0.09186645974288632,
          null,
          0.026771817842421997,
          0.2083567880838434,
          null,
          0.7353428557575755,
          0.7311657634689946,
          null,
          0.7353428557575755,
          0.6569436279895382,
          null,
          0.7353428557575755,
          0.8800306496459869,
          null,
          0.9768234503830939,
          0.999395685828547,
          null,
          0.9768234503830939,
          0.9528527425842739,
          null,
          0.9768234503830939,
          0.8800306496459869,
          null,
          0.13022993020357043,
          0.12631654071213483,
          null,
          0.21665962402659544,
          0.42704536740474663,
          null,
          0.21665962402659544,
          0.3232711412508066,
          null,
          0.21665962402659544,
          0.12631654071213483,
          null,
          0.21665962402659544,
          0.2083567880838434,
          null,
          0.2083567880838434,
          0.42704536740474663,
          null,
          0.2083567880838434,
          0.3232711412508066,
          null,
          0.2083567880838434,
          0.12631654071213483,
          null,
          0.12631654071213483,
          0.3232711412508066,
          null,
          0.5488515965193208,
          0.7311657634689946,
          null,
          0.5488515965193208,
          0.68128520136847,
          null,
          0.5488515965193208,
          0.42704536740474663,
          null,
          0.5488515965193208,
          0.3232711412508066,
          null,
          0.8800306496459869,
          0.999395685828547,
          null,
          0.8800306496459869,
          0.6569436279895382,
          null,
          0.8800306496459869,
          0.9528527425842739,
          null,
          0.4666482714834408,
          0.3996510641743197,
          null,
          0.3232711412508066,
          0.42704536740474663,
          null,
          0.9528527425842739,
          0.999395685828547,
          null,
          0.68128520136847,
          0.7311657634689946,
          null
         ]
        },
        {
         "hoverinfo": "text",
         "marker": {
          "color": [
           0,
           0,
           0,
           0,
           0,
           3,
           0,
           0,
           0,
           0,
           0,
           0,
           2,
           0,
           0,
           0,
           2,
           0,
           0,
           0,
           0,
           0,
           0,
           0,
           0,
           0,
           0,
           0,
           0,
           0,
           0,
           0,
           0,
           0,
           1,
           0,
           0,
           2,
           0,
           0
          ],
          "colorbar": {
           "thickness": 15,
           "title": {
            "side": "right",
            "text": "Node Connections"
           },
           "xanchor": "left"
          },
          "colorscale": [
           [
            0,
            "rgb(0, 0, 0)"
           ],
           [
            0.3333333333333333,
            "rgb(230,0,0)"
           ],
           [
            0.6666666666666666,
            "rgb(255,210,0)"
           ],
           [
            1,
            "rgb(255,255,255)"
           ]
          ],
          "line": {
           "width": 2
          },
          "reversescale": true,
          "showscale": false,
          "size": 10
         },
         "mode": "markers",
         "text": [
          "Intersection 0<br>Neighbors: 36, 34, 31, 28, 17",
          "Intersection 1<br>Neighbors: 35, 31, 27, 26, 25, 20, 18, 17, 15, 6",
          "Intersection 2<br>Neighbors: 39, 36, 21, 19, 9, 7, 4",
          "Intersection 3<br>Neighbors: 35, 20, 15, 11, 6",
          "Intersection 4<br>Neighbors: 2, 39, 36, 21, 19, 9, 7",
          "Intersection 5<br>Neighbors: 32, 16, 14",
          "Intersection 6<br>Neighbors: 1, 3, 35, 20, 15, 11",
          "Intersection 7<br>Neighbors: 2, 4, 39, 36, 22, 21, 19, 9",
          "Intersection 8<br>Neighbors: 33, 30, 14",
          "Intersection 9<br>Neighbors: 2, 4, 7, 36, 21, 19",
          "Intersection 10<br>Neighbors: 31, 27, 26, 25, 24, 18, 17, 13",
          "Intersection 11<br>Neighbors: 3, 6, 35, 20, 15",
          "Intersection 12<br>Neighbors: 37, 34, 31, 28, 22, 17",
          "Intersection 13<br>Neighbors: 10, 27, 24, 18",
          "Intersection 14<br>Neighbors: 5, 8, 33, 30, 16",
          "Intersection 15<br>Neighbors: 1, 3, 6, 11, 35, 31, 26, 25, 20, 17",
          "Intersection 16<br>Neighbors: 5, 14, 37, 30",
          "Intersection 17<br>Neighbors: 0, 1, 10, 12, 15, 34, 31, 28, 26, 25, 18",
          "Intersection 18<br>Neighbors: 1, 10, 13, 17, 31, 27, 26, 25, 24",
          "Intersection 19<br>Neighbors: 2, 4, 7, 9, 21",
          "Intersection 20<br>Neighbors: 1, 3, 6, 11, 15, 35, 26",
          "Intersection 21<br>Neighbors: 2, 4, 7, 9, 19",
          "Intersection 22<br>Neighbors: 7, 12, 39, 37, 29",
          "Intersection 23<br>Neighbors: 38, 32, 29",
          "Intersection 24<br>Neighbors: 10, 13, 18, 27",
          "Intersection 25<br>Neighbors: 1, 10, 15, 17, 18, 34, 31, 27, 26",
          "Intersection 26<br>Neighbors: 1, 10, 15, 17, 18, 20, 25, 34, 31, 27",
          "Intersection 27<br>Neighbors: 1, 10, 13, 18, 24, 25, 26, 31",
          "Intersection 28<br>Neighbors: 0, 12, 17, 39, 36, 34, 31",
          "Intersection 29<br>Neighbors: 22, 23, 38, 37, 32",
          "Intersection 30<br>Neighbors: 8, 14, 16, 33",
          "Intersection 31<br>Neighbors: 0, 1, 10, 12, 15, 17, 18, 25, 26, 27, 28, 34",
          "Intersection 32<br>Neighbors: 5, 23, 29, 38",
          "Intersection 33<br>Neighbors: 8, 14, 30",
          "Intersection 34<br>Neighbors: 0, 12, 17, 25, 26, 28, 31",
          "Intersection 35<br>Neighbors: 1, 3, 6, 11, 15, 20",
          "Intersection 36<br>Neighbors: 0, 2, 4, 7, 9, 28, 39",
          "Intersection 37<br>Neighbors: 12, 16, 22, 29",
          "Intersection 38<br>Neighbors: 23, 29, 32",
          "Intersection 39<br>Neighbors: 2, 4, 7, 22, 28, 36"
         ],
         "type": "scatter",
         "x": [
          0.7801603911549438,
          0.5249831588690298,
          0.8085335344099086,
          0.2599134798656856,
          0.7353838928272886,
          0.09088671576431506,
          0.313999018186756,
          0.6824813442515916,
          0.20128789391122526,
          0.8551947714242674,
          0.7581736589784409,
          0.25311953895059136,
          0.4813859169876731,
          0.9112422509614865,
          0.04580558670435442,
          0.4582523173083307,
          0.12939557977525573,
          0.607698913404794,
          0.719569201584275,
          0.8860336256842246,
          0.4238357358399233,
          0.8252497121120052,
          0.47415009287034726,
          0.26253385360950576,
          0.9363713903322148,
          0.6243437191127235,
          0.5572917679006295,
          0.7482655725962591,
          0.6435799740880603,
          0.34509802713919313,
          0.021423673670808885,
          0.640952694324525,
          0.17440205342790494,
          0.1332965908314021,
          0.583993110207876,
          0.3073865727705063,
          0.740625863119245,
          0.3345284735051981,
          0.17972981733780147,
          0.6315322816286787
         ],
         "y": [
          0.49474860768712914,
          0.14953665513987202,
          0.7696330846542071,
          0.14485659826020547,
          0.8089961609345658,
          0.7222846879290787,
          0.01876171413125327,
          0.8016111783687677,
          0.43196344222361227,
          0.9011339078096633,
          0.24026772497187532,
          0.10321622277398101,
          0.5006237737207431,
          0.1839028760606296,
          0.5886703168399895,
          0.1735506267461867,
          0.690016328140396,
          0.362322730884702,
          0.13985272363426526,
          0.891868301175821,
          0.026771817842421997,
          0.9532681441921305,
          0.7353428557575755,
          0.9768234503830939,
          0.13022993020357043,
          0.21665962402659544,
          0.2083567880838434,
          0.12631654071213483,
          0.5488515965193208,
          0.8800306496459869,
          0.4666482714834408,
          0.3232711412508066,
          0.9528527425842739,
          0.3996510641743197,
          0.42704536740474663,
          0.09186645974288632,
          0.68128520136847,
          0.6569436279895382,
          0.999395685828547,
          0.7311657634689946
         ]
        }
       ],
       "layout": {
        "autosize": true,
        "hovermode": "closest",
        "margin": {
         "b": 20,
         "l": 5,
         "r": 5,
         "t": 40
        },
        "showlegend": false,
        "template": {
         "data": {
          "bar": [
           {
            "error_x": {
             "color": "#2a3f5f"
            },
            "error_y": {
             "color": "#2a3f5f"
            },
            "marker": {
             "line": {
              "color": "#E5ECF6",
              "width": 0.5
             },
             "pattern": {
              "fillmode": "overlay",
              "size": 10,
              "solidity": 0.2
             }
            },
            "type": "bar"
           }
          ],
          "barpolar": [
           {
            "marker": {
             "line": {
              "color": "#E5ECF6",
              "width": 0.5
             },
             "pattern": {
              "fillmode": "overlay",
              "size": 10,
              "solidity": 0.2
             }
            },
            "type": "barpolar"
           }
          ],
          "carpet": [
           {
            "aaxis": {
             "endlinecolor": "#2a3f5f",
             "gridcolor": "white",
             "linecolor": "white",
             "minorgridcolor": "white",
             "startlinecolor": "#2a3f5f"
            },
            "baxis": {
             "endlinecolor": "#2a3f5f",
             "gridcolor": "white",
             "linecolor": "white",
             "minorgridcolor": "white",
             "startlinecolor": "#2a3f5f"
            },
            "type": "carpet"
           }
          ],
          "choropleth": [
           {
            "colorbar": {
             "outlinewidth": 0,
             "ticks": ""
            },
            "type": "choropleth"
           }
          ],
          "contour": [
           {
            "colorbar": {
             "outlinewidth": 0,
             "ticks": ""
            },
            "colorscale": [
             [
              0,
              "#0d0887"
             ],
             [
              0.1111111111111111,
              "#46039f"
             ],
             [
              0.2222222222222222,
              "#7201a8"
             ],
             [
              0.3333333333333333,
              "#9c179e"
             ],
             [
              0.4444444444444444,
              "#bd3786"
             ],
             [
              0.5555555555555556,
              "#d8576b"
             ],
             [
              0.6666666666666666,
              "#ed7953"
             ],
             [
              0.7777777777777778,
              "#fb9f3a"
             ],
             [
              0.8888888888888888,
              "#fdca26"
             ],
             [
              1,
              "#f0f921"
             ]
            ],
            "type": "contour"
           }
          ],
          "contourcarpet": [
           {
            "colorbar": {
             "outlinewidth": 0,
             "ticks": ""
            },
            "type": "contourcarpet"
           }
          ],
          "heatmap": [
           {
            "colorbar": {
             "outlinewidth": 0,
             "ticks": ""
            },
            "colorscale": [
             [
              0,
              "#0d0887"
             ],
             [
              0.1111111111111111,
              "#46039f"
             ],
             [
              0.2222222222222222,
              "#7201a8"
             ],
             [
              0.3333333333333333,
              "#9c179e"
             ],
             [
              0.4444444444444444,
              "#bd3786"
             ],
             [
              0.5555555555555556,
              "#d8576b"
             ],
             [
              0.6666666666666666,
              "#ed7953"
             ],
             [
              0.7777777777777778,
              "#fb9f3a"
             ],
             [
              0.8888888888888888,
              "#fdca26"
             ],
             [
              1,
              "#f0f921"
             ]
            ],
            "type": "heatmap"
           }
          ],
          "heatmapgl": [
           {
            "colorbar": {
             "outlinewidth": 0,
             "ticks": ""
            },
            "colorscale": [
             [
              0,
              "#0d0887"
             ],
             [
              0.1111111111111111,
              "#46039f"
             ],
             [
              0.2222222222222222,
              "#7201a8"
             ],
             [
              0.3333333333333333,
              "#9c179e"
             ],
             [
              0.4444444444444444,
              "#bd3786"
             ],
             [
              0.5555555555555556,
              "#d8576b"
             ],
             [
              0.6666666666666666,
              "#ed7953"
             ],
             [
              0.7777777777777778,
              "#fb9f3a"
             ],
             [
              0.8888888888888888,
              "#fdca26"
             ],
             [
              1,
              "#f0f921"
             ]
            ],
            "type": "heatmapgl"
           }
          ],
          "histogram": [
           {
            "marker": {
             "pattern": {
              "fillmode": "overlay",
              "size": 10,
              "solidity": 0.2
             }
            },
            "type": "histogram"
           }
          ],
          "histogram2d": [
           {
            "colorbar": {
             "outlinewidth": 0,
             "ticks": ""
            },
            "colorscale": [
             [
              0,
              "#0d0887"
             ],
             [
              0.1111111111111111,
              "#46039f"
             ],
             [
              0.2222222222222222,
              "#7201a8"
             ],
             [
              0.3333333333333333,
              "#9c179e"
             ],
             [
              0.4444444444444444,
              "#bd3786"
             ],
             [
              0.5555555555555556,
              "#d8576b"
             ],
             [
              0.6666666666666666,
              "#ed7953"
             ],
             [
              0.7777777777777778,
              "#fb9f3a"
             ],
             [
              0.8888888888888888,
              "#fdca26"
             ],
             [
              1,
              "#f0f921"
             ]
            ],
            "type": "histogram2d"
           }
          ],
          "histogram2dcontour": [
           {
            "colorbar": {
             "outlinewidth": 0,
             "ticks": ""
            },
            "colorscale": [
             [
              0,
              "#0d0887"
             ],
             [
              0.1111111111111111,
              "#46039f"
             ],
             [
              0.2222222222222222,
              "#7201a8"
             ],
             [
              0.3333333333333333,
              "#9c179e"
             ],
             [
              0.4444444444444444,
              "#bd3786"
             ],
             [
              0.5555555555555556,
              "#d8576b"
             ],
             [
              0.6666666666666666,
              "#ed7953"
             ],
             [
              0.7777777777777778,
              "#fb9f3a"
             ],
             [
              0.8888888888888888,
              "#fdca26"
             ],
             [
              1,
              "#f0f921"
             ]
            ],
            "type": "histogram2dcontour"
           }
          ],
          "mesh3d": [
           {
            "colorbar": {
             "outlinewidth": 0,
             "ticks": ""
            },
            "type": "mesh3d"
           }
          ],
          "parcoords": [
           {
            "line": {
             "colorbar": {
              "outlinewidth": 0,
              "ticks": ""
             }
            },
            "type": "parcoords"
           }
          ],
          "pie": [
           {
            "automargin": true,
            "type": "pie"
           }
          ],
          "scatter": [
           {
            "fillpattern": {
             "fillmode": "overlay",
             "size": 10,
             "solidity": 0.2
            },
            "type": "scatter"
           }
          ],
          "scatter3d": [
           {
            "line": {
             "colorbar": {
              "outlinewidth": 0,
              "ticks": ""
             }
            },
            "marker": {
             "colorbar": {
              "outlinewidth": 0,
              "ticks": ""
             }
            },
            "type": "scatter3d"
           }
          ],
          "scattercarpet": [
           {
            "marker": {
             "colorbar": {
              "outlinewidth": 0,
              "ticks": ""
             }
            },
            "type": "scattercarpet"
           }
          ],
          "scattergeo": [
           {
            "marker": {
             "colorbar": {
              "outlinewidth": 0,
              "ticks": ""
             }
            },
            "type": "scattergeo"
           }
          ],
          "scattergl": [
           {
            "marker": {
             "colorbar": {
              "outlinewidth": 0,
              "ticks": ""
             }
            },
            "type": "scattergl"
           }
          ],
          "scattermapbox": [
           {
            "marker": {
             "colorbar": {
              "outlinewidth": 0,
              "ticks": ""
             }
            },
            "type": "scattermapbox"
           }
          ],
          "scatterpolar": [
           {
            "marker": {
             "colorbar": {
              "outlinewidth": 0,
              "ticks": ""
             }
            },
            "type": "scatterpolar"
           }
          ],
          "scatterpolargl": [
           {
            "marker": {
             "colorbar": {
              "outlinewidth": 0,
              "ticks": ""
             }
            },
            "type": "scatterpolargl"
           }
          ],
          "scatterternary": [
           {
            "marker": {
             "colorbar": {
              "outlinewidth": 0,
              "ticks": ""
             }
            },
            "type": "scatterternary"
           }
          ],
          "surface": [
           {
            "colorbar": {
             "outlinewidth": 0,
             "ticks": ""
            },
            "colorscale": [
             [
              0,
              "#0d0887"
             ],
             [
              0.1111111111111111,
              "#46039f"
             ],
             [
              0.2222222222222222,
              "#7201a8"
             ],
             [
              0.3333333333333333,
              "#9c179e"
             ],
             [
              0.4444444444444444,
              "#bd3786"
             ],
             [
              0.5555555555555556,
              "#d8576b"
             ],
             [
              0.6666666666666666,
              "#ed7953"
             ],
             [
              0.7777777777777778,
              "#fb9f3a"
             ],
             [
              0.8888888888888888,
              "#fdca26"
             ],
             [
              1,
              "#f0f921"
             ]
            ],
            "type": "surface"
           }
          ],
          "table": [
           {
            "cells": {
             "fill": {
              "color": "#EBF0F8"
             },
             "line": {
              "color": "white"
             }
            },
            "header": {
             "fill": {
              "color": "#C8D4E3"
             },
             "line": {
              "color": "white"
             }
            },
            "type": "table"
           }
          ]
         },
         "layout": {
          "annotationdefaults": {
           "arrowcolor": "#2a3f5f",
           "arrowhead": 0,
           "arrowwidth": 1
          },
          "autotypenumbers": "strict",
          "coloraxis": {
           "colorbar": {
            "outlinewidth": 0,
            "ticks": ""
           }
          },
          "colorscale": {
           "diverging": [
            [
             0,
             "#8e0152"
            ],
            [
             0.1,
             "#c51b7d"
            ],
            [
             0.2,
             "#de77ae"
            ],
            [
             0.3,
             "#f1b6da"
            ],
            [
             0.4,
             "#fde0ef"
            ],
            [
             0.5,
             "#f7f7f7"
            ],
            [
             0.6,
             "#e6f5d0"
            ],
            [
             0.7,
             "#b8e186"
            ],
            [
             0.8,
             "#7fbc41"
            ],
            [
             0.9,
             "#4d9221"
            ],
            [
             1,
             "#276419"
            ]
           ],
           "sequential": [
            [
             0,
             "#0d0887"
            ],
            [
             0.1111111111111111,
             "#46039f"
            ],
            [
             0.2222222222222222,
             "#7201a8"
            ],
            [
             0.3333333333333333,
             "#9c179e"
            ],
            [
             0.4444444444444444,
             "#bd3786"
            ],
            [
             0.5555555555555556,
             "#d8576b"
            ],
            [
             0.6666666666666666,
             "#ed7953"
            ],
            [
             0.7777777777777778,
             "#fb9f3a"
            ],
            [
             0.8888888888888888,
             "#fdca26"
            ],
            [
             1,
             "#f0f921"
            ]
           ],
           "sequentialminus": [
            [
             0,
             "#0d0887"
            ],
            [
             0.1111111111111111,
             "#46039f"
            ],
            [
             0.2222222222222222,
             "#7201a8"
            ],
            [
             0.3333333333333333,
             "#9c179e"
            ],
            [
             0.4444444444444444,
             "#bd3786"
            ],
            [
             0.5555555555555556,
             "#d8576b"
            ],
            [
             0.6666666666666666,
             "#ed7953"
            ],
            [
             0.7777777777777778,
             "#fb9f3a"
            ],
            [
             0.8888888888888888,
             "#fdca26"
            ],
            [
             1,
             "#f0f921"
            ]
           ]
          },
          "colorway": [
           "#636efa",
           "#EF553B",
           "#00cc96",
           "#ab63fa",
           "#FFA15A",
           "#19d3f3",
           "#FF6692",
           "#B6E880",
           "#FF97FF",
           "#FECB52"
          ],
          "font": {
           "color": "#2a3f5f"
          },
          "geo": {
           "bgcolor": "white",
           "lakecolor": "white",
           "landcolor": "#E5ECF6",
           "showlakes": true,
           "showland": true,
           "subunitcolor": "white"
          },
          "hoverlabel": {
           "align": "left"
          },
          "hovermode": "closest",
          "mapbox": {
           "style": "light"
          },
          "paper_bgcolor": "white",
          "plot_bgcolor": "#E5ECF6",
          "polar": {
           "angularaxis": {
            "gridcolor": "white",
            "linecolor": "white",
            "ticks": ""
           },
           "bgcolor": "#E5ECF6",
           "radialaxis": {
            "gridcolor": "white",
            "linecolor": "white",
            "ticks": ""
           }
          },
          "scene": {
           "xaxis": {
            "backgroundcolor": "#E5ECF6",
            "gridcolor": "white",
            "gridwidth": 2,
            "linecolor": "white",
            "showbackground": true,
            "ticks": "",
            "zerolinecolor": "white"
           },
           "yaxis": {
            "backgroundcolor": "#E5ECF6",
            "gridcolor": "white",
            "gridwidth": 2,
            "linecolor": "white",
            "showbackground": true,
            "ticks": "",
            "zerolinecolor": "white"
           },
           "zaxis": {
            "backgroundcolor": "#E5ECF6",
            "gridcolor": "white",
            "gridwidth": 2,
            "linecolor": "white",
            "showbackground": true,
            "ticks": "",
            "zerolinecolor": "white"
           }
          },
          "shapedefaults": {
           "line": {
            "color": "#2a3f5f"
           }
          },
          "ternary": {
           "aaxis": {
            "gridcolor": "white",
            "linecolor": "white",
            "ticks": ""
           },
           "baxis": {
            "gridcolor": "white",
            "linecolor": "white",
            "ticks": ""
           },
           "bgcolor": "#E5ECF6",
           "caxis": {
            "gridcolor": "white",
            "linecolor": "white",
            "ticks": ""
           }
          },
          "title": {
           "x": 0.05
          },
          "xaxis": {
           "automargin": true,
           "gridcolor": "white",
           "linecolor": "white",
           "ticks": "",
           "title": {
            "standoff": 15
           },
           "zerolinecolor": "white",
           "zerolinewidth": 2
          },
          "yaxis": {
           "automargin": true,
           "gridcolor": "white",
           "linecolor": "white",
           "ticks": "",
           "title": {
            "standoff": 15
           },
           "zerolinecolor": "white",
           "zerolinewidth": 2
          }
         }
        },
        "title": {
         "font": {
          "size": 16
         },
         "text": "<br>Network graph made with Python"
        },
        "xaxis": {
         "autorange": true,
         "range": [
          -0.03585928228752938,
          0.9936543462905532
         ],
         "showgrid": false,
         "showticklabels": false,
         "type": "linear",
         "zeroline": false
        },
        "yaxis": {
         "autorange": true,
         "range": [
          -0.06216439032920301,
          1.0803217902890032
         ],
         "showgrid": false,
         "showticklabels": false,
         "type": "linear",
         "zeroline": false
        }
       }
      },
      "image/png": "[encoded data removed]",
      "text/html": [
       "<div>                            <div id=\"35576ec6-c327-472a-8f95-153efbff78c9\" class=\"plotly-graph-div\" style=\"height:525px; width:100%;\"></div>            <script type=\"text/javascript\">                require([\"plotly\"], function(Plotly) {                    window.PLOTLYENV=window.PLOTLYENV || {};                                    if (document.getElementById(\"35576ec6-c327-472a-8f95-153efbff78c9\")) {                    Plotly.newPlot(                        \"35576ec6-c327-472a-8f95-153efbff78c9\",                        [{\"hoverinfo\":\"none\",\"line\":{\"color\":\"#888\",\"width\":0.5},\"mode\":\"lines\",\"x\":[0.7801603911549438,0.740625863119245,null,0.7801603911549438,0.583993110207876,null,0.7801603911549438,0.640952694324525,null,0.7801603911549438,0.6435799740880603,null,0.7801603911549438,0.607698913404794,null,0.5249831588690298,0.3073865727705063,null,0.5249831588690298,0.640952694324525,null,0.5249831588690298,0.7482655725962591,null,0.5249831588690298,0.5572917679006295,null,0.5249831588690298,0.6243437191127235,null,0.5249831588690298,0.4238357358399233,null,0.5249831588690298,0.719569201584275,null,0.5249831588690298,0.607698913404794,null,0.5249831588690298,0.4582523173083307,null,0.5249831588690298,0.313999018186756,null,0.8085335344099086,0.6315322816286787,null,0.8085335344099086,0.740625863119245,null,0.8085335344099086,0.8252497121120052,null,0.8085335344099086,0.8860336256842246,null,0.8085335344099086,0.8551947714242674,null,0.8085335344099086,0.6824813442515916,null,0.8085335344099086,0.7353838928272886,null,0.2599134798656856,0.3073865727705063,null,0.2599134798656856,0.4238357358399233,null,0.2599134798656856,0.4582523173083307,null,0.2599134798656856,0.25311953895059136,null,0.2599134798656856,0.313999018186756,null,0.7353838928272886,0.6315322816286787,null,0.7353838928272886,0.740625863119245,null,0.7353838928272886,0.8252497121120052,null,0.7353838928272886,0.8860336256842246,null,0.7353838928272886,0.8551947714242674,null,0.7353838928272886,0.6824813442515916,null,0.09088671576431506,0.17440205342790494,null,0.09088671576431506,0.12939557977525573,null,0.09088671576431506,0.04580558670435442,null,0.313999018186756,0.3073865727705063,null,0.313999018186756,0.4238357358399233,null,0.313999018186756,0.4582523173083307,null,0.313999018186756,0.25311953895059136,null,0.6824813442515916,0.6315322816286787,null,0.6824813442515916,0.740625863119245,null,0.6824813442515916,0.47415009287034726,null,0.6824813442515916,0.8252497121120052,null,0.6824813442515916,0.8860336256842246,null,0.6824813442515916,0.8551947714242674,null,0.20128789391122526,0.1332965908314021,null,0.20128789391122526,0.021423673670808885,null,0.20128789391122526,0.04580558670435442,null,0.8551947714242674,0.740625863119245,null,0.8551947714242674,0.8252497121120052,null,0.8551947714242674,0.8860336256842246,null,0.7581736589784409,0.640952694324525,null,0.7581736589784409,0.7482655725962591,null,0.7581736589784409,0.5572917679006295,null,0.7581736589784409,0.6243437191127235,null,0.7581736589784409,0.9363713903322148,null,0.7581736589784409,0.719569201584275,null,0.7581736589784409,0.607698913404794,null,0.7581736589784409,0.9112422509614865,null,0.25311953895059136,0.3073865727705063,null,0.25311953895059136,0.4238357358399233,null,0.25311953895059136,0.4582523173083307,null,0.4813859169876731,0.3345284735051981,null,0.4813859169876731,0.583993110207876,null,0.4813859169876731,0.640952694324525,null,0.4813859169876731,0.6435799740880603,null,0.4813859169876731,0.47415009287034726,null,0.4813859169876731,0.607698913404794,null,0.9112422509614865,0.7482655725962591,null,0.9112422509614865,0.9363713903322148,null,0.9112422509614865,0.719569201584275,null,0.04580558670435442,0.1332965908314021,null,0.04580558670435442,0.021423673670808885,null,0.04580558670435442,0.12939557977525573,null,0.4582523173083307,0.3073865727705063,null,0.4582523173083307,0.640952694324525,null,0.4582523173083307,0.5572917679006295,null,0.4582523173083307,0.6243437191127235,null,0.4582523173083307,0.4238357358399233,null,0.4582523173083307,0.607698913404794,null,0.12939557977525573,0.3345284735051981,null,0.12939557977525573,0.021423673670808885,null,0.607698913404794,0.583993110207876,null,0.607698913404794,0.640952694324525,null,0.607698913404794,0.6435799740880603,null,0.607698913404794,0.5572917679006295,null,0.607698913404794,0.6243437191127235,null,0.607698913404794,0.719569201584275,null,0.719569201584275,0.640952694324525,null,0.719569201584275,0.7482655725962591,null,0.719569201584275,0.5572917679006295,null,0.719569201584275,0.6243437191127235,null,0.719569201584275,0.9363713903322148,null,0.8860336256842246,0.8252497121120052,null,0.4238357358399233,0.3073865727705063,null,0.4238357358399233,0.5572917679006295,null,0.47415009287034726,0.6315322816286787,null,0.47415009287034726,0.3345284735051981,null,0.47415009287034726,0.34509802713919313,null,0.26253385360950576,0.17972981733780147,null,0.26253385360950576,0.17440205342790494,null,0.26253385360950576,0.34509802713919313,null,0.9363713903322148,0.7482655725962591,null,0.6243437191127235,0.583993110207876,null,0.6243437191127235,0.640952694324525,null,0.6243437191127235,0.7482655725962591,null,0.6243437191127235,0.5572917679006295,null,0.5572917679006295,0.583993110207876,null,0.5572917679006295,0.640952694324525,null,0.5572917679006295,0.7482655725962591,null,0.7482655725962591,0.640952694324525,null,0.6435799740880603,0.6315322816286787,null,0.6435799740880603,0.740625863119245,null,0.6435799740880603,0.583993110207876,null,0.6435799740880603,0.640952694324525,null,0.34509802713919313,0.17972981733780147,null,0.34509802713919313,0.3345284735051981,null,0.34509802713919313,0.17440205342790494,null,0.021423673670808885,0.1332965908314021,null,0.640952694324525,0.583993110207876,null,0.17440205342790494,0.17972981733780147,null,0.740625863119245,0.6315322816286787,null],\"y\":[0.49474860768712914,0.68128520136847,null,0.49474860768712914,0.42704536740474663,null,0.49474860768712914,0.3232711412508066,null,0.49474860768712914,0.5488515965193208,null,0.49474860768712914,0.362322730884702,null,0.14953665513987202,0.09186645974288632,null,0.14953665513987202,0.3232711412508066,null,0.14953665513987202,0.12631654071213483,null,0.14953665513987202,0.2083567880838434,null,0.14953665513987202,0.21665962402659544,null,0.14953665513987202,0.026771817842421997,null,0.14953665513987202,0.13985272363426526,null,0.14953665513987202,0.362322730884702,null,0.14953665513987202,0.1735506267461867,null,0.14953665513987202,0.01876171413125327,null,0.7696330846542071,0.7311657634689946,null,0.7696330846542071,0.68128520136847,null,0.7696330846542071,0.9532681441921305,null,0.7696330846542071,0.891868301175821,null,0.7696330846542071,0.9011339078096633,null,0.7696330846542071,0.8016111783687677,null,0.7696330846542071,0.8089961609345658,null,0.14485659826020547,0.09186645974288632,null,0.14485659826020547,0.026771817842421997,null,0.14485659826020547,0.1735506267461867,null,0.14485659826020547,0.10321622277398101,null,0.14485659826020547,0.01876171413125327,null,0.8089961609345658,0.7311657634689946,null,0.8089961609345658,0.68128520136847,null,0.8089961609345658,0.9532681441921305,null,0.8089961609345658,0.891868301175821,null,0.8089961609345658,0.9011339078096633,null,0.8089961609345658,0.8016111783687677,null,0.7222846879290787,0.9528527425842739,null,0.7222846879290787,0.690016328140396,null,0.7222846879290787,0.5886703168399895,null,0.01876171413125327,0.09186645974288632,null,0.01876171413125327,0.026771817842421997,null,0.01876171413125327,0.1735506267461867,null,0.01876171413125327,0.10321622277398101,null,0.8016111783687677,0.7311657634689946,null,0.8016111783687677,0.68128520136847,null,0.8016111783687677,0.7353428557575755,null,0.8016111783687677,0.9532681441921305,null,0.8016111783687677,0.891868301175821,null,0.8016111783687677,0.9011339078096633,null,0.43196344222361227,0.3996510641743197,null,0.43196344222361227,0.4666482714834408,null,0.43196344222361227,0.5886703168399895,null,0.9011339078096633,0.68128520136847,null,0.9011339078096633,0.9532681441921305,null,0.9011339078096633,0.891868301175821,null,0.24026772497187532,0.3232711412508066,null,0.24026772497187532,0.12631654071213483,null,0.24026772497187532,0.2083567880838434,null,0.24026772497187532,0.21665962402659544,null,0.24026772497187532,0.13022993020357043,null,0.24026772497187532,0.13985272363426526,null,0.24026772497187532,0.362322730884702,null,0.24026772497187532,0.1839028760606296,null,0.10321622277398101,0.09186645974288632,null,0.10321622277398101,0.026771817842421997,null,0.10321622277398101,0.1735506267461867,null,0.5006237737207431,0.6569436279895382,null,0.5006237737207431,0.42704536740474663,null,0.5006237737207431,0.3232711412508066,null,0.5006237737207431,0.5488515965193208,null,0.5006237737207431,0.7353428557575755,null,0.5006237737207431,0.362322730884702,null,0.1839028760606296,0.12631654071213483,null,0.1839028760606296,0.13022993020357043,null,0.1839028760606296,0.13985272363426526,null,0.5886703168399895,0.3996510641743197,null,0.5886703168399895,0.4666482714834408,null,0.5886703168399895,0.690016328140396,null,0.1735506267461867,0.09186645974288632,null,0.1735506267461867,0.3232711412508066,null,0.1735506267461867,0.2083567880838434,null,0.1735506267461867,0.21665962402659544,null,0.1735506267461867,0.026771817842421997,null,0.1735506267461867,0.362322730884702,null,0.690016328140396,0.6569436279895382,null,0.690016328140396,0.4666482714834408,null,0.362322730884702,0.42704536740474663,null,0.362322730884702,0.3232711412508066,null,0.362322730884702,0.5488515965193208,null,0.362322730884702,0.2083567880838434,null,0.362322730884702,0.21665962402659544,null,0.362322730884702,0.13985272363426526,null,0.13985272363426526,0.3232711412508066,null,0.13985272363426526,0.12631654071213483,null,0.13985272363426526,0.2083567880838434,null,0.13985272363426526,0.21665962402659544,null,0.13985272363426526,0.13022993020357043,null,0.891868301175821,0.9532681441921305,null,0.026771817842421997,0.09186645974288632,null,0.026771817842421997,0.2083567880838434,null,0.7353428557575755,0.7311657634689946,null,0.7353428557575755,0.6569436279895382,null,0.7353428557575755,0.8800306496459869,null,0.9768234503830939,0.999395685828547,null,0.9768234503830939,0.9528527425842739,null,0.9768234503830939,0.8800306496459869,null,0.13022993020357043,0.12631654071213483,null,0.21665962402659544,0.42704536740474663,null,0.21665962402659544,0.3232711412508066,null,0.21665962402659544,0.12631654071213483,null,0.21665962402659544,0.2083567880838434,null,0.2083567880838434,0.42704536740474663,null,0.2083567880838434,0.3232711412508066,null,0.2083567880838434,0.12631654071213483,null,0.12631654071213483,0.3232711412508066,null,0.5488515965193208,0.7311657634689946,null,0.5488515965193208,0.68128520136847,null,0.5488515965193208,0.42704536740474663,null,0.5488515965193208,0.3232711412508066,null,0.8800306496459869,0.999395685828547,null,0.8800306496459869,0.6569436279895382,null,0.8800306496459869,0.9528527425842739,null,0.4666482714834408,0.3996510641743197,null,0.3232711412508066,0.42704536740474663,null,0.9528527425842739,0.999395685828547,null,0.68128520136847,0.7311657634689946,null],\"type\":\"scatter\"},{\"hoverinfo\":\"text\",\"marker\":{\"color\":[0,0,0,0,0,3,0,0,0,0,0,0,2,0,0,0,2,0,0,0,0,0,0,0,0,0,0,0,0,0,0,0,0,0,1,0,0,2,0,0],\"colorbar\":{\"thickness\":15,\"title\":{\"side\":\"right\",\"text\":\"Node Connections\"},\"xanchor\":\"left\"},\"colorscale\":[[0.0,\"rgb(0,0,0)\"],[0.3333333333333333,\"rgb(230,0,0)\"],[0.6666666666666666,\"rgb(255,210,0)\"],[1.0,\"rgb(255,255,255)\"]],\"line\":{\"width\":2},\"reversescale\":true,\"showscale\":false,\"size\":10},\"mode\":\"markers\",\"text\":[\"Intersection 0\\u003cbr\\u003eNeighbors: 36, 34, 31, 28, 17\",\"Intersection 1\\u003cbr\\u003eNeighbors: 35, 31, 27, 26, 25, 20, 18, 17, 15, 6\",\"Intersection 2\\u003cbr\\u003eNeighbors: 39, 36, 21, 19, 9, 7, 4\",\"Intersection 3\\u003cbr\\u003eNeighbors: 35, 20, 15, 11, 6\",\"Intersection 4\\u003cbr\\u003eNeighbors: 2, 39, 36, 21, 19, 9, 7\",\"Intersection 5\\u003cbr\\u003eNeighbors: 32, 16, 14\",\"Intersection 6\\u003cbr\\u003eNeighbors: 1, 3, 35, 20, 15, 11\",\"Intersection 7\\u003cbr\\u003eNeighbors: 2, 4, 39, 36, 22, 21, 19, 9\",\"Intersection 8\\u003cbr\\u003eNeighbors: 33, 30, 14\",\"Intersection 9\\u003cbr\\u003eNeighbors: 2, 4, 7, 36, 21, 19\",\"Intersection 10\\u003cbr\\u003eNeighbors: 31, 27, 26, 25, 24, 18, 17, 13\",\"Intersection 11\\u003cbr\\u003eNeighbors: 3, 6, 35, 20, 15\",\"Intersection 12\\u003cbr\\u003eNeighbors: 37, 34, 31, 28, 22, 17\",\"Intersection 13\\u003cbr\\u003eNeighbors: 10, 27, 24, 18\",\"Intersection 14\\u003cbr\\u003eNeighbors: 5, 8, 33, 30, 16\",\"Intersection 15\\u003cbr\\u003eNeighbors: 1, 3, 6, 11, 35, 31, 26, 25, 20, 17\",\"Intersection 16\\u003cbr\\u003eNeighbors: 5, 14, 37, 30\",\"Intersection 17\\u003cbr\\u003eNeighbors: 0, 1, 10, 12, 15, 34, 31, 28, 26, 25, 18\",\"Intersection 18\\u003cbr\\u003eNeighbors: 1, 10, 13, 17, 31, 27, 26, 25, 24\",\"Intersection 19\\u003cbr\\u003eNeighbors: 2, 4, 7, 9, 21\",\"Intersection 20\\u003cbr\\u003eNeighbors: 1, 3, 6, 11, 15, 35, 26\",\"Intersection 21\\u003cbr\\u003eNeighbors: 2, 4, 7, 9, 19\",\"Intersection 22\\u003cbr\\u003eNeighbors: 7, 12, 39, 37, 29\",\"Intersection 23\\u003cbr\\u003eNeighbors: 38, 32, 29\",\"Intersection 24\\u003cbr\\u003eNeighbors: 10, 13, 18, 27\",\"Intersection 25\\u003cbr\\u003eNeighbors: 1, 10, 15, 17, 18, 34, 31, 27, 26\",\"Intersection 26\\u003cbr\\u003eNeighbors: 1, 10, 15, 17, 18, 20, 25, 34, 31, 27\",\"Intersection 27\\u003cbr\\u003eNeighbors: 1, 10, 13, 18, 24, 25, 26, 31\",\"Intersection 28\\u003cbr\\u003eNeighbors: 0, 12, 17, 39, 36, 34, 31\",\"Intersection 29\\u003cbr\\u003eNeighbors: 22, 23, 38, 37, 32\",\"Intersection 30\\u003cbr\\u003eNeighbors: 8, 14, 16, 33\",\"Intersection 31\\u003cbr\\u003eNeighbors: 0, 1, 10, 12, 15, 17, 18, 25, 26, 27, 28, 34\",\"Intersection 32\\u003cbr\\u003eNeighbors: 5, 23, 29, 38\",\"Intersection 33\\u003cbr\\u003eNeighbors: 8, 14, 30\",\"Intersection 34\\u003cbr\\u003eNeighbors: 0, 12, 17, 25, 26, 28, 31\",\"Intersection 35\\u003cbr\\u003eNeighbors: 1, 3, 6, 11, 15, 20\",\"Intersection 36\\u003cbr\\u003eNeighbors: 0, 2, 4, 7, 9, 28, 39\",\"Intersection 37\\u003cbr\\u003eNeighbors: 12, 16, 22, 29\",\"Intersection 38\\u003cbr\\u003eNeighbors: 23, 29, 32\",\"Intersection 39\\u003cbr\\u003eNeighbors: 2, 4, 7, 22, 28, 36\"],\"x\":[0.7801603911549438,0.5249831588690298,0.8085335344099086,0.2599134798656856,0.7353838928272886,0.09088671576431506,0.313999018186756,0.6824813442515916,0.20128789391122526,0.8551947714242674,0.7581736589784409,0.25311953895059136,0.4813859169876731,0.9112422509614865,0.04580558670435442,0.4582523173083307,0.12939557977525573,0.607698913404794,0.719569201584275,0.8860336256842246,0.4238357358399233,0.8252497121120052,0.47415009287034726,0.26253385360950576,0.9363713903322148,0.6243437191127235,0.5572917679006295,0.7482655725962591,0.6435799740880603,0.34509802713919313,0.021423673670808885,0.640952694324525,0.17440205342790494,0.1332965908314021,0.583993110207876,0.3073865727705063,0.740625863119245,0.3345284735051981,0.17972981733780147,0.6315322816286787],\"y\":[0.49474860768712914,0.14953665513987202,0.7696330846542071,0.14485659826020547,0.8089961609345658,0.7222846879290787,0.01876171413125327,0.8016111783687677,0.43196344222361227,0.9011339078096633,0.24026772497187532,0.10321622277398101,0.5006237737207431,0.1839028760606296,0.5886703168399895,0.1735506267461867,0.690016328140396,0.362322730884702,0.13985272363426526,0.891868301175821,0.026771817842421997,0.9532681441921305,0.7353428557575755,0.9768234503830939,0.13022993020357043,0.21665962402659544,0.2083567880838434,0.12631654071213483,0.5488515965193208,0.8800306496459869,0.4666482714834408,0.3232711412508066,0.9528527425842739,0.3996510641743197,0.42704536740474663,0.09186645974288632,0.68128520136847,0.6569436279895382,0.999395685828547,0.7311657634689946],\"type\":\"scatter\"}],                        {\"hovermode\":\"closest\",\"margin\":{\"b\":20,\"l\":5,\"r\":5,\"t\":40},\"showlegend\":false,\"template\":{\"data\":{\"barpolar\":[{\"marker\":{\"line\":{\"color\":\"#E5ECF6\",\"width\":0.5},\"pattern\":{\"fillmode\":\"overlay\",\"size\":10,\"solidity\":0.2}},\"type\":\"barpolar\"}],\"bar\":[{\"error_x\":{\"color\":\"#2a3f5f\"},\"error_y\":{\"color\":\"#2a3f5f\"},\"marker\":{\"line\":{\"color\":\"#E5ECF6\",\"width\":0.5},\"pattern\":{\"fillmode\":\"overlay\",\"size\":10,\"solidity\":0.2}},\"type\":\"bar\"}],\"carpet\":[{\"aaxis\":{\"endlinecolor\":\"#2a3f5f\",\"gridcolor\":\"white\",\"linecolor\":\"white\",\"minorgridcolor\":\"white\",\"startlinecolor\":\"#2a3f5f\"},\"baxis\":{\"endlinecolor\":\"#2a3f5f\",\"gridcolor\":\"white\",\"linecolor\":\"white\",\"minorgridcolor\":\"white\",\"startlinecolor\":\"#2a3f5f\"},\"type\":\"carpet\"}],\"choropleth\":[{\"colorbar\":{\"outlinewidth\":0,\"ticks\":\"\"},\"type\":\"choropleth\"}],\"contourcarpet\":[{\"colorbar\":{\"outlinewidth\":0,\"ticks\":\"\"},\"type\":\"contourcarpet\"}],\"contour\":[{\"colorbar\":{\"outlinewidth\":0,\"ticks\":\"\"},\"colorscale\":[[0.0,\"#0d0887\"],[0.1111111111111111,\"#46039f\"],[0.2222222222222222,\"#7201a8\"],[0.3333333333333333,\"#9c179e\"],[0.4444444444444444,\"#bd3786\"],[0.5555555555555556,\"#d8576b\"],[0.6666666666666666,\"#ed7953\"],[0.7777777777777778,\"#fb9f3a\"],[0.8888888888888888,\"#fdca26\"],[1.0,\"#f0f921\"]],\"type\":\"contour\"}],\"heatmapgl\":[{\"colorbar\":{\"outlinewidth\":0,\"ticks\":\"\"},\"colorscale\":[[0.0,\"#0d0887\"],[0.1111111111111111,\"#46039f\"],[0.2222222222222222,\"#7201a8\"],[0.3333333333333333,\"#9c179e\"],[0.4444444444444444,\"#bd3786\"],[0.5555555555555556,\"#d8576b\"],[0.6666666666666666,\"#ed7953\"],[0.7777777777777778,\"#fb9f3a\"],[0.8888888888888888,\"#fdca26\"],[1.0,\"#f0f921\"]],\"type\":\"heatmapgl\"}],\"heatmap\":[{\"colorbar\":{\"outlinewidth\":0,\"ticks\":\"\"},\"colorscale\":[[0.0,\"#0d0887\"],[0.1111111111111111,\"#46039f\"],[0.2222222222222222,\"#7201a8\"],[0.3333333333333333,\"#9c179e\"],[0.4444444444444444,\"#bd3786\"],[0.5555555555555556,\"#d8576b\"],[0.6666666666666666,\"#ed7953\"],[0.7777777777777778,\"#fb9f3a\"],[0.8888888888888888,\"#fdca26\"],[1.0,\"#f0f921\"]],\"type\":\"heatmap\"}],\"histogram2dcontour\":[{\"colorbar\":{\"outlinewidth\":0,\"ticks\":\"\"},\"colorscale\":[[0.0,\"#0d0887\"],[0.1111111111111111,\"#46039f\"],[0.2222222222222222,\"#7201a8\"],[0.3333333333333333,\"#9c179e\"],[0.4444444444444444,\"#bd3786\"],[0.5555555555555556,\"#d8576b\"],[0.6666666666666666,\"#ed7953\"],[0.7777777777777778,\"#fb9f3a\"],[0.8888888888888888,\"#fdca26\"],[1.0,\"#f0f921\"]],\"type\":\"histogram2dcontour\"}],\"histogram2d\":[{\"colorbar\":{\"outlinewidth\":0,\"ticks\":\"\"},\"colorscale\":[[0.0,\"#0d0887\"],[0.1111111111111111,\"#46039f\"],[0.2222222222222222,\"#7201a8\"],[0.3333333333333333,\"#9c179e\"],[0.4444444444444444,\"#bd3786\"],[0.5555555555555556,\"#d8576b\"],[0.6666666666666666,\"#ed7953\"],[0.7777777777777778,\"#fb9f3a\"],[0.8888888888888888,\"#fdca26\"],[1.0,\"#f0f921\"]],\"type\":\"histogram2d\"}],\"histogram\":[{\"marker\":{\"pattern\":{\"fillmode\":\"overlay\",\"size\":10,\"solidity\":0.2}},\"type\":\"histogram\"}],\"mesh3d\":[{\"colorbar\":{\"outlinewidth\":0,\"ticks\":\"\"},\"type\":\"mesh3d\"}],\"parcoords\":[{\"line\":{\"colorbar\":{\"outlinewidth\":0,\"ticks\":\"\"}},\"type\":\"parcoords\"}],\"pie\":[{\"automargin\":true,\"type\":\"pie\"}],\"scatter3d\":[{\"line\":{\"colorbar\":{\"outlinewidth\":0,\"ticks\":\"\"}},\"marker\":{\"colorbar\":{\"outlinewidth\":0,\"ticks\":\"\"}},\"type\":\"scatter3d\"}],\"scattercarpet\":[{\"marker\":{\"colorbar\":{\"outlinewidth\":0,\"ticks\":\"\"}},\"type\":\"scattercarpet\"}],\"scattergeo\":[{\"marker\":{\"colorbar\":{\"outlinewidth\":0,\"ticks\":\"\"}},\"type\":\"scattergeo\"}],\"scattergl\":[{\"marker\":{\"colorbar\":{\"outlinewidth\":0,\"ticks\":\"\"}},\"type\":\"scattergl\"}],\"scattermapbox\":[{\"marker\":{\"colorbar\":{\"outlinewidth\":0,\"ticks\":\"\"}},\"type\":\"scattermapbox\"}],\"scatterpolargl\":[{\"marker\":{\"colorbar\":{\"outlinewidth\":0,\"ticks\":\"\"}},\"type\":\"scatterpolargl\"}],\"scatterpolar\":[{\"marker\":{\"colorbar\":{\"outlinewidth\":0,\"ticks\":\"\"}},\"type\":\"scatterpolar\"}],\"scatter\":[{\"fillpattern\":{\"fillmode\":\"overlay\",\"size\":10,\"solidity\":0.2},\"type\":\"scatter\"}],\"scatterternary\":[{\"marker\":{\"colorbar\":{\"outlinewidth\":0,\"ticks\":\"\"}},\"type\":\"scatterternary\"}],\"surface\":[{\"colorbar\":{\"outlinewidth\":0,\"ticks\":\"\"},\"colorscale\":[[0.0,\"#0d0887\"],[0.1111111111111111,\"#46039f\"],[0.2222222222222222,\"#7201a8\"],[0.3333333333333333,\"#9c179e\"],[0.4444444444444444,\"#bd3786\"],[0.5555555555555556,\"#d8576b\"],[0.6666666666666666,\"#ed7953\"],[0.7777777777777778,\"#fb9f3a\"],[0.8888888888888888,\"#fdca26\"],[1.0,\"#f0f921\"]],\"type\":\"surface\"}],\"table\":[{\"cells\":{\"fill\":{\"color\":\"#EBF0F8\"},\"line\":{\"color\":\"white\"}},\"header\":{\"fill\":{\"color\":\"#C8D4E3\"},\"line\":{\"color\":\"white\"}},\"type\":\"table\"}]},\"layout\":{\"annotationdefaults\":{\"arrowcolor\":\"#2a3f5f\",\"arrowhead\":0,\"arrowwidth\":1},\"autotypenumbers\":\"strict\",\"coloraxis\":{\"colorbar\":{\"outlinewidth\":0,\"ticks\":\"\"}},\"colorscale\":{\"diverging\":[[0,\"#8e0152\"],[0.1,\"#c51b7d\"],[0.2,\"#de77ae\"],[0.3,\"#f1b6da\"],[0.4,\"#fde0ef\"],[0.5,\"#f7f7f7\"],[0.6,\"#e6f5d0\"],[0.7,\"#b8e186\"],[0.8,\"#7fbc41\"],[0.9,\"#4d9221\"],[1,\"#276419\"]],\"sequential\":[[0.0,\"#0d0887\"],[0.1111111111111111,\"#46039f\"],[0.2222222222222222,\"#7201a8\"],[0.3333333333333333,\"#9c179e\"],[0.4444444444444444,\"#bd3786\"],[0.5555555555555556,\"#d8576b\"],[0.6666666666666666,\"#ed7953\"],[0.7777777777777778,\"#fb9f3a\"],[0.8888888888888888,\"#fdca26\"],[1.0,\"#f0f921\"]],\"sequentialminus\":[[0.0,\"#0d0887\"],[0.1111111111111111,\"#46039f\"],[0.2222222222222222,\"#7201a8\"],[0.3333333333333333,\"#9c179e\"],[0.4444444444444444,\"#bd3786\"],[0.5555555555555556,\"#d8576b\"],[0.6666666666666666,\"#ed7953\"],[0.7777777777777778,\"#fb9f3a\"],[0.8888888888888888,\"#fdca26\"],[1.0,\"#f0f921\"]]},\"colorway\":[\"#636efa\",\"#EF553B\",\"#00cc96\",\"#ab63fa\",\"#FFA15A\",\"#19d3f3\",\"#FF6692\",\"#B6E880\",\"#FF97FF\",\"#FECB52\"],\"font\":{\"color\":\"#2a3f5f\"},\"geo\":{\"bgcolor\":\"white\",\"lakecolor\":\"white\",\"landcolor\":\"#E5ECF6\",\"showlakes\":true,\"showland\":true,\"subunitcolor\":\"white\"},\"hoverlabel\":{\"align\":\"left\"},\"hovermode\":\"closest\",\"mapbox\":{\"style\":\"light\"},\"paper_bgcolor\":\"white\",\"plot_bgcolor\":\"#E5ECF6\",\"polar\":{\"angularaxis\":{\"gridcolor\":\"white\",\"linecolor\":\"white\",\"ticks\":\"\"},\"bgcolor\":\"#E5ECF6\",\"radialaxis\":{\"gridcolor\":\"white\",\"linecolor\":\"white\",\"ticks\":\"\"}},\"scene\":{\"xaxis\":{\"backgroundcolor\":\"#E5ECF6\",\"gridcolor\":\"white\",\"gridwidth\":2,\"linecolor\":\"white\",\"showbackground\":true,\"ticks\":\"\",\"zerolinecolor\":\"white\"},\"yaxis\":{\"backgroundcolor\":\"#E5ECF6\",\"gridcolor\":\"white\",\"gridwidth\":2,\"linecolor\":\"white\",\"showbackground\":true,\"ticks\":\"\",\"zerolinecolor\":\"white\"},\"zaxis\":{\"backgroundcolor\":\"#E5ECF6\",\"gridcolor\":\"white\",\"gridwidth\":2,\"linecolor\":\"white\",\"showbackground\":true,\"ticks\":\"\",\"zerolinecolor\":\"white\"}},\"shapedefaults\":{\"line\":{\"color\":\"#2a3f5f\"}},\"ternary\":{\"aaxis\":{\"gridcolor\":\"white\",\"linecolor\":\"white\",\"ticks\":\"\"},\"baxis\":{\"gridcolor\":\"white\",\"linecolor\":\"white\",\"ticks\":\"\"},\"bgcolor\":\"#E5ECF6\",\"caxis\":{\"gridcolor\":\"white\",\"linecolor\":\"white\",\"ticks\":\"\"}},\"title\":{\"x\":0.05},\"xaxis\":{\"automargin\":true,\"gridcolor\":\"white\",\"linecolor\":\"white\",\"ticks\":\"\",\"title\":{\"standoff\":15},\"zerolinecolor\":\"white\",\"zerolinewidth\":2},\"yaxis\":{\"automargin\":true,\"gridcolor\":\"white\",\"linecolor\":\"white\",\"ticks\":\"\",\"title\":{\"standoff\":15},\"zerolinecolor\":\"white\",\"zerolinewidth\":2}}},\"title\":{\"font\":{\"size\":16},\"text\":\"\\u003cbr\\u003eNetwork graph made with Python\"},\"xaxis\":{\"showgrid\":false,\"showticklabels\":false,\"zeroline\":false},\"yaxis\":{\"showgrid\":false,\"showticklabels\":false,\"zeroline\":false}},                        {\"responsive\": true}                    ).then(function(){\n",
       "                            \n",
       "var gd = document.getElementById('35576ec6-c327-472a-8f95-153efbff78c9');\n",
       "var x = new MutationObserver(function (mutations, observer) {{\n",
       "        var display = window.getComputedStyle(gd).display;\n",
       "        if (!display || display === 'none') {{\n",
       "            console.log([gd, 'removed!']);\n",
       "            Plotly.purge(gd);\n",
       "            observer.disconnect();\n",
       "        }}\n",
       "}});\n",
       "\n",
       "// Listen for the removal of the full notebook cells\n",
       "var notebookContainer = gd.closest('#notebook-container');\n",
       "if (notebookContainer) {{\n",
       "    x.observe(notebookContainer, {childList: true});\n",
       "}}\n",
       "\n",
       "// Listen for the clearing of the current output cell\n",
       "var outputEl = gd.closest('.output');\n",
       "if (outputEl) {{\n",
       "    x.observe(outputEl, {childList: true});\n",
       "}}\n",
       "\n",
       "                        })                };                });            </script>        </div>"
      ]
     },
     "metadata": {},
     "output_type": "display_data"
    }
   ],
   "source": [
    "# run this code, note the effect of including the optional\n",
    "# parameters in the function call.\n",
    "show_map(map_40, start=5, goal=34, path=[5,16,37,12,34])"
   ]
  },
  {
   "cell_type": "markdown",
   "metadata": {},
   "source": [
    "## A* Algorithm\n",
    "### Writing your algorithm"
   ]
  },
  {
   "cell_type": "markdown",
   "metadata": {},
   "source": [
    "### PathPlanner class\n",
    "\n",
    "`__init__` - Initialized the path planner with a map, M, and typically a start and goal node. If either of these are `None`, the rest of the variables here are also set to none.\n",
    "- `closedSet` includes any explored/visited nodes. \n",
    "- `openSet` are any nodes on our frontier for potential future exploration. \n",
    "- `cameFrom` will hold the previous node that best reaches a given node\n",
    "- `gScore` is the `g` in our `f = g + h` equation, or the actual cost to reach our current node\n",
    "- `fScore` is the combination of `g` and `h`, i.e. the `gScore` plus a heuristic; total cost to reach the goal\n",
    "- `path` comes from the `run_search` function, which is already built for you.\n",
    "\n",
    "`reconstruct_path` - This function just rebuilds the path after search is run, going from the goal node backwards using each node's `cameFrom` information.\n",
    "\n",
    "`_reset` - Resets *most* of our initialized variables for PathPlanner. This *does not* reset the map, start or goal variables.\n",
    "\n",
    "`run_search` - First, it checks whether the map, goal and start have been added to the class. Then, it will also check if the other variables, other than `path` are initialized (note that these are only needed to be re-run if the goal or start were not originally given when initializing the class, based on what we discussed above for `__init__`.\n",
    "\n",
    "`is_open_empty` - to check that there are still nodes to explore (made sure to feed `openSet` the start node to make sure the algorithm doesn't immediately think there is nothing to open). If we're at our goal, we reconstruct the path. If not, we move our current node from the frontier (`openSet`) and into explored (`closedSet`). Then, we check out the neighbors of the current node, check out their costs, and plan our next move."
   ]
  },
  {
   "cell_type": "code",
   "execution_count": 128,
   "metadata": {},
   "outputs": [],
   "source": [
    "class PathPlanner():\n",
    "    \"\"\"Construct a PathPlanner Object\"\"\"\n",
    "    def __init__(self, M, start=None, goal=None):\n",
    "        \"\"\" \"\"\"\n",
    "        self.map = M\n",
    "        self.start= start\n",
    "        self.goal = goal\n",
    "        self.closedSet = self.create_closedSet() if goal != None and start != None else None\n",
    "        self.openSet = self.create_openSet() if goal != None and start != None else None\n",
    "        self.cameFrom = self.create_cameFrom() if goal != None and start != None else None\n",
    "        self.gScore = self.create_gScore() if goal != None and start != None else None\n",
    "        self.fScore = self.create_fScore() if goal != None and start != None else None\n",
    "        self.path = self.run_search() if self.map and self.start != None and self.goal != None else None\n",
    "    \n",
    "    def reconstruct_path(self, current):\n",
    "        \"\"\" Reconstructs path after search \"\"\"\n",
    "        total_path = [current]\n",
    "        while current in self.cameFrom.keys():\n",
    "            current = self.cameFrom[current]\n",
    "            total_path.append(current)\n",
    "        return total_path\n",
    "    \n",
    "    def _reset(self):\n",
    "        \"\"\"Private method used to reset the closedSet, openSet, cameFrom, gScore, fScore, and path attributes\"\"\"\n",
    "        self.closedSet = None\n",
    "        self.openSet = None\n",
    "        self.cameFrom = None\n",
    "        self.gScore = None\n",
    "        self.fScore = None\n",
    "        self.path = self.run_search() if self.map and self.start and self.goal else None\n",
    "\n",
    "    def run_search(self):\n",
    "        \"\"\" \"\"\"\n",
    "        if self.map == None:\n",
    "            raise(ValueError, \"Must create map before running search. Try running PathPlanner.set_map(start_node)\")\n",
    "        if self.goal == None:\n",
    "            raise(ValueError, \"Must create goal node before running search. Try running PathPlanner.set_goal(start_node)\")\n",
    "        if self.start == None:\n",
    "            raise(ValueError, \"Must create start node before running search. Try running PathPlanner.set_start(start_node)\")\n",
    "\n",
    "        self.closedSet = self.closedSet if self.closedSet != None else self.create_closedSet()\n",
    "        self.openSet = self.openSet if self.openSet != None else  self.create_openSet()\n",
    "        self.cameFrom = self.cameFrom if self.cameFrom != None else  self.create_cameFrom()\n",
    "        self.gScore = self.gScore if self.gScore != None else  self.create_gScore()\n",
    "        self.fScore = self.fScore if self.fScore != None else  self.create_fScore()\n",
    "\n",
    "        while not self.is_open_empty():\n",
    "            current = self.get_current_node()\n",
    "\n",
    "            if current == self.goal:\n",
    "                self.path = [x for x in reversed(self.reconstruct_path(current))]\n",
    "                return self.path\n",
    "            else:\n",
    "                self.openSet.remove(current)\n",
    "                self.closedSet.add(current)\n",
    "\n",
    "            for neighbor in self.get_neighbors(current):\n",
    "                if neighbor in self.closedSet:\n",
    "                    continue    # Ignore the neighbor which is already evaluated.\n",
    "\n",
    "                if not neighbor in self.openSet:    # Discover a new node\n",
    "                    self.openSet.add(neighbor)\n",
    "                \n",
    "                # The distance from start to a neighbor\n",
    "                #the \"dist_between\" function may vary as per the solution requirements.\n",
    "                if self.get_tentative_gScore(current, neighbor) >= self.get_gScore(neighbor):\n",
    "                    continue        # This is not a better path.\n",
    "\n",
    "                # Record the best path\n",
    "                self.record_best_path_to(current, neighbor)\n",
    "        print(\"No Path Found\")\n",
    "        self.path = None\n",
    "        return False"
   ]
  },
  {
   "cell_type": "markdown",
   "metadata": {},
   "source": [
    "## Your Turn\n",
    "\n",
    "Implement the following functions to get your search algorithm running smoothly!"
   ]
  },
  {
   "cell_type": "markdown",
   "metadata": {},
   "source": [
    "### Data Structures\n",
    "\n",
    "The next few functions requre you to decide on data structures to use - lists, sets, dictionaries, etc. Make sure to think about what would work most efficiently for each of these. Some can be returned as just an empty data structure (see `create_closedSet()` for an example), while others should be initialized with one or more values within."
   ]
  },
  {
   "cell_type": "code",
   "execution_count": 94,
   "metadata": {},
   "outputs": [],
   "source": [
    "def create_closedSet(self):\n",
    "    \"\"\" Creates and returns a data structure suitable to hold the set of nodes already evaluated\"\"\"\n",
    "    # return a data structure suitable to hold the set of nodes already evaluated\n",
    "    return set()"
   ]
  },
  {
   "cell_type": "code",
   "execution_count": 95,
   "metadata": {},
   "outputs": [],
   "source": [
    "def create_openSet(self):\n",
    "    \"\"\" Creates and returns a data structure suitable to hold the set of currently discovered nodes \n",
    "    that are not evaluated yet. Initially, only the start node is known.\"\"\"\n",
    "    if self.start != None:\n",
    "        # return a data structure suitable to hold the set of currently discovered nodes \n",
    "        # that are not evaluated yet. Make sure to include the start node.\n",
    "        return {self.start}\n",
    "    \n",
    "    raise(ValueError, \"Must create start node before creating an open set. Try running PathPlanner.set_start(start_node)\")"
   ]
  },
  {
   "cell_type": "code",
   "execution_count": 96,
   "metadata": {},
   "outputs": [],
   "source": [
    "def create_cameFrom(self):\n",
    "    \"\"\"Creates and returns a data structure that shows which node can most efficiently be reached from another,\n",
    "    for each node.\"\"\"\n",
    "    # return a data structure that shows which node can most efficiently be reached from another,\n",
    "    # for each node.\n",
    "    return {}"
   ]
  },
  {
   "cell_type": "code",
   "execution_count": 97,
   "metadata": {},
   "outputs": [],
   "source": [
    "def create_gScore(self):\n",
    "    \"\"\"Creates and returns a data structure that holds the cost of getting from the start node to that node, \n",
    "    for each node. The cost of going from start to start is zero.\"\"\"\n",
    "    # return a data structure that holds the cost of getting from the start node to that node, for each node.\n",
    "    # for each node. The cost of going from start to start is zero. The rest of the node's values should \n",
    "    # be set to infinity.\n",
    "    gScore = {node: float('inf') for node in self.map.intersections}\n",
    "    gScore[self.start] = 0\n",
    "    return gScore"
   ]
  },
  {
   "cell_type": "code",
   "execution_count": 98,
   "metadata": {},
   "outputs": [],
   "source": [
    "def create_fScore(self):\n",
    "    \"\"\"Creates and returns a data structure that holds the total cost of getting from the start node to the goal\n",
    "    by passing by that node, for each node. That value is partly known, partly heuristic.\n",
    "    For the first node, that value is completely heuristic.\"\"\"\n",
    "    # return a data structure that holds the total cost of getting from the start node to the goal\n",
    "    # by passing by that node, for each node. That value is partly known, partly heuristic.\n",
    "    # For the first node, that value is completely heuristic. The rest of the node's value should be \n",
    "    # set to infinity.\n",
    "    return {node: float('inf') for node in self.map.intersections}\n"
   ]
  },
  {
   "cell_type": "markdown",
   "metadata": {},
   "source": [
    "### Set certain variables\n",
    "\n",
    "The below functions help set certain variables if they weren't a part of initializating our `PathPlanner` class, or if they need to be changed for anothe reason."
   ]
  },
  {
   "cell_type": "code",
   "execution_count": 99,
   "metadata": {},
   "outputs": [],
   "source": [
    "def set_map(self, M):\n",
    "    \"\"\"Method used to set map attribute \"\"\"\n",
    "    self._reset(self)\n",
    "    self.start = None\n",
    "    self.goal = None\n",
    "    # Set map to new value.\n",
    "    self._reset()\n",
    "    self.map = M\n"
   ]
  },
  {
   "cell_type": "code",
   "execution_count": 100,
   "metadata": {},
   "outputs": [],
   "source": [
    "def set_start(self, start):\n",
    "    \"\"\"Method used to set start attribute \"\"\"\n",
    "    self._reset(self)\n",
    "    # Set start value. Remember to remove goal, closedSet, openSet, cameFrom, gScore, fScore, \n",
    "    # and path attributes' values.\n",
    "    self.start = start\n",
    "    self.goal = None\n",
    "    self.closedSet = None\n",
    "    self.openSet = None\n",
    "    self.cameFrom = None\n",
    "    self.gScore = None\n",
    "    self.fScore = None\n",
    "    self.path = None"
   ]
  },
  {
   "cell_type": "code",
   "execution_count": 101,
   "metadata": {},
   "outputs": [],
   "source": [
    "def set_goal(self, goal):\n",
    "    \"\"\"Method used to set goal attribute \"\"\"\n",
    "    self._reset(self)\n",
    "    # Set goal value.\n",
    "    self.goal = goal\n"
   ]
  },
  {
   "cell_type": "markdown",
   "metadata": {},
   "source": [
    "### Get node information\n",
    "\n",
    "The below functions concern grabbing certain node information. In `is_open_empty`, you are checking whether there are still nodes on the frontier to explore. In `get_current_node()`, you'll want to come up with a way to find the lowest `fScore` of the nodes on the frontier. In `get_neighbors`, you'll need to gather information from the map to find the neighbors of the current node."
   ]
  },
  {
   "cell_type": "code",
   "execution_count": 102,
   "metadata": {},
   "outputs": [],
   "source": [
    "def is_open_empty(self):\n",
    "    \"\"\"returns True if the open set is empty. False otherwise. \"\"\"\n",
    "    # Return True if the open set is empty. False otherwise.\n",
    "    return len(self.openSet) == 0"
   ]
  },
  {
   "cell_type": "code",
   "execution_count": 103,
   "metadata": {},
   "outputs": [],
   "source": [
    "def get_current_node(self):\n",
    "    \"\"\" Returns the node in the open set with the lowest value of f(node).\"\"\"\n",
    "    # Return the node in the open set with the lowest value of f(node).\n",
    "    min_fScore = float('inf')\n",
    "    current_node = self.start  # Default to start node if openSet is empty\n",
    "    for node in self.openSet:\n",
    "        if self.fScore[node] < min_fScore:\n",
    "            min_fScore = self.fScore[node]\n",
    "            current_node = node\n",
    "    return current_node"
   ]
  },
  {
   "cell_type": "code",
   "execution_count": 104,
   "metadata": {},
   "outputs": [],
   "source": [
    "def get_neighbors(self, node):\n",
    "    \"\"\"Returns the neighbors of a node\"\"\"\n",
    "    # Return the neighbors of a node\n",
    "    if self.map:\n",
    "        return self.map.roads[node]\n",
    "    else:\n",
    "        raise ValueError(\"Map has not been set.\")"
   ]
  },
  {
   "cell_type": "markdown",
   "metadata": {},
   "source": [
    "### Scores and Costs\n",
    "\n",
    "Determining the best path to calculating the various parts of the `fScore`."
   ]
  },
  {
   "cell_type": "code",
   "execution_count": 105,
   "metadata": {},
   "outputs": [],
   "source": [
    "def get_gScore(self, node):\n",
    "    \"\"\"Returns the g Score of a node\"\"\"\n",
    "    # Return the g Score of a node\n",
    "    if self.gScore and node in self.gScore:\n",
    "        return self.gScore[node]\n",
    "    else:\n",
    "        return float('inf')"
   ]
  },
  {
   "cell_type": "code",
   "execution_count": 106,
   "metadata": {},
   "outputs": [],
   "source": [
    "def distance(self, node_1, node_2):\n",
    "    \"\"\" Computes the Euclidean L2 Distance\"\"\"\n",
    "    # Compute and return the Euclidean L2 Distance\n",
    "    pos_1 = self.map.intersections[node_1]\n",
    "    pos_2 = self.map.intersections[node_2]\n",
    "    return math.sqrt((pos_2[0] - pos_1[0])**2 + (pos_2[1] - pos_1[1])**2)"
   ]
  },
  {
   "cell_type": "code",
   "execution_count": 107,
   "metadata": {},
   "outputs": [],
   "source": [
    "def get_tentative_gScore(self, current, neighbor):\n",
    "    \"\"\"Returns the tentative g Score of a node\"\"\"\n",
    "    # TODO: Return the g Score of the current node \n",
    "    # plus distance from the current node to it's neighbors\n",
    "    return self.get_gScore(current) + self.distance(current, neighbor)"
   ]
  },
  {
   "cell_type": "code",
   "execution_count": 108,
   "metadata": {},
   "outputs": [],
   "source": [
    "def heuristic_cost_estimate(self, node):\n",
    "    \"\"\" Returns the heuristic cost estimate of a node \"\"\"\n",
    "    # Return the heuristic cost estimate of a node\n",
    "    if self.goal:\n",
    "        return self.distance(node, self.goal)\n",
    "    else:\n",
    "        raise ValueError(\"Goal has not been set.\")"
   ]
  },
  {
   "cell_type": "code",
   "execution_count": 109,
   "metadata": {},
   "outputs": [],
   "source": [
    "def calculate_fscore(self, node):\n",
    "    \"\"\"Calculate the f score of a node. \"\"\"\n",
    "    # Calculate and returns the f score of a node. \n",
    "    # F = G + H\n",
    "    return self.get_gScore(node) + self.heuristic_cost_estimate(node)"
   ]
  },
  {
   "cell_type": "markdown",
   "metadata": {},
   "source": [
    "### Recording the best path"
   ]
  },
  {
   "cell_type": "code",
   "execution_count": 110,
   "metadata": {},
   "outputs": [],
   "source": [
    "def record_best_path_to(self, current, neighbor):\n",
    "    \"\"\"Record the best path to a node \"\"\"\n",
    "    # Record the best path to a node, by updating cameFrom, gScore, and fScore\n",
    "    if self.gScore is None:\n",
    "        self.gScore = {}\n",
    "    if self.cameFrom is None:\n",
    "        self.cameFrom = {}\n",
    "    if self.fScore is None:\n",
    "        self.fScore = {}\n",
    "\n",
    "    self.cameFrom[neighbor] = current\n",
    "    self.gScore[neighbor] = self.get_tentative_gScore(current, neighbor)\n",
    "    self.fScore[neighbor] = self.calculate_fscore(neighbor)"
   ]
  },
  {
   "cell_type": "markdown",
   "metadata": {},
   "source": [
    "### Associating your functions with the `PathPlanner` class\n",
    "\n",
    "Associate all of the above functions to the `PathPlanner` class using the dot notation.\n",
    "\n",
    "*Note*: Re-run this code cell if made changes to the function above"
   ]
  },
  {
   "cell_type": "code",
   "execution_count": 111,
   "metadata": {},
   "outputs": [],
   "source": [
    "# Associates implemented functions with PathPlanner class\n",
    "PathPlanner.create_closedSet = create_closedSet\n",
    "PathPlanner.create_openSet = create_openSet\n",
    "PathPlanner.create_cameFrom = create_cameFrom\n",
    "PathPlanner.create_gScore = create_gScore\n",
    "PathPlanner.create_fScore = create_fScore\n",
    "PathPlanner.set_map = set_map\n",
    "PathPlanner.set_start = set_start\n",
    "PathPlanner.set_goal = set_goal\n",
    "PathPlanner.is_open_empty = is_open_empty\n",
    "PathPlanner.get_current_node = get_current_node\n",
    "PathPlanner.get_neighbors = get_neighbors\n",
    "PathPlanner.get_gScore = get_gScore\n",
    "PathPlanner.distance = distance\n",
    "PathPlanner.get_tentative_gScore = get_tentative_gScore\n",
    "PathPlanner.heuristic_cost_estimate = heuristic_cost_estimate\n",
    "PathPlanner.calculate_fscore = calculate_fscore\n",
    "PathPlanner.record_best_path_to = record_best_path_to"
   ]
  },
  {
   "cell_type": "markdown",
   "metadata": {},
   "source": [
    "### Testing with mock data"
   ]
  },
  {
   "cell_type": "code",
   "execution_count": 126,
   "metadata": {},
   "outputs": [
    {
     "name": "stdout",
     "output_type": "stream",
     "text": [
      "No errors\n"
     ]
    }
   ],
   "source": [
    "planner = PathPlanner(map_40, 5, 34)\n",
    "path = planner.path\n",
    "if path == [5, 16, 37, 12, 34]:\n",
    "    print(\"No errors\")\n",
    "else:\n",
    "    print(\"Error in implementing functions\")\n",
    "    print(path)"
   ]
  },
  {
   "cell_type": "markdown",
   "metadata": {},
   "source": [
    "#### Visualize"
   ]
  },
  {
   "cell_type": "code",
   "execution_count": 124,
   "metadata": {
    "scrolled": true
   },
   "outputs": [
    {
     "data": {
      "application/vnd.plotly.v1+json": {
       "config": {
        "linkText": "Export to plot.ly",
        "plotlyServerURL": "https://plot.ly",
        "showLink": false
       },
       "data": [
        {
         "hoverinfo": "none",
         "line": {
          "color": "#888",
          "width": 0.5
         },
         "mode": "lines",
         "type": "scatter",
         "x": [
          0.7801603911549438,
          0.740625863119245,
          null,
          0.7801603911549438,
          0.583993110207876,
          null,
          0.7801603911549438,
          0.640952694324525,
          null,
          0.7801603911549438,
          0.6435799740880603,
          null,
          0.7801603911549438,
          0.607698913404794,
          null,
          0.5249831588690298,
          0.3073865727705063,
          null,
          0.5249831588690298,
          0.640952694324525,
          null,
          0.5249831588690298,
          0.7482655725962591,
          null,
          0.5249831588690298,
          0.5572917679006295,
          null,
          0.5249831588690298,
          0.6243437191127235,
          null,
          0.5249831588690298,
          0.4238357358399233,
          null,
          0.5249831588690298,
          0.719569201584275,
          null,
          0.5249831588690298,
          0.607698913404794,
          null,
          0.5249831588690298,
          0.4582523173083307,
          null,
          0.5249831588690298,
          0.313999018186756,
          null,
          0.8085335344099086,
          0.6315322816286787,
          null,
          0.8085335344099086,
          0.740625863119245,
          null,
          0.8085335344099086,
          0.8252497121120052,
          null,
          0.8085335344099086,
          0.8860336256842246,
          null,
          0.8085335344099086,
          0.8551947714242674,
          null,
          0.8085335344099086,
          0.6824813442515916,
          null,
          0.8085335344099086,
          0.7353838928272886,
          null,
          0.2599134798656856,
          0.3073865727705063,
          null,
          0.2599134798656856,
          0.4238357358399233,
          null,
          0.2599134798656856,
          0.4582523173083307,
          null,
          0.2599134798656856,
          0.25311953895059136,
          null,
          0.2599134798656856,
          0.313999018186756,
          null,
          0.7353838928272886,
          0.6315322816286787,
          null,
          0.7353838928272886,
          0.740625863119245,
          null,
          0.7353838928272886,
          0.8252497121120052,
          null,
          0.7353838928272886,
          0.8860336256842246,
          null,
          0.7353838928272886,
          0.8551947714242674,
          null,
          0.7353838928272886,
          0.6824813442515916,
          null,
          0.09088671576431506,
          0.17440205342790494,
          null,
          0.09088671576431506,
          0.12939557977525573,
          null,
          0.09088671576431506,
          0.04580558670435442,
          null,
          0.313999018186756,
          0.3073865727705063,
          null,
          0.313999018186756,
          0.4238357358399233,
          null,
          0.313999018186756,
          0.4582523173083307,
          null,
          0.313999018186756,
          0.25311953895059136,
          null,
          0.6824813442515916,
          0.6315322816286787,
          null,
          0.6824813442515916,
          0.740625863119245,
          null,
          0.6824813442515916,
          0.47415009287034726,
          null,
          0.6824813442515916,
          0.8252497121120052,
          null,
          0.6824813442515916,
          0.8860336256842246,
          null,
          0.6824813442515916,
          0.8551947714242674,
          null,
          0.20128789391122526,
          0.1332965908314021,
          null,
          0.20128789391122526,
          0.021423673670808885,
          null,
          0.20128789391122526,
          0.04580558670435442,
          null,
          0.8551947714242674,
          0.740625863119245,
          null,
          0.8551947714242674,
          0.8252497121120052,
          null,
          0.8551947714242674,
          0.8860336256842246,
          null,
          0.7581736589784409,
          0.640952694324525,
          null,
          0.7581736589784409,
          0.7482655725962591,
          null,
          0.7581736589784409,
          0.5572917679006295,
          null,
          0.7581736589784409,
          0.6243437191127235,
          null,
          0.7581736589784409,
          0.9363713903322148,
          null,
          0.7581736589784409,
          0.719569201584275,
          null,
          0.7581736589784409,
          0.607698913404794,
          null,
          0.7581736589784409,
          0.9112422509614865,
          null,
          0.25311953895059136,
          0.3073865727705063,
          null,
          0.25311953895059136,
          0.4238357358399233,
          null,
          0.25311953895059136,
          0.4582523173083307,
          null,
          0.4813859169876731,
          0.3345284735051981,
          null,
          0.4813859169876731,
          0.583993110207876,
          null,
          0.4813859169876731,
          0.640952694324525,
          null,
          0.4813859169876731,
          0.6435799740880603,
          null,
          0.4813859169876731,
          0.47415009287034726,
          null,
          0.4813859169876731,
          0.607698913404794,
          null,
          0.9112422509614865,
          0.7482655725962591,
          null,
          0.9112422509614865,
          0.9363713903322148,
          null,
          0.9112422509614865,
          0.719569201584275,
          null,
          0.04580558670435442,
          0.1332965908314021,
          null,
          0.04580558670435442,
          0.021423673670808885,
          null,
          0.04580558670435442,
          0.12939557977525573,
          null,
          0.4582523173083307,
          0.3073865727705063,
          null,
          0.4582523173083307,
          0.640952694324525,
          null,
          0.4582523173083307,
          0.5572917679006295,
          null,
          0.4582523173083307,
          0.6243437191127235,
          null,
          0.4582523173083307,
          0.4238357358399233,
          null,
          0.4582523173083307,
          0.607698913404794,
          null,
          0.12939557977525573,
          0.3345284735051981,
          null,
          0.12939557977525573,
          0.021423673670808885,
          null,
          0.607698913404794,
          0.583993110207876,
          null,
          0.607698913404794,
          0.640952694324525,
          null,
          0.607698913404794,
          0.6435799740880603,
          null,
          0.607698913404794,
          0.5572917679006295,
          null,
          0.607698913404794,
          0.6243437191127235,
          null,
          0.607698913404794,
          0.719569201584275,
          null,
          0.719569201584275,
          0.640952694324525,
          null,
          0.719569201584275,
          0.7482655725962591,
          null,
          0.719569201584275,
          0.5572917679006295,
          null,
          0.719569201584275,
          0.6243437191127235,
          null,
          0.719569201584275,
          0.9363713903322148,
          null,
          0.8860336256842246,
          0.8252497121120052,
          null,
          0.4238357358399233,
          0.3073865727705063,
          null,
          0.4238357358399233,
          0.5572917679006295,
          null,
          0.47415009287034726,
          0.6315322816286787,
          null,
          0.47415009287034726,
          0.3345284735051981,
          null,
          0.47415009287034726,
          0.34509802713919313,
          null,
          0.26253385360950576,
          0.17972981733780147,
          null,
          0.26253385360950576,
          0.17440205342790494,
          null,
          0.26253385360950576,
          0.34509802713919313,
          null,
          0.9363713903322148,
          0.7482655725962591,
          null,
          0.6243437191127235,
          0.583993110207876,
          null,
          0.6243437191127235,
          0.640952694324525,
          null,
          0.6243437191127235,
          0.7482655725962591,
          null,
          0.6243437191127235,
          0.5572917679006295,
          null,
          0.5572917679006295,
          0.583993110207876,
          null,
          0.5572917679006295,
          0.640952694324525,
          null,
          0.5572917679006295,
          0.7482655725962591,
          null,
          0.7482655725962591,
          0.640952694324525,
          null,
          0.6435799740880603,
          0.6315322816286787,
          null,
          0.6435799740880603,
          0.740625863119245,
          null,
          0.6435799740880603,
          0.583993110207876,
          null,
          0.6435799740880603,
          0.640952694324525,
          null,
          0.34509802713919313,
          0.17972981733780147,
          null,
          0.34509802713919313,
          0.3345284735051981,
          null,
          0.34509802713919313,
          0.17440205342790494,
          null,
          0.021423673670808885,
          0.1332965908314021,
          null,
          0.640952694324525,
          0.583993110207876,
          null,
          0.17440205342790494,
          0.17972981733780147,
          null,
          0.740625863119245,
          0.6315322816286787,
          null
         ],
         "y": [
          0.49474860768712914,
          0.68128520136847,
          null,
          0.49474860768712914,
          0.42704536740474663,
          null,
          0.49474860768712914,
          0.3232711412508066,
          null,
          0.49474860768712914,
          0.5488515965193208,
          null,
          0.49474860768712914,
          0.362322730884702,
          null,
          0.14953665513987202,
          0.09186645974288632,
          null,
          0.14953665513987202,
          0.3232711412508066,
          null,
          0.14953665513987202,
          0.12631654071213483,
          null,
          0.14953665513987202,
          0.2083567880838434,
          null,
          0.14953665513987202,
          0.21665962402659544,
          null,
          0.14953665513987202,
          0.026771817842421997,
          null,
          0.14953665513987202,
          0.13985272363426526,
          null,
          0.14953665513987202,
          0.362322730884702,
          null,
          0.14953665513987202,
          0.1735506267461867,
          null,
          0.14953665513987202,
          0.01876171413125327,
          null,
          0.7696330846542071,
          0.7311657634689946,
          null,
          0.7696330846542071,
          0.68128520136847,
          null,
          0.7696330846542071,
          0.9532681441921305,
          null,
          0.7696330846542071,
          0.891868301175821,
          null,
          0.7696330846542071,
          0.9011339078096633,
          null,
          0.7696330846542071,
          0.8016111783687677,
          null,
          0.7696330846542071,
          0.8089961609345658,
          null,
          0.14485659826020547,
          0.09186645974288632,
          null,
          0.14485659826020547,
          0.026771817842421997,
          null,
          0.14485659826020547,
          0.1735506267461867,
          null,
          0.14485659826020547,
          0.10321622277398101,
          null,
          0.14485659826020547,
          0.01876171413125327,
          null,
          0.8089961609345658,
          0.7311657634689946,
          null,
          0.8089961609345658,
          0.68128520136847,
          null,
          0.8089961609345658,
          0.9532681441921305,
          null,
          0.8089961609345658,
          0.891868301175821,
          null,
          0.8089961609345658,
          0.9011339078096633,
          null,
          0.8089961609345658,
          0.8016111783687677,
          null,
          0.7222846879290787,
          0.9528527425842739,
          null,
          0.7222846879290787,
          0.690016328140396,
          null,
          0.7222846879290787,
          0.5886703168399895,
          null,
          0.01876171413125327,
          0.09186645974288632,
          null,
          0.01876171413125327,
          0.026771817842421997,
          null,
          0.01876171413125327,
          0.1735506267461867,
          null,
          0.01876171413125327,
          0.10321622277398101,
          null,
          0.8016111783687677,
          0.7311657634689946,
          null,
          0.8016111783687677,
          0.68128520136847,
          null,
          0.8016111783687677,
          0.7353428557575755,
          null,
          0.8016111783687677,
          0.9532681441921305,
          null,
          0.8016111783687677,
          0.891868301175821,
          null,
          0.8016111783687677,
          0.9011339078096633,
          null,
          0.43196344222361227,
          0.3996510641743197,
          null,
          0.43196344222361227,
          0.4666482714834408,
          null,
          0.43196344222361227,
          0.5886703168399895,
          null,
          0.9011339078096633,
          0.68128520136847,
          null,
          0.9011339078096633,
          0.9532681441921305,
          null,
          0.9011339078096633,
          0.891868301175821,
          null,
          0.24026772497187532,
          0.3232711412508066,
          null,
          0.24026772497187532,
          0.12631654071213483,
          null,
          0.24026772497187532,
          0.2083567880838434,
          null,
          0.24026772497187532,
          0.21665962402659544,
          null,
          0.24026772497187532,
          0.13022993020357043,
          null,
          0.24026772497187532,
          0.13985272363426526,
          null,
          0.24026772497187532,
          0.362322730884702,
          null,
          0.24026772497187532,
          0.1839028760606296,
          null,
          0.10321622277398101,
          0.09186645974288632,
          null,
          0.10321622277398101,
          0.026771817842421997,
          null,
          0.10321622277398101,
          0.1735506267461867,
          null,
          0.5006237737207431,
          0.6569436279895382,
          null,
          0.5006237737207431,
          0.42704536740474663,
          null,
          0.5006237737207431,
          0.3232711412508066,
          null,
          0.5006237737207431,
          0.5488515965193208,
          null,
          0.5006237737207431,
          0.7353428557575755,
          null,
          0.5006237737207431,
          0.362322730884702,
          null,
          0.1839028760606296,
          0.12631654071213483,
          null,
          0.1839028760606296,
          0.13022993020357043,
          null,
          0.1839028760606296,
          0.13985272363426526,
          null,
          0.5886703168399895,
          0.3996510641743197,
          null,
          0.5886703168399895,
          0.4666482714834408,
          null,
          0.5886703168399895,
          0.690016328140396,
          null,
          0.1735506267461867,
          0.09186645974288632,
          null,
          0.1735506267461867,
          0.3232711412508066,
          null,
          0.1735506267461867,
          0.2083567880838434,
          null,
          0.1735506267461867,
          0.21665962402659544,
          null,
          0.1735506267461867,
          0.026771817842421997,
          null,
          0.1735506267461867,
          0.362322730884702,
          null,
          0.690016328140396,
          0.6569436279895382,
          null,
          0.690016328140396,
          0.4666482714834408,
          null,
          0.362322730884702,
          0.42704536740474663,
          null,
          0.362322730884702,
          0.3232711412508066,
          null,
          0.362322730884702,
          0.5488515965193208,
          null,
          0.362322730884702,
          0.2083567880838434,
          null,
          0.362322730884702,
          0.21665962402659544,
          null,
          0.362322730884702,
          0.13985272363426526,
          null,
          0.13985272363426526,
          0.3232711412508066,
          null,
          0.13985272363426526,
          0.12631654071213483,
          null,
          0.13985272363426526,
          0.2083567880838434,
          null,
          0.13985272363426526,
          0.21665962402659544,
          null,
          0.13985272363426526,
          0.13022993020357043,
          null,
          0.891868301175821,
          0.9532681441921305,
          null,
          0.026771817842421997,
          0.09186645974288632,
          null,
          0.026771817842421997,
          0.2083567880838434,
          null,
          0.7353428557575755,
          0.7311657634689946,
          null,
          0.7353428557575755,
          0.6569436279895382,
          null,
          0.7353428557575755,
          0.8800306496459869,
          null,
          0.9768234503830939,
          0.999395685828547,
          null,
          0.9768234503830939,
          0.9528527425842739,
          null,
          0.9768234503830939,
          0.8800306496459869,
          null,
          0.13022993020357043,
          0.12631654071213483,
          null,
          0.21665962402659544,
          0.42704536740474663,
          null,
          0.21665962402659544,
          0.3232711412508066,
          null,
          0.21665962402659544,
          0.12631654071213483,
          null,
          0.21665962402659544,
          0.2083567880838434,
          null,
          0.2083567880838434,
          0.42704536740474663,
          null,
          0.2083567880838434,
          0.3232711412508066,
          null,
          0.2083567880838434,
          0.12631654071213483,
          null,
          0.12631654071213483,
          0.3232711412508066,
          null,
          0.5488515965193208,
          0.7311657634689946,
          null,
          0.5488515965193208,
          0.68128520136847,
          null,
          0.5488515965193208,
          0.42704536740474663,
          null,
          0.5488515965193208,
          0.3232711412508066,
          null,
          0.8800306496459869,
          0.999395685828547,
          null,
          0.8800306496459869,
          0.6569436279895382,
          null,
          0.8800306496459869,
          0.9528527425842739,
          null,
          0.4666482714834408,
          0.3996510641743197,
          null,
          0.3232711412508066,
          0.42704536740474663,
          null,
          0.9528527425842739,
          0.999395685828547,
          null,
          0.68128520136847,
          0.7311657634689946,
          null
         ]
        },
        {
         "hoverinfo": "text",
         "marker": {
          "color": [
           0,
           0,
           0,
           0,
           0,
           3,
           0,
           0,
           0,
           0,
           0,
           0,
           2,
           0,
           0,
           0,
           2,
           0,
           0,
           0,
           0,
           0,
           0,
           0,
           0,
           0,
           0,
           0,
           0,
           0,
           0,
           0,
           0,
           0,
           1,
           0,
           0,
           2,
           0,
           0
          ],
          "colorbar": {
           "thickness": 15,
           "title": {
            "side": "right",
            "text": "Node Connections"
           },
           "xanchor": "left"
          },
          "colorscale": [
           [
            0,
            "rgb(0, 0, 0)"
           ],
           [
            0.3333333333333333,
            "rgb(230,0,0)"
           ],
           [
            0.6666666666666666,
            "rgb(255,210,0)"
           ],
           [
            1,
            "rgb(255,255,255)"
           ]
          ],
          "line": {
           "width": 2
          },
          "reversescale": true,
          "showscale": false,
          "size": 10
         },
         "mode": "markers",
         "text": [
          "Intersection 0<br>Neighbors: 36, 34, 31, 28, 17",
          "Intersection 1<br>Neighbors: 35, 31, 27, 26, 25, 20, 18, 17, 15, 6",
          "Intersection 2<br>Neighbors: 39, 36, 21, 19, 9, 7, 4",
          "Intersection 3<br>Neighbors: 35, 20, 15, 11, 6",
          "Intersection 4<br>Neighbors: 2, 39, 36, 21, 19, 9, 7",
          "Intersection 5<br>Neighbors: 32, 16, 14",
          "Intersection 6<br>Neighbors: 1, 3, 35, 20, 15, 11",
          "Intersection 7<br>Neighbors: 2, 4, 39, 36, 22, 21, 19, 9",
          "Intersection 8<br>Neighbors: 33, 30, 14",
          "Intersection 9<br>Neighbors: 2, 4, 7, 36, 21, 19",
          "Intersection 10<br>Neighbors: 31, 27, 26, 25, 24, 18, 17, 13",
          "Intersection 11<br>Neighbors: 3, 6, 35, 20, 15",
          "Intersection 12<br>Neighbors: 37, 34, 31, 28, 22, 17",
          "Intersection 13<br>Neighbors: 10, 27, 24, 18",
          "Intersection 14<br>Neighbors: 5, 8, 33, 30, 16",
          "Intersection 15<br>Neighbors: 1, 3, 6, 11, 35, 31, 26, 25, 20, 17",
          "Intersection 16<br>Neighbors: 5, 14, 37, 30",
          "Intersection 17<br>Neighbors: 0, 1, 10, 12, 15, 34, 31, 28, 26, 25, 18",
          "Intersection 18<br>Neighbors: 1, 10, 13, 17, 31, 27, 26, 25, 24",
          "Intersection 19<br>Neighbors: 2, 4, 7, 9, 21",
          "Intersection 20<br>Neighbors: 1, 3, 6, 11, 15, 35, 26",
          "Intersection 21<br>Neighbors: 2, 4, 7, 9, 19",
          "Intersection 22<br>Neighbors: 7, 12, 39, 37, 29",
          "Intersection 23<br>Neighbors: 38, 32, 29",
          "Intersection 24<br>Neighbors: 10, 13, 18, 27",
          "Intersection 25<br>Neighbors: 1, 10, 15, 17, 18, 34, 31, 27, 26",
          "Intersection 26<br>Neighbors: 1, 10, 15, 17, 18, 20, 25, 34, 31, 27",
          "Intersection 27<br>Neighbors: 1, 10, 13, 18, 24, 25, 26, 31",
          "Intersection 28<br>Neighbors: 0, 12, 17, 39, 36, 34, 31",
          "Intersection 29<br>Neighbors: 22, 23, 38, 37, 32",
          "Intersection 30<br>Neighbors: 8, 14, 16, 33",
          "Intersection 31<br>Neighbors: 0, 1, 10, 12, 15, 17, 18, 25, 26, 27, 28, 34",
          "Intersection 32<br>Neighbors: 5, 23, 29, 38",
          "Intersection 33<br>Neighbors: 8, 14, 30",
          "Intersection 34<br>Neighbors: 0, 12, 17, 25, 26, 28, 31",
          "Intersection 35<br>Neighbors: 1, 3, 6, 11, 15, 20",
          "Intersection 36<br>Neighbors: 0, 2, 4, 7, 9, 28, 39",
          "Intersection 37<br>Neighbors: 12, 16, 22, 29",
          "Intersection 38<br>Neighbors: 23, 29, 32",
          "Intersection 39<br>Neighbors: 2, 4, 7, 22, 28, 36"
         ],
         "type": "scatter",
         "x": [
          0.7801603911549438,
          0.5249831588690298,
          0.8085335344099086,
          0.2599134798656856,
          0.7353838928272886,
          0.09088671576431506,
          0.313999018186756,
          0.6824813442515916,
          0.20128789391122526,
          0.8551947714242674,
          0.7581736589784409,
          0.25311953895059136,
          0.4813859169876731,
          0.9112422509614865,
          0.04580558670435442,
          0.4582523173083307,
          0.12939557977525573,
          0.607698913404794,
          0.719569201584275,
          0.8860336256842246,
          0.4238357358399233,
          0.8252497121120052,
          0.47415009287034726,
          0.26253385360950576,
          0.9363713903322148,
          0.6243437191127235,
          0.5572917679006295,
          0.7482655725962591,
          0.6435799740880603,
          0.34509802713919313,
          0.021423673670808885,
          0.640952694324525,
          0.17440205342790494,
          0.1332965908314021,
          0.583993110207876,
          0.3073865727705063,
          0.740625863119245,
          0.3345284735051981,
          0.17972981733780147,
          0.6315322816286787
         ],
         "y": [
          0.49474860768712914,
          0.14953665513987202,
          0.7696330846542071,
          0.14485659826020547,
          0.8089961609345658,
          0.7222846879290787,
          0.01876171413125327,
          0.8016111783687677,
          0.43196344222361227,
          0.9011339078096633,
          0.24026772497187532,
          0.10321622277398101,
          0.5006237737207431,
          0.1839028760606296,
          0.5886703168399895,
          0.1735506267461867,
          0.690016328140396,
          0.362322730884702,
          0.13985272363426526,
          0.891868301175821,
          0.026771817842421997,
          0.9532681441921305,
          0.7353428557575755,
          0.9768234503830939,
          0.13022993020357043,
          0.21665962402659544,
          0.2083567880838434,
          0.12631654071213483,
          0.5488515965193208,
          0.8800306496459869,
          0.4666482714834408,
          0.3232711412508066,
          0.9528527425842739,
          0.3996510641743197,
          0.42704536740474663,
          0.09186645974288632,
          0.68128520136847,
          0.6569436279895382,
          0.999395685828547,
          0.7311657634689946
         ]
        }
       ],
       "layout": {
        "autosize": true,
        "hovermode": "closest",
        "margin": {
         "b": 20,
         "l": 5,
         "r": 5,
         "t": 40
        },
        "showlegend": false,
        "template": {
         "data": {
          "bar": [
           {
            "error_x": {
             "color": "#2a3f5f"
            },
            "error_y": {
             "color": "#2a3f5f"
            },
            "marker": {
             "line": {
              "color": "#E5ECF6",
              "width": 0.5
             },
             "pattern": {
              "fillmode": "overlay",
              "size": 10,
              "solidity": 0.2
             }
            },
            "type": "bar"
           }
          ],
          "barpolar": [
           {
            "marker": {
             "line": {
              "color": "#E5ECF6",
              "width": 0.5
             },
             "pattern": {
              "fillmode": "overlay",
              "size": 10,
              "solidity": 0.2
             }
            },
            "type": "barpolar"
           }
          ],
          "carpet": [
           {
            "aaxis": {
             "endlinecolor": "#2a3f5f",
             "gridcolor": "white",
             "linecolor": "white",
             "minorgridcolor": "white",
             "startlinecolor": "#2a3f5f"
            },
            "baxis": {
             "endlinecolor": "#2a3f5f",
             "gridcolor": "white",
             "linecolor": "white",
             "minorgridcolor": "white",
             "startlinecolor": "#2a3f5f"
            },
            "type": "carpet"
           }
          ],
          "choropleth": [
           {
            "colorbar": {
             "outlinewidth": 0,
             "ticks": ""
            },
            "type": "choropleth"
           }
          ],
          "contour": [
           {
            "colorbar": {
             "outlinewidth": 0,
             "ticks": ""
            },
            "colorscale": [
             [
              0,
              "#0d0887"
             ],
             [
              0.1111111111111111,
              "#46039f"
             ],
             [
              0.2222222222222222,
              "#7201a8"
             ],
             [
              0.3333333333333333,
              "#9c179e"
             ],
             [
              0.4444444444444444,
              "#bd3786"
             ],
             [
              0.5555555555555556,
              "#d8576b"
             ],
             [
              0.6666666666666666,
              "#ed7953"
             ],
             [
              0.7777777777777778,
              "#fb9f3a"
             ],
             [
              0.8888888888888888,
              "#fdca26"
             ],
             [
              1,
              "#f0f921"
             ]
            ],
            "type": "contour"
           }
          ],
          "contourcarpet": [
           {
            "colorbar": {
             "outlinewidth": 0,
             "ticks": ""
            },
            "type": "contourcarpet"
           }
          ],
          "heatmap": [
           {
            "colorbar": {
             "outlinewidth": 0,
             "ticks": ""
            },
            "colorscale": [
             [
              0,
              "#0d0887"
             ],
             [
              0.1111111111111111,
              "#46039f"
             ],
             [
              0.2222222222222222,
              "#7201a8"
             ],
             [
              0.3333333333333333,
              "#9c179e"
             ],
             [
              0.4444444444444444,
              "#bd3786"
             ],
             [
              0.5555555555555556,
              "#d8576b"
             ],
             [
              0.6666666666666666,
              "#ed7953"
             ],
             [
              0.7777777777777778,
              "#fb9f3a"
             ],
             [
              0.8888888888888888,
              "#fdca26"
             ],
             [
              1,
              "#f0f921"
             ]
            ],
            "type": "heatmap"
           }
          ],
          "heatmapgl": [
           {
            "colorbar": {
             "outlinewidth": 0,
             "ticks": ""
            },
            "colorscale": [
             [
              0,
              "#0d0887"
             ],
             [
              0.1111111111111111,
              "#46039f"
             ],
             [
              0.2222222222222222,
              "#7201a8"
             ],
             [
              0.3333333333333333,
              "#9c179e"
             ],
             [
              0.4444444444444444,
              "#bd3786"
             ],
             [
              0.5555555555555556,
              "#d8576b"
             ],
             [
              0.6666666666666666,
              "#ed7953"
             ],
             [
              0.7777777777777778,
              "#fb9f3a"
             ],
             [
              0.8888888888888888,
              "#fdca26"
             ],
             [
              1,
              "#f0f921"
             ]
            ],
            "type": "heatmapgl"
           }
          ],
          "histogram": [
           {
            "marker": {
             "pattern": {
              "fillmode": "overlay",
              "size": 10,
              "solidity": 0.2
             }
            },
            "type": "histogram"
           }
          ],
          "histogram2d": [
           {
            "colorbar": {
             "outlinewidth": 0,
             "ticks": ""
            },
            "colorscale": [
             [
              0,
              "#0d0887"
             ],
             [
              0.1111111111111111,
              "#46039f"
             ],
             [
              0.2222222222222222,
              "#7201a8"
             ],
             [
              0.3333333333333333,
              "#9c179e"
             ],
             [
              0.4444444444444444,
              "#bd3786"
             ],
             [
              0.5555555555555556,
              "#d8576b"
             ],
             [
              0.6666666666666666,
              "#ed7953"
             ],
             [
              0.7777777777777778,
              "#fb9f3a"
             ],
             [
              0.8888888888888888,
              "#fdca26"
             ],
             [
              1,
              "#f0f921"
             ]
            ],
            "type": "histogram2d"
           }
          ],
          "histogram2dcontour": [
           {
            "colorbar": {
             "outlinewidth": 0,
             "ticks": ""
            },
            "colorscale": [
             [
              0,
              "#0d0887"
             ],
             [
              0.1111111111111111,
              "#46039f"
             ],
             [
              0.2222222222222222,
              "#7201a8"
             ],
             [
              0.3333333333333333,
              "#9c179e"
             ],
             [
              0.4444444444444444,
              "#bd3786"
             ],
             [
              0.5555555555555556,
              "#d8576b"
             ],
             [
              0.6666666666666666,
              "#ed7953"
             ],
             [
              0.7777777777777778,
              "#fb9f3a"
             ],
             [
              0.8888888888888888,
              "#fdca26"
             ],
             [
              1,
              "#f0f921"
             ]
            ],
            "type": "histogram2dcontour"
           }
          ],
          "mesh3d": [
           {
            "colorbar": {
             "outlinewidth": 0,
             "ticks": ""
            },
            "type": "mesh3d"
           }
          ],
          "parcoords": [
           {
            "line": {
             "colorbar": {
              "outlinewidth": 0,
              "ticks": ""
             }
            },
            "type": "parcoords"
           }
          ],
          "pie": [
           {
            "automargin": true,
            "type": "pie"
           }
          ],
          "scatter": [
           {
            "fillpattern": {
             "fillmode": "overlay",
             "size": 10,
             "solidity": 0.2
            },
            "type": "scatter"
           }
          ],
          "scatter3d": [
           {
            "line": {
             "colorbar": {
              "outlinewidth": 0,
              "ticks": ""
             }
            },
            "marker": {
             "colorbar": {
              "outlinewidth": 0,
              "ticks": ""
             }
            },
            "type": "scatter3d"
           }
          ],
          "scattercarpet": [
           {
            "marker": {
             "colorbar": {
              "outlinewidth": 0,
              "ticks": ""
             }
            },
            "type": "scattercarpet"
           }
          ],
          "scattergeo": [
           {
            "marker": {
             "colorbar": {
              "outlinewidth": 0,
              "ticks": ""
             }
            },
            "type": "scattergeo"
           }
          ],
          "scattergl": [
           {
            "marker": {
             "colorbar": {
              "outlinewidth": 0,
              "ticks": ""
             }
            },
            "type": "scattergl"
           }
          ],
          "scattermapbox": [
           {
            "marker": {
             "colorbar": {
              "outlinewidth": 0,
              "ticks": ""
             }
            },
            "type": "scattermapbox"
           }
          ],
          "scatterpolar": [
           {
            "marker": {
             "colorbar": {
              "outlinewidth": 0,
              "ticks": ""
             }
            },
            "type": "scatterpolar"
           }
          ],
          "scatterpolargl": [
           {
            "marker": {
             "colorbar": {
              "outlinewidth": 0,
              "ticks": ""
             }
            },
            "type": "scatterpolargl"
           }
          ],
          "scatterternary": [
           {
            "marker": {
             "colorbar": {
              "outlinewidth": 0,
              "ticks": ""
             }
            },
            "type": "scatterternary"
           }
          ],
          "surface": [
           {
            "colorbar": {
             "outlinewidth": 0,
             "ticks": ""
            },
            "colorscale": [
             [
              0,
              "#0d0887"
             ],
             [
              0.1111111111111111,
              "#46039f"
             ],
             [
              0.2222222222222222,
              "#7201a8"
             ],
             [
              0.3333333333333333,
              "#9c179e"
             ],
             [
              0.4444444444444444,
              "#bd3786"
             ],
             [
              0.5555555555555556,
              "#d8576b"
             ],
             [
              0.6666666666666666,
              "#ed7953"
             ],
             [
              0.7777777777777778,
              "#fb9f3a"
             ],
             [
              0.8888888888888888,
              "#fdca26"
             ],
             [
              1,
              "#f0f921"
             ]
            ],
            "type": "surface"
           }
          ],
          "table": [
           {
            "cells": {
             "fill": {
              "color": "#EBF0F8"
             },
             "line": {
              "color": "white"
             }
            },
            "header": {
             "fill": {
              "color": "#C8D4E3"
             },
             "line": {
              "color": "white"
             }
            },
            "type": "table"
           }
          ]
         },
         "layout": {
          "annotationdefaults": {
           "arrowcolor": "#2a3f5f",
           "arrowhead": 0,
           "arrowwidth": 1
          },
          "autotypenumbers": "strict",
          "coloraxis": {
           "colorbar": {
            "outlinewidth": 0,
            "ticks": ""
           }
          },
          "colorscale": {
           "diverging": [
            [
             0,
             "#8e0152"
            ],
            [
             0.1,
             "#c51b7d"
            ],
            [
             0.2,
             "#de77ae"
            ],
            [
             0.3,
             "#f1b6da"
            ],
            [
             0.4,
             "#fde0ef"
            ],
            [
             0.5,
             "#f7f7f7"
            ],
            [
             0.6,
             "#e6f5d0"
            ],
            [
             0.7,
             "#b8e186"
            ],
            [
             0.8,
             "#7fbc41"
            ],
            [
             0.9,
             "#4d9221"
            ],
            [
             1,
             "#276419"
            ]
           ],
           "sequential": [
            [
             0,
             "#0d0887"
            ],
            [
             0.1111111111111111,
             "#46039f"
            ],
            [
             0.2222222222222222,
             "#7201a8"
            ],
            [
             0.3333333333333333,
             "#9c179e"
            ],
            [
             0.4444444444444444,
             "#bd3786"
            ],
            [
             0.5555555555555556,
             "#d8576b"
            ],
            [
             0.6666666666666666,
             "#ed7953"
            ],
            [
             0.7777777777777778,
             "#fb9f3a"
            ],
            [
             0.8888888888888888,
             "#fdca26"
            ],
            [
             1,
             "#f0f921"
            ]
           ],
           "sequentialminus": [
            [
             0,
             "#0d0887"
            ],
            [
             0.1111111111111111,
             "#46039f"
            ],
            [
             0.2222222222222222,
             "#7201a8"
            ],
            [
             0.3333333333333333,
             "#9c179e"
            ],
            [
             0.4444444444444444,
             "#bd3786"
            ],
            [
             0.5555555555555556,
             "#d8576b"
            ],
            [
             0.6666666666666666,
             "#ed7953"
            ],
            [
             0.7777777777777778,
             "#fb9f3a"
            ],
            [
             0.8888888888888888,
             "#fdca26"
            ],
            [
             1,
             "#f0f921"
            ]
           ]
          },
          "colorway": [
           "#636efa",
           "#EF553B",
           "#00cc96",
           "#ab63fa",
           "#FFA15A",
           "#19d3f3",
           "#FF6692",
           "#B6E880",
           "#FF97FF",
           "#FECB52"
          ],
          "font": {
           "color": "#2a3f5f"
          },
          "geo": {
           "bgcolor": "white",
           "lakecolor": "white",
           "landcolor": "#E5ECF6",
           "showlakes": true,
           "showland": true,
           "subunitcolor": "white"
          },
          "hoverlabel": {
           "align": "left"
          },
          "hovermode": "closest",
          "mapbox": {
           "style": "light"
          },
          "paper_bgcolor": "white",
          "plot_bgcolor": "#E5ECF6",
          "polar": {
           "angularaxis": {
            "gridcolor": "white",
            "linecolor": "white",
            "ticks": ""
           },
           "bgcolor": "#E5ECF6",
           "radialaxis": {
            "gridcolor": "white",
            "linecolor": "white",
            "ticks": ""
           }
          },
          "scene": {
           "xaxis": {
            "backgroundcolor": "#E5ECF6",
            "gridcolor": "white",
            "gridwidth": 2,
            "linecolor": "white",
            "showbackground": true,
            "ticks": "",
            "zerolinecolor": "white"
           },
           "yaxis": {
            "backgroundcolor": "#E5ECF6",
            "gridcolor": "white",
            "gridwidth": 2,
            "linecolor": "white",
            "showbackground": true,
            "ticks": "",
            "zerolinecolor": "white"
           },
           "zaxis": {
            "backgroundcolor": "#E5ECF6",
            "gridcolor": "white",
            "gridwidth": 2,
            "linecolor": "white",
            "showbackground": true,
            "ticks": "",
            "zerolinecolor": "white"
           }
          },
          "shapedefaults": {
           "line": {
            "color": "#2a3f5f"
           }
          },
          "ternary": {
           "aaxis": {
            "gridcolor": "white",
            "linecolor": "white",
            "ticks": ""
           },
           "baxis": {
            "gridcolor": "white",
            "linecolor": "white",
            "ticks": ""
           },
           "bgcolor": "#E5ECF6",
           "caxis": {
            "gridcolor": "white",
            "linecolor": "white",
            "ticks": ""
           }
          },
          "title": {
           "x": 0.05
          },
          "xaxis": {
           "automargin": true,
           "gridcolor": "white",
           "linecolor": "white",
           "ticks": "",
           "title": {
            "standoff": 15
           },
           "zerolinecolor": "white",
           "zerolinewidth": 2
          },
          "yaxis": {
           "automargin": true,
           "gridcolor": "white",
           "linecolor": "white",
           "ticks": "",
           "title": {
            "standoff": 15
           },
           "zerolinecolor": "white",
           "zerolinewidth": 2
          }
         }
        },
        "title": {
         "font": {
          "size": 16
         },
         "text": "<br>Network graph made with Python"
        },
        "xaxis": {
         "autorange": true,
         "range": [
          -0.03585928228752938,
          0.9936543462905532
         ],
         "showgrid": false,
         "showticklabels": false,
         "type": "linear",
         "zeroline": false
        },
        "yaxis": {
         "autorange": true,
         "range": [
          -0.06216439032920301,
          1.0803217902890032
         ],
         "showgrid": false,
         "showticklabels": false,
         "type": "linear",
         "zeroline": false
        }
       }
      },
      "image/png": "[encoded data removed]",
      "text/html": [
       "<div>                            <div id=\"00856ec4-9304-4d24-8c00-c136654422ae\" class=\"plotly-graph-div\" style=\"height:525px; width:100%;\"></div>            <script type=\"text/javascript\">                require([\"plotly\"], function(Plotly) {                    window.PLOTLYENV=window.PLOTLYENV || {};                                    if (document.getElementById(\"00856ec4-9304-4d24-8c00-c136654422ae\")) {                    Plotly.newPlot(                        \"00856ec4-9304-4d24-8c00-c136654422ae\",                        [{\"hoverinfo\":\"none\",\"line\":{\"color\":\"#888\",\"width\":0.5},\"mode\":\"lines\",\"x\":[0.7801603911549438,0.740625863119245,null,0.7801603911549438,0.583993110207876,null,0.7801603911549438,0.640952694324525,null,0.7801603911549438,0.6435799740880603,null,0.7801603911549438,0.607698913404794,null,0.5249831588690298,0.3073865727705063,null,0.5249831588690298,0.640952694324525,null,0.5249831588690298,0.7482655725962591,null,0.5249831588690298,0.5572917679006295,null,0.5249831588690298,0.6243437191127235,null,0.5249831588690298,0.4238357358399233,null,0.5249831588690298,0.719569201584275,null,0.5249831588690298,0.607698913404794,null,0.5249831588690298,0.4582523173083307,null,0.5249831588690298,0.313999018186756,null,0.8085335344099086,0.6315322816286787,null,0.8085335344099086,0.740625863119245,null,0.8085335344099086,0.8252497121120052,null,0.8085335344099086,0.8860336256842246,null,0.8085335344099086,0.8551947714242674,null,0.8085335344099086,0.6824813442515916,null,0.8085335344099086,0.7353838928272886,null,0.2599134798656856,0.3073865727705063,null,0.2599134798656856,0.4238357358399233,null,0.2599134798656856,0.4582523173083307,null,0.2599134798656856,0.25311953895059136,null,0.2599134798656856,0.313999018186756,null,0.7353838928272886,0.6315322816286787,null,0.7353838928272886,0.740625863119245,null,0.7353838928272886,0.8252497121120052,null,0.7353838928272886,0.8860336256842246,null,0.7353838928272886,0.8551947714242674,null,0.7353838928272886,0.6824813442515916,null,0.09088671576431506,0.17440205342790494,null,0.09088671576431506,0.12939557977525573,null,0.09088671576431506,0.04580558670435442,null,0.313999018186756,0.3073865727705063,null,0.313999018186756,0.4238357358399233,null,0.313999018186756,0.4582523173083307,null,0.313999018186756,0.25311953895059136,null,0.6824813442515916,0.6315322816286787,null,0.6824813442515916,0.740625863119245,null,0.6824813442515916,0.47415009287034726,null,0.6824813442515916,0.8252497121120052,null,0.6824813442515916,0.8860336256842246,null,0.6824813442515916,0.8551947714242674,null,0.20128789391122526,0.1332965908314021,null,0.20128789391122526,0.021423673670808885,null,0.20128789391122526,0.04580558670435442,null,0.8551947714242674,0.740625863119245,null,0.8551947714242674,0.8252497121120052,null,0.8551947714242674,0.8860336256842246,null,0.7581736589784409,0.640952694324525,null,0.7581736589784409,0.7482655725962591,null,0.7581736589784409,0.5572917679006295,null,0.7581736589784409,0.6243437191127235,null,0.7581736589784409,0.9363713903322148,null,0.7581736589784409,0.719569201584275,null,0.7581736589784409,0.607698913404794,null,0.7581736589784409,0.9112422509614865,null,0.25311953895059136,0.3073865727705063,null,0.25311953895059136,0.4238357358399233,null,0.25311953895059136,0.4582523173083307,null,0.4813859169876731,0.3345284735051981,null,0.4813859169876731,0.583993110207876,null,0.4813859169876731,0.640952694324525,null,0.4813859169876731,0.6435799740880603,null,0.4813859169876731,0.47415009287034726,null,0.4813859169876731,0.607698913404794,null,0.9112422509614865,0.7482655725962591,null,0.9112422509614865,0.9363713903322148,null,0.9112422509614865,0.719569201584275,null,0.04580558670435442,0.1332965908314021,null,0.04580558670435442,0.021423673670808885,null,0.04580558670435442,0.12939557977525573,null,0.4582523173083307,0.3073865727705063,null,0.4582523173083307,0.640952694324525,null,0.4582523173083307,0.5572917679006295,null,0.4582523173083307,0.6243437191127235,null,0.4582523173083307,0.4238357358399233,null,0.4582523173083307,0.607698913404794,null,0.12939557977525573,0.3345284735051981,null,0.12939557977525573,0.021423673670808885,null,0.607698913404794,0.583993110207876,null,0.607698913404794,0.640952694324525,null,0.607698913404794,0.6435799740880603,null,0.607698913404794,0.5572917679006295,null,0.607698913404794,0.6243437191127235,null,0.607698913404794,0.719569201584275,null,0.719569201584275,0.640952694324525,null,0.719569201584275,0.7482655725962591,null,0.719569201584275,0.5572917679006295,null,0.719569201584275,0.6243437191127235,null,0.719569201584275,0.9363713903322148,null,0.8860336256842246,0.8252497121120052,null,0.4238357358399233,0.3073865727705063,null,0.4238357358399233,0.5572917679006295,null,0.47415009287034726,0.6315322816286787,null,0.47415009287034726,0.3345284735051981,null,0.47415009287034726,0.34509802713919313,null,0.26253385360950576,0.17972981733780147,null,0.26253385360950576,0.17440205342790494,null,0.26253385360950576,0.34509802713919313,null,0.9363713903322148,0.7482655725962591,null,0.6243437191127235,0.583993110207876,null,0.6243437191127235,0.640952694324525,null,0.6243437191127235,0.7482655725962591,null,0.6243437191127235,0.5572917679006295,null,0.5572917679006295,0.583993110207876,null,0.5572917679006295,0.640952694324525,null,0.5572917679006295,0.7482655725962591,null,0.7482655725962591,0.640952694324525,null,0.6435799740880603,0.6315322816286787,null,0.6435799740880603,0.740625863119245,null,0.6435799740880603,0.583993110207876,null,0.6435799740880603,0.640952694324525,null,0.34509802713919313,0.17972981733780147,null,0.34509802713919313,0.3345284735051981,null,0.34509802713919313,0.17440205342790494,null,0.021423673670808885,0.1332965908314021,null,0.640952694324525,0.583993110207876,null,0.17440205342790494,0.17972981733780147,null,0.740625863119245,0.6315322816286787,null],\"y\":[0.49474860768712914,0.68128520136847,null,0.49474860768712914,0.42704536740474663,null,0.49474860768712914,0.3232711412508066,null,0.49474860768712914,0.5488515965193208,null,0.49474860768712914,0.362322730884702,null,0.14953665513987202,0.09186645974288632,null,0.14953665513987202,0.3232711412508066,null,0.14953665513987202,0.12631654071213483,null,0.14953665513987202,0.2083567880838434,null,0.14953665513987202,0.21665962402659544,null,0.14953665513987202,0.026771817842421997,null,0.14953665513987202,0.13985272363426526,null,0.14953665513987202,0.362322730884702,null,0.14953665513987202,0.1735506267461867,null,0.14953665513987202,0.01876171413125327,null,0.7696330846542071,0.7311657634689946,null,0.7696330846542071,0.68128520136847,null,0.7696330846542071,0.9532681441921305,null,0.7696330846542071,0.891868301175821,null,0.7696330846542071,0.9011339078096633,null,0.7696330846542071,0.8016111783687677,null,0.7696330846542071,0.8089961609345658,null,0.14485659826020547,0.09186645974288632,null,0.14485659826020547,0.026771817842421997,null,0.14485659826020547,0.1735506267461867,null,0.14485659826020547,0.10321622277398101,null,0.14485659826020547,0.01876171413125327,null,0.8089961609345658,0.7311657634689946,null,0.8089961609345658,0.68128520136847,null,0.8089961609345658,0.9532681441921305,null,0.8089961609345658,0.891868301175821,null,0.8089961609345658,0.9011339078096633,null,0.8089961609345658,0.8016111783687677,null,0.7222846879290787,0.9528527425842739,null,0.7222846879290787,0.690016328140396,null,0.7222846879290787,0.5886703168399895,null,0.01876171413125327,0.09186645974288632,null,0.01876171413125327,0.026771817842421997,null,0.01876171413125327,0.1735506267461867,null,0.01876171413125327,0.10321622277398101,null,0.8016111783687677,0.7311657634689946,null,0.8016111783687677,0.68128520136847,null,0.8016111783687677,0.7353428557575755,null,0.8016111783687677,0.9532681441921305,null,0.8016111783687677,0.891868301175821,null,0.8016111783687677,0.9011339078096633,null,0.43196344222361227,0.3996510641743197,null,0.43196344222361227,0.4666482714834408,null,0.43196344222361227,0.5886703168399895,null,0.9011339078096633,0.68128520136847,null,0.9011339078096633,0.9532681441921305,null,0.9011339078096633,0.891868301175821,null,0.24026772497187532,0.3232711412508066,null,0.24026772497187532,0.12631654071213483,null,0.24026772497187532,0.2083567880838434,null,0.24026772497187532,0.21665962402659544,null,0.24026772497187532,0.13022993020357043,null,0.24026772497187532,0.13985272363426526,null,0.24026772497187532,0.362322730884702,null,0.24026772497187532,0.1839028760606296,null,0.10321622277398101,0.09186645974288632,null,0.10321622277398101,0.026771817842421997,null,0.10321622277398101,0.1735506267461867,null,0.5006237737207431,0.6569436279895382,null,0.5006237737207431,0.42704536740474663,null,0.5006237737207431,0.3232711412508066,null,0.5006237737207431,0.5488515965193208,null,0.5006237737207431,0.7353428557575755,null,0.5006237737207431,0.362322730884702,null,0.1839028760606296,0.12631654071213483,null,0.1839028760606296,0.13022993020357043,null,0.1839028760606296,0.13985272363426526,null,0.5886703168399895,0.3996510641743197,null,0.5886703168399895,0.4666482714834408,null,0.5886703168399895,0.690016328140396,null,0.1735506267461867,0.09186645974288632,null,0.1735506267461867,0.3232711412508066,null,0.1735506267461867,0.2083567880838434,null,0.1735506267461867,0.21665962402659544,null,0.1735506267461867,0.026771817842421997,null,0.1735506267461867,0.362322730884702,null,0.690016328140396,0.6569436279895382,null,0.690016328140396,0.4666482714834408,null,0.362322730884702,0.42704536740474663,null,0.362322730884702,0.3232711412508066,null,0.362322730884702,0.5488515965193208,null,0.362322730884702,0.2083567880838434,null,0.362322730884702,0.21665962402659544,null,0.362322730884702,0.13985272363426526,null,0.13985272363426526,0.3232711412508066,null,0.13985272363426526,0.12631654071213483,null,0.13985272363426526,0.2083567880838434,null,0.13985272363426526,0.21665962402659544,null,0.13985272363426526,0.13022993020357043,null,0.891868301175821,0.9532681441921305,null,0.026771817842421997,0.09186645974288632,null,0.026771817842421997,0.2083567880838434,null,0.7353428557575755,0.7311657634689946,null,0.7353428557575755,0.6569436279895382,null,0.7353428557575755,0.8800306496459869,null,0.9768234503830939,0.999395685828547,null,0.9768234503830939,0.9528527425842739,null,0.9768234503830939,0.8800306496459869,null,0.13022993020357043,0.12631654071213483,null,0.21665962402659544,0.42704536740474663,null,0.21665962402659544,0.3232711412508066,null,0.21665962402659544,0.12631654071213483,null,0.21665962402659544,0.2083567880838434,null,0.2083567880838434,0.42704536740474663,null,0.2083567880838434,0.3232711412508066,null,0.2083567880838434,0.12631654071213483,null,0.12631654071213483,0.3232711412508066,null,0.5488515965193208,0.7311657634689946,null,0.5488515965193208,0.68128520136847,null,0.5488515965193208,0.42704536740474663,null,0.5488515965193208,0.3232711412508066,null,0.8800306496459869,0.999395685828547,null,0.8800306496459869,0.6569436279895382,null,0.8800306496459869,0.9528527425842739,null,0.4666482714834408,0.3996510641743197,null,0.3232711412508066,0.42704536740474663,null,0.9528527425842739,0.999395685828547,null,0.68128520136847,0.7311657634689946,null],\"type\":\"scatter\"},{\"hoverinfo\":\"text\",\"marker\":{\"color\":[0,0,0,0,0,3,0,0,0,0,0,0,2,0,0,0,2,0,0,0,0,0,0,0,0,0,0,0,0,0,0,0,0,0,1,0,0,2,0,0],\"colorbar\":{\"thickness\":15,\"title\":{\"side\":\"right\",\"text\":\"Node Connections\"},\"xanchor\":\"left\"},\"colorscale\":[[0.0,\"rgb(0,0,0)\"],[0.3333333333333333,\"rgb(230,0,0)\"],[0.6666666666666666,\"rgb(255,210,0)\"],[1.0,\"rgb(255,255,255)\"]],\"line\":{\"width\":2},\"reversescale\":true,\"showscale\":false,\"size\":10},\"mode\":\"markers\",\"text\":[\"Intersection 0\\u003cbr\\u003eNeighbors: 36, 34, 31, 28, 17\",\"Intersection 1\\u003cbr\\u003eNeighbors: 35, 31, 27, 26, 25, 20, 18, 17, 15, 6\",\"Intersection 2\\u003cbr\\u003eNeighbors: 39, 36, 21, 19, 9, 7, 4\",\"Intersection 3\\u003cbr\\u003eNeighbors: 35, 20, 15, 11, 6\",\"Intersection 4\\u003cbr\\u003eNeighbors: 2, 39, 36, 21, 19, 9, 7\",\"Intersection 5\\u003cbr\\u003eNeighbors: 32, 16, 14\",\"Intersection 6\\u003cbr\\u003eNeighbors: 1, 3, 35, 20, 15, 11\",\"Intersection 7\\u003cbr\\u003eNeighbors: 2, 4, 39, 36, 22, 21, 19, 9\",\"Intersection 8\\u003cbr\\u003eNeighbors: 33, 30, 14\",\"Intersection 9\\u003cbr\\u003eNeighbors: 2, 4, 7, 36, 21, 19\",\"Intersection 10\\u003cbr\\u003eNeighbors: 31, 27, 26, 25, 24, 18, 17, 13\",\"Intersection 11\\u003cbr\\u003eNeighbors: 3, 6, 35, 20, 15\",\"Intersection 12\\u003cbr\\u003eNeighbors: 37, 34, 31, 28, 22, 17\",\"Intersection 13\\u003cbr\\u003eNeighbors: 10, 27, 24, 18\",\"Intersection 14\\u003cbr\\u003eNeighbors: 5, 8, 33, 30, 16\",\"Intersection 15\\u003cbr\\u003eNeighbors: 1, 3, 6, 11, 35, 31, 26, 25, 20, 17\",\"Intersection 16\\u003cbr\\u003eNeighbors: 5, 14, 37, 30\",\"Intersection 17\\u003cbr\\u003eNeighbors: 0, 1, 10, 12, 15, 34, 31, 28, 26, 25, 18\",\"Intersection 18\\u003cbr\\u003eNeighbors: 1, 10, 13, 17, 31, 27, 26, 25, 24\",\"Intersection 19\\u003cbr\\u003eNeighbors: 2, 4, 7, 9, 21\",\"Intersection 20\\u003cbr\\u003eNeighbors: 1, 3, 6, 11, 15, 35, 26\",\"Intersection 21\\u003cbr\\u003eNeighbors: 2, 4, 7, 9, 19\",\"Intersection 22\\u003cbr\\u003eNeighbors: 7, 12, 39, 37, 29\",\"Intersection 23\\u003cbr\\u003eNeighbors: 38, 32, 29\",\"Intersection 24\\u003cbr\\u003eNeighbors: 10, 13, 18, 27\",\"Intersection 25\\u003cbr\\u003eNeighbors: 1, 10, 15, 17, 18, 34, 31, 27, 26\",\"Intersection 26\\u003cbr\\u003eNeighbors: 1, 10, 15, 17, 18, 20, 25, 34, 31, 27\",\"Intersection 27\\u003cbr\\u003eNeighbors: 1, 10, 13, 18, 24, 25, 26, 31\",\"Intersection 28\\u003cbr\\u003eNeighbors: 0, 12, 17, 39, 36, 34, 31\",\"Intersection 29\\u003cbr\\u003eNeighbors: 22, 23, 38, 37, 32\",\"Intersection 30\\u003cbr\\u003eNeighbors: 8, 14, 16, 33\",\"Intersection 31\\u003cbr\\u003eNeighbors: 0, 1, 10, 12, 15, 17, 18, 25, 26, 27, 28, 34\",\"Intersection 32\\u003cbr\\u003eNeighbors: 5, 23, 29, 38\",\"Intersection 33\\u003cbr\\u003eNeighbors: 8, 14, 30\",\"Intersection 34\\u003cbr\\u003eNeighbors: 0, 12, 17, 25, 26, 28, 31\",\"Intersection 35\\u003cbr\\u003eNeighbors: 1, 3, 6, 11, 15, 20\",\"Intersection 36\\u003cbr\\u003eNeighbors: 0, 2, 4, 7, 9, 28, 39\",\"Intersection 37\\u003cbr\\u003eNeighbors: 12, 16, 22, 29\",\"Intersection 38\\u003cbr\\u003eNeighbors: 23, 29, 32\",\"Intersection 39\\u003cbr\\u003eNeighbors: 2, 4, 7, 22, 28, 36\"],\"x\":[0.7801603911549438,0.5249831588690298,0.8085335344099086,0.2599134798656856,0.7353838928272886,0.09088671576431506,0.313999018186756,0.6824813442515916,0.20128789391122526,0.8551947714242674,0.7581736589784409,0.25311953895059136,0.4813859169876731,0.9112422509614865,0.04580558670435442,0.4582523173083307,0.12939557977525573,0.607698913404794,0.719569201584275,0.8860336256842246,0.4238357358399233,0.8252497121120052,0.47415009287034726,0.26253385360950576,0.9363713903322148,0.6243437191127235,0.5572917679006295,0.7482655725962591,0.6435799740880603,0.34509802713919313,0.021423673670808885,0.640952694324525,0.17440205342790494,0.1332965908314021,0.583993110207876,0.3073865727705063,0.740625863119245,0.3345284735051981,0.17972981733780147,0.6315322816286787],\"y\":[0.49474860768712914,0.14953665513987202,0.7696330846542071,0.14485659826020547,0.8089961609345658,0.7222846879290787,0.01876171413125327,0.8016111783687677,0.43196344222361227,0.9011339078096633,0.24026772497187532,0.10321622277398101,0.5006237737207431,0.1839028760606296,0.5886703168399895,0.1735506267461867,0.690016328140396,0.362322730884702,0.13985272363426526,0.891868301175821,0.026771817842421997,0.9532681441921305,0.7353428557575755,0.9768234503830939,0.13022993020357043,0.21665962402659544,0.2083567880838434,0.12631654071213483,0.5488515965193208,0.8800306496459869,0.4666482714834408,0.3232711412508066,0.9528527425842739,0.3996510641743197,0.42704536740474663,0.09186645974288632,0.68128520136847,0.6569436279895382,0.999395685828547,0.7311657634689946],\"type\":\"scatter\"}],                        {\"hovermode\":\"closest\",\"margin\":{\"b\":20,\"l\":5,\"r\":5,\"t\":40},\"showlegend\":false,\"template\":{\"data\":{\"barpolar\":[{\"marker\":{\"line\":{\"color\":\"#E5ECF6\",\"width\":0.5},\"pattern\":{\"fillmode\":\"overlay\",\"size\":10,\"solidity\":0.2}},\"type\":\"barpolar\"}],\"bar\":[{\"error_x\":{\"color\":\"#2a3f5f\"},\"error_y\":{\"color\":\"#2a3f5f\"},\"marker\":{\"line\":{\"color\":\"#E5ECF6\",\"width\":0.5},\"pattern\":{\"fillmode\":\"overlay\",\"size\":10,\"solidity\":0.2}},\"type\":\"bar\"}],\"carpet\":[{\"aaxis\":{\"endlinecolor\":\"#2a3f5f\",\"gridcolor\":\"white\",\"linecolor\":\"white\",\"minorgridcolor\":\"white\",\"startlinecolor\":\"#2a3f5f\"},\"baxis\":{\"endlinecolor\":\"#2a3f5f\",\"gridcolor\":\"white\",\"linecolor\":\"white\",\"minorgridcolor\":\"white\",\"startlinecolor\":\"#2a3f5f\"},\"type\":\"carpet\"}],\"choropleth\":[{\"colorbar\":{\"outlinewidth\":0,\"ticks\":\"\"},\"type\":\"choropleth\"}],\"contourcarpet\":[{\"colorbar\":{\"outlinewidth\":0,\"ticks\":\"\"},\"type\":\"contourcarpet\"}],\"contour\":[{\"colorbar\":{\"outlinewidth\":0,\"ticks\":\"\"},\"colorscale\":[[0.0,\"#0d0887\"],[0.1111111111111111,\"#46039f\"],[0.2222222222222222,\"#7201a8\"],[0.3333333333333333,\"#9c179e\"],[0.4444444444444444,\"#bd3786\"],[0.5555555555555556,\"#d8576b\"],[0.6666666666666666,\"#ed7953\"],[0.7777777777777778,\"#fb9f3a\"],[0.8888888888888888,\"#fdca26\"],[1.0,\"#f0f921\"]],\"type\":\"contour\"}],\"heatmapgl\":[{\"colorbar\":{\"outlinewidth\":0,\"ticks\":\"\"},\"colorscale\":[[0.0,\"#0d0887\"],[0.1111111111111111,\"#46039f\"],[0.2222222222222222,\"#7201a8\"],[0.3333333333333333,\"#9c179e\"],[0.4444444444444444,\"#bd3786\"],[0.5555555555555556,\"#d8576b\"],[0.6666666666666666,\"#ed7953\"],[0.7777777777777778,\"#fb9f3a\"],[0.8888888888888888,\"#fdca26\"],[1.0,\"#f0f921\"]],\"type\":\"heatmapgl\"}],\"heatmap\":[{\"colorbar\":{\"outlinewidth\":0,\"ticks\":\"\"},\"colorscale\":[[0.0,\"#0d0887\"],[0.1111111111111111,\"#46039f\"],[0.2222222222222222,\"#7201a8\"],[0.3333333333333333,\"#9c179e\"],[0.4444444444444444,\"#bd3786\"],[0.5555555555555556,\"#d8576b\"],[0.6666666666666666,\"#ed7953\"],[0.7777777777777778,\"#fb9f3a\"],[0.8888888888888888,\"#fdca26\"],[1.0,\"#f0f921\"]],\"type\":\"heatmap\"}],\"histogram2dcontour\":[{\"colorbar\":{\"outlinewidth\":0,\"ticks\":\"\"},\"colorscale\":[[0.0,\"#0d0887\"],[0.1111111111111111,\"#46039f\"],[0.2222222222222222,\"#7201a8\"],[0.3333333333333333,\"#9c179e\"],[0.4444444444444444,\"#bd3786\"],[0.5555555555555556,\"#d8576b\"],[0.6666666666666666,\"#ed7953\"],[0.7777777777777778,\"#fb9f3a\"],[0.8888888888888888,\"#fdca26\"],[1.0,\"#f0f921\"]],\"type\":\"histogram2dcontour\"}],\"histogram2d\":[{\"colorbar\":{\"outlinewidth\":0,\"ticks\":\"\"},\"colorscale\":[[0.0,\"#0d0887\"],[0.1111111111111111,\"#46039f\"],[0.2222222222222222,\"#7201a8\"],[0.3333333333333333,\"#9c179e\"],[0.4444444444444444,\"#bd3786\"],[0.5555555555555556,\"#d8576b\"],[0.6666666666666666,\"#ed7953\"],[0.7777777777777778,\"#fb9f3a\"],[0.8888888888888888,\"#fdca26\"],[1.0,\"#f0f921\"]],\"type\":\"histogram2d\"}],\"histogram\":[{\"marker\":{\"pattern\":{\"fillmode\":\"overlay\",\"size\":10,\"solidity\":0.2}},\"type\":\"histogram\"}],\"mesh3d\":[{\"colorbar\":{\"outlinewidth\":0,\"ticks\":\"\"},\"type\":\"mesh3d\"}],\"parcoords\":[{\"line\":{\"colorbar\":{\"outlinewidth\":0,\"ticks\":\"\"}},\"type\":\"parcoords\"}],\"pie\":[{\"automargin\":true,\"type\":\"pie\"}],\"scatter3d\":[{\"line\":{\"colorbar\":{\"outlinewidth\":0,\"ticks\":\"\"}},\"marker\":{\"colorbar\":{\"outlinewidth\":0,\"ticks\":\"\"}},\"type\":\"scatter3d\"}],\"scattercarpet\":[{\"marker\":{\"colorbar\":{\"outlinewidth\":0,\"ticks\":\"\"}},\"type\":\"scattercarpet\"}],\"scattergeo\":[{\"marker\":{\"colorbar\":{\"outlinewidth\":0,\"ticks\":\"\"}},\"type\":\"scattergeo\"}],\"scattergl\":[{\"marker\":{\"colorbar\":{\"outlinewidth\":0,\"ticks\":\"\"}},\"type\":\"scattergl\"}],\"scattermapbox\":[{\"marker\":{\"colorbar\":{\"outlinewidth\":0,\"ticks\":\"\"}},\"type\":\"scattermapbox\"}],\"scatterpolargl\":[{\"marker\":{\"colorbar\":{\"outlinewidth\":0,\"ticks\":\"\"}},\"type\":\"scatterpolargl\"}],\"scatterpolar\":[{\"marker\":{\"colorbar\":{\"outlinewidth\":0,\"ticks\":\"\"}},\"type\":\"scatterpolar\"}],\"scatter\":[{\"fillpattern\":{\"fillmode\":\"overlay\",\"size\":10,\"solidity\":0.2},\"type\":\"scatter\"}],\"scatterternary\":[{\"marker\":{\"colorbar\":{\"outlinewidth\":0,\"ticks\":\"\"}},\"type\":\"scatterternary\"}],\"surface\":[{\"colorbar\":{\"outlinewidth\":0,\"ticks\":\"\"},\"colorscale\":[[0.0,\"#0d0887\"],[0.1111111111111111,\"#46039f\"],[0.2222222222222222,\"#7201a8\"],[0.3333333333333333,\"#9c179e\"],[0.4444444444444444,\"#bd3786\"],[0.5555555555555556,\"#d8576b\"],[0.6666666666666666,\"#ed7953\"],[0.7777777777777778,\"#fb9f3a\"],[0.8888888888888888,\"#fdca26\"],[1.0,\"#f0f921\"]],\"type\":\"surface\"}],\"table\":[{\"cells\":{\"fill\":{\"color\":\"#EBF0F8\"},\"line\":{\"color\":\"white\"}},\"header\":{\"fill\":{\"color\":\"#C8D4E3\"},\"line\":{\"color\":\"white\"}},\"type\":\"table\"}]},\"layout\":{\"annotationdefaults\":{\"arrowcolor\":\"#2a3f5f\",\"arrowhead\":0,\"arrowwidth\":1},\"autotypenumbers\":\"strict\",\"coloraxis\":{\"colorbar\":{\"outlinewidth\":0,\"ticks\":\"\"}},\"colorscale\":{\"diverging\":[[0,\"#8e0152\"],[0.1,\"#c51b7d\"],[0.2,\"#de77ae\"],[0.3,\"#f1b6da\"],[0.4,\"#fde0ef\"],[0.5,\"#f7f7f7\"],[0.6,\"#e6f5d0\"],[0.7,\"#b8e186\"],[0.8,\"#7fbc41\"],[0.9,\"#4d9221\"],[1,\"#276419\"]],\"sequential\":[[0.0,\"#0d0887\"],[0.1111111111111111,\"#46039f\"],[0.2222222222222222,\"#7201a8\"],[0.3333333333333333,\"#9c179e\"],[0.4444444444444444,\"#bd3786\"],[0.5555555555555556,\"#d8576b\"],[0.6666666666666666,\"#ed7953\"],[0.7777777777777778,\"#fb9f3a\"],[0.8888888888888888,\"#fdca26\"],[1.0,\"#f0f921\"]],\"sequentialminus\":[[0.0,\"#0d0887\"],[0.1111111111111111,\"#46039f\"],[0.2222222222222222,\"#7201a8\"],[0.3333333333333333,\"#9c179e\"],[0.4444444444444444,\"#bd3786\"],[0.5555555555555556,\"#d8576b\"],[0.6666666666666666,\"#ed7953\"],[0.7777777777777778,\"#fb9f3a\"],[0.8888888888888888,\"#fdca26\"],[1.0,\"#f0f921\"]]},\"colorway\":[\"#636efa\",\"#EF553B\",\"#00cc96\",\"#ab63fa\",\"#FFA15A\",\"#19d3f3\",\"#FF6692\",\"#B6E880\",\"#FF97FF\",\"#FECB52\"],\"font\":{\"color\":\"#2a3f5f\"},\"geo\":{\"bgcolor\":\"white\",\"lakecolor\":\"white\",\"landcolor\":\"#E5ECF6\",\"showlakes\":true,\"showland\":true,\"subunitcolor\":\"white\"},\"hoverlabel\":{\"align\":\"left\"},\"hovermode\":\"closest\",\"mapbox\":{\"style\":\"light\"},\"paper_bgcolor\":\"white\",\"plot_bgcolor\":\"#E5ECF6\",\"polar\":{\"angularaxis\":{\"gridcolor\":\"white\",\"linecolor\":\"white\",\"ticks\":\"\"},\"bgcolor\":\"#E5ECF6\",\"radialaxis\":{\"gridcolor\":\"white\",\"linecolor\":\"white\",\"ticks\":\"\"}},\"scene\":{\"xaxis\":{\"backgroundcolor\":\"#E5ECF6\",\"gridcolor\":\"white\",\"gridwidth\":2,\"linecolor\":\"white\",\"showbackground\":true,\"ticks\":\"\",\"zerolinecolor\":\"white\"},\"yaxis\":{\"backgroundcolor\":\"#E5ECF6\",\"gridcolor\":\"white\",\"gridwidth\":2,\"linecolor\":\"white\",\"showbackground\":true,\"ticks\":\"\",\"zerolinecolor\":\"white\"},\"zaxis\":{\"backgroundcolor\":\"#E5ECF6\",\"gridcolor\":\"white\",\"gridwidth\":2,\"linecolor\":\"white\",\"showbackground\":true,\"ticks\":\"\",\"zerolinecolor\":\"white\"}},\"shapedefaults\":{\"line\":{\"color\":\"#2a3f5f\"}},\"ternary\":{\"aaxis\":{\"gridcolor\":\"white\",\"linecolor\":\"white\",\"ticks\":\"\"},\"baxis\":{\"gridcolor\":\"white\",\"linecolor\":\"white\",\"ticks\":\"\"},\"bgcolor\":\"#E5ECF6\",\"caxis\":{\"gridcolor\":\"white\",\"linecolor\":\"white\",\"ticks\":\"\"}},\"title\":{\"x\":0.05},\"xaxis\":{\"automargin\":true,\"gridcolor\":\"white\",\"linecolor\":\"white\",\"ticks\":\"\",\"title\":{\"standoff\":15},\"zerolinecolor\":\"white\",\"zerolinewidth\":2},\"yaxis\":{\"automargin\":true,\"gridcolor\":\"white\",\"linecolor\":\"white\",\"ticks\":\"\",\"title\":{\"standoff\":15},\"zerolinecolor\":\"white\",\"zerolinewidth\":2}}},\"title\":{\"font\":{\"size\":16},\"text\":\"\\u003cbr\\u003eNetwork graph made with Python\"},\"xaxis\":{\"showgrid\":false,\"showticklabels\":false,\"zeroline\":false},\"yaxis\":{\"showgrid\":false,\"showticklabels\":false,\"zeroline\":false}},                        {\"responsive\": true}                    ).then(function(){\n",
       "                            \n",
       "var gd = document.getElementById('00856ec4-9304-4d24-8c00-c136654422ae');\n",
       "var x = new MutationObserver(function (mutations, observer) {{\n",
       "        var display = window.getComputedStyle(gd).display;\n",
       "        if (!display || display === 'none') {{\n",
       "            console.log([gd, 'removed!']);\n",
       "            Plotly.purge(gd);\n",
       "            observer.disconnect();\n",
       "        }}\n",
       "}});\n",
       "\n",
       "// Listen for the removal of the full notebook cells\n",
       "var notebookContainer = gd.closest('#notebook-container');\n",
       "if (notebookContainer) {{\n",
       "    x.observe(notebookContainer, {childList: true});\n",
       "}}\n",
       "\n",
       "// Listen for the clearing of the current output cell\n",
       "var outputEl = gd.closest('.output');\n",
       "if (outputEl) {{\n",
       "    x.observe(outputEl, {childList: true});\n",
       "}}\n",
       "\n",
       "                        })                };                });            </script>        </div>"
      ]
     },
     "metadata": {},
     "output_type": "display_data"
    }
   ],
   "source": [
    "start = 5\n",
    "goal = 34\n",
    "\n",
    "show_map(map_40, start=start, goal=goal, path=PathPlanner(map_40, start, goal).path)"
   ]
  },
  {
   "cell_type": "markdown",
   "metadata": {},
   "source": [
    "### Unit testing the path search algorithm\n",
    "If the code below produces no errors, algorithm is behaving correctly."
   ]
  },
  {
   "cell_type": "code",
   "execution_count": 123,
   "metadata": {},
   "outputs": [
    {
     "name": "stdout",
     "output_type": "stream",
     "text": [
      "All tests pass! Congratulations!\n"
     ]
    }
   ],
   "source": [
    "from path_search_test import test\n",
    "\n",
    "test(PathPlanner)"
   ]
  }
 ],
 "metadata": {
  "kernelspec": {
   "display_name": "Python 3 (ipykernel)",
   "language": "python",
   "name": "python3"
  },
  "language_info": {
   "codemirror_mode": {
    "name": "ipython",
    "version": 3
   },
   "file_extension": ".py",
   "mimetype": "text/x-python",
   "name": "python",
   "nbconvert_exporter": "python",
   "pygments_lexer": "ipython3",
   "version": "3.12.2"
  }
 },
 "nbformat": 4,
 "nbformat_minor": 4
}
